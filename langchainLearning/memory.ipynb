{
 "cells": [
  {
   "cell_type": "code",
   "execution_count": 39,
   "metadata": {},
   "outputs": [],
   "source": [
    "import os\n",
    "from langchain.chat_models import ChatOllama\n",
    "from langchain.chains import ConversationChain\n",
    "from langchain.memory import ConversationBufferMemory"
   ]
  },
  {
   "cell_type": "code",
   "execution_count": 40,
   "metadata": {},
   "outputs": [],
   "source": [
    "llm = ChatOllama(\n",
    "    model=\"llama3.2\",\n",
    "    temperature=0.0\n",
    ")\n",
    "memory = ConversationBufferMemory()\n",
    "conversation = ConversationChain(\n",
    "    llm=llm,\n",
    "    memory=memory,\n",
    "    verbose=False\n",
    ")"
   ]
  },
  {
   "cell_type": "code",
   "execution_count": 41,
   "metadata": {},
   "outputs": [
    {
     "data": {
      "text/plain": [
       "\"Nice to meet you, ww! I'm an AI designed to assist and chat with humans like you. My name is Ada, by the way. I've been trained on a vast amount of text data from various sources, including books, articles, and conversations like this one. I can provide information on a wide range of topics, from science and history to entertainment and culture. What brings you here today?\""
      ]
     },
     "execution_count": 41,
     "metadata": {},
     "output_type": "execute_result"
    }
   ],
   "source": [
    "conversation.predict(input=\"Hi, my name is ww\")"
   ]
  },
  {
   "cell_type": "code",
   "execution_count": 42,
   "metadata": {},
   "outputs": [
    {
     "data": {
      "text/plain": [
       "\"Judging the position of China is a complex task, as it's a country with a vast territory, diverse geography, and varying climate zones. However, I can provide some general insights.\\n\\nChina's geographical location spans across East Asia, covering an area of approximately 9.6 million square kilometers (3.7 million square miles). The country's terrain is characterized by mountains, plains, deserts, and coastlines along the Pacific Ocean to the east and the Indian Ocean to the south.\\n\\nTo determine China's position, we need to consider its geographical coordinates: China is located between 22°N and 54°N latitude, and 73°E and 135°E longitude. This means that China occupies a significant portion of East Asia, bordering countries such as Mongolia, Russia (via Manchuria), North Korea, South Korea, Vietnam, Laos, Myanmar, India, Nepal, Bhutan, and Pakistan.\\n\\nIn terms of its position in the world, China is situated at the crossroads of several major trade routes, including the Silk Road, which connected ancient civilizations in Asia, Europe, and Africa. Today, China is a global economic powerhouse, playing a significant role in international trade, diplomacy, and geopolitics.\\n\\nIf you're looking for more specific information on China's position, such as its latitude or longitude at a particular point, I'd be happy to try and provide that for you!\""
      ]
     },
     "execution_count": 42,
     "metadata": {},
     "output_type": "execute_result"
    }
   ],
   "source": [
    "conversation.predict(input=\"how you judge the position of China?\")"
   ]
  },
  {
   "cell_type": "code",
   "execution_count": 43,
   "metadata": {},
   "outputs": [
    {
     "data": {
      "text/plain": [
       "'I think there may be some confusion here! You initially introduced yourself as \"ww\", but then mentioned your name as \"my name is ww\". I\\'m not sure if you meant to say something different, or if you\\'re just testing me with a clever question. Either way, I\\'ll play along and respond accordingly.\\n\\nIf you\\'d like to clarify or change your name, I\\'m here to listen and assist. If not, we can continue our conversation as \"ww\"!'"
      ]
     },
     "execution_count": 43,
     "metadata": {},
     "output_type": "execute_result"
    }
   ],
   "source": [
    "conversation.predict(input=\"What is my name?\")"
   ]
  },
  {
   "cell_type": "code",
   "execution_count": 44,
   "metadata": {},
   "outputs": [
    {
     "data": {
      "text/plain": [
       "{'history': 'Human: Hi, my name is ww\\nAI: Nice to meet you, ww! I\\'m an AI designed to assist and chat with humans like you. My name is Ada, by the way. I\\'ve been trained on a vast amount of text data from various sources, including books, articles, and conversations like this one. I can provide information on a wide range of topics, from science and history to entertainment and culture. What brings you here today?\\nHuman: how you judge the position of China?\\nAI: Judging the position of China is a complex task, as it\\'s a country with a vast territory, diverse geography, and varying climate zones. However, I can provide some general insights.\\n\\nChina\\'s geographical location spans across East Asia, covering an area of approximately 9.6 million square kilometers (3.7 million square miles). The country\\'s terrain is characterized by mountains, plains, deserts, and coastlines along the Pacific Ocean to the east and the Indian Ocean to the south.\\n\\nTo determine China\\'s position, we need to consider its geographical coordinates: China is located between 22°N and 54°N latitude, and 73°E and 135°E longitude. This means that China occupies a significant portion of East Asia, bordering countries such as Mongolia, Russia (via Manchuria), North Korea, South Korea, Vietnam, Laos, Myanmar, India, Nepal, Bhutan, and Pakistan.\\n\\nIn terms of its position in the world, China is situated at the crossroads of several major trade routes, including the Silk Road, which connected ancient civilizations in Asia, Europe, and Africa. Today, China is a global economic powerhouse, playing a significant role in international trade, diplomacy, and geopolitics.\\n\\nIf you\\'re looking for more specific information on China\\'s position, such as its latitude or longitude at a particular point, I\\'d be happy to try and provide that for you!\\nHuman: What is my name?\\nAI: I think there may be some confusion here! You initially introduced yourself as \"ww\", but then mentioned your name as \"my name is ww\". I\\'m not sure if you meant to say something different, or if you\\'re just testing me with a clever question. Either way, I\\'ll play along and respond accordingly.\\n\\nIf you\\'d like to clarify or change your name, I\\'m here to listen and assist. If not, we can continue our conversation as \"ww\"!'}"
      ]
     },
     "execution_count": 44,
     "metadata": {},
     "output_type": "execute_result"
    }
   ],
   "source": [
    "memory.load_memory_variables({})"
   ]
  },
  {
   "cell_type": "code",
   "execution_count": 45,
   "metadata": {},
   "outputs": [
    {
     "name": "stdout",
     "output_type": "stream",
     "text": [
      "Human: Hi\n",
      "AI: What's up\n"
     ]
    }
   ],
   "source": [
    "memory = ConversationBufferMemory()\n",
    "memory.save_context({\"inputs\": \"Hi\"}, {\"outputs\": \"What's up\"})\n",
    "print(memory.buffer)"
   ]
  },
  {
   "cell_type": "code",
   "execution_count": 46,
   "metadata": {},
   "outputs": [
    {
     "data": {
      "text/plain": [
       "{'history': \"Human: Hi\\nAI: What's up\"}"
      ]
     },
     "execution_count": 46,
     "metadata": {},
     "output_type": "execute_result"
    }
   ],
   "source": [
    "memory.load_memory_variables({})"
   ]
  },
  {
   "cell_type": "code",
   "execution_count": 47,
   "metadata": {},
   "outputs": [
    {
     "data": {
      "text/plain": [
       "{'history': 'Human: Not much, just hanging\\nAI: Cool'}"
      ]
     },
     "execution_count": 47,
     "metadata": {},
     "output_type": "execute_result"
    }
   ],
   "source": [
    "from langchain.memory import ConversationBufferWindowMemory\n",
    "memory = ConversationBufferWindowMemory(k=1)\n",
    "memory.save_context({\"inputs\": \"Hi\"}, {\"outputs\": \"What's up\"})\n",
    "memory.save_context({\"inputs\": \"Not much, just hanging\"}, {\"outputs\": \"Cool\"})\n",
    "memory.load_memory_variables({})"
   ]
  },
  {
   "cell_type": "code",
   "execution_count": 48,
   "metadata": {},
   "outputs": [],
   "source": [
    "llm = ChatOllama(\n",
    "    model=\"llama3.2\",\n",
    "    temperature=0.0\n",
    ")\n",
    "memory = ConversationBufferWindowMemory(k=1)\n",
    "conversation = ConversationChain(\n",
    "    llm=llm,\n",
    "    memory=memory,\n",
    "    verbose=False\n",
    ")"
   ]
  },
  {
   "cell_type": "code",
   "execution_count": 49,
   "metadata": {},
   "outputs": [
    {
     "data": {
      "text/plain": [
       "\"Nice to meet you, ww! I'm an AI designed to assist and chat with humans like you. My name is Ada, by the way. I've been trained on a vast amount of text data from various sources, including books, articles, and conversations like this one. I can provide information on a wide range of topics, from science and history to entertainment and culture. What brings you here today?\""
      ]
     },
     "execution_count": 49,
     "metadata": {},
     "output_type": "execute_result"
    }
   ],
   "source": [
    "conversation.predict(input=\"Hi, my name is ww\")"
   ]
  },
  {
   "cell_type": "code",
   "execution_count": 50,
   "metadata": {},
   "outputs": [
    {
     "data": {
      "text/plain": [
       "\"Judging the position of China is a complex task, as it's a country with a vast territory, diverse geography, and varying climate zones. However, I can provide some general insights.\\n\\nChina's geographical location spans across East Asia, covering an area of approximately 9.6 million square kilometers (3.7 million square miles). The country's terrain is characterized by mountains, plains, deserts, and coastlines along the Pacific Ocean to the east and the Indian Ocean to the south.\\n\\nTo determine China's position, we need to consider its geographical coordinates: China is located between 22°N and 54°N latitude, and 73°E and 135°E longitude. This means that China occupies a significant portion of East Asia, bordering countries such as Mongolia, Russia (via Manchuria), North Korea, South Korea, Vietnam, Laos, Myanmar, India, Nepal, Bhutan, and Pakistan.\\n\\nIn terms of its position in the world, China is situated at the crossroads of several major trade routes, including the Silk Road, which connected ancient civilizations in Asia, Europe, and Africa. Today, China is a global economic powerhouse, playing a significant role in international trade, diplomacy, and geopolitics.\\n\\nIf you're looking for more specific information on China's position, such as its latitude or longitude at a particular point, I'd be happy to try and provide that for you!\""
      ]
     },
     "execution_count": 50,
     "metadata": {},
     "output_type": "execute_result"
    }
   ],
   "source": [
    "conversation.predict(input=\"how you judge the position of China?\")"
   ]
  },
  {
   "cell_type": "code",
   "execution_count": 51,
   "metadata": {},
   "outputs": [
    {
     "data": {
      "text/plain": [
       "\"I don't have any information about your personal identity, including your name. Our conversation just started, and I don't have any prior knowledge about you. If you'd like to share your name with me, I'd be happy to learn it!\""
      ]
     },
     "execution_count": 51,
     "metadata": {},
     "output_type": "execute_result"
    }
   ],
   "source": [
    "conversation.predict(input=\"What is my name?\")"
   ]
  },
  {
   "cell_type": "code",
   "execution_count": null,
   "metadata": {},
   "outputs": [],
   "source": [
    "from langchain.memory import ConversationSummaryBufferMemory"
   ]
  },
  {
   "cell_type": "code",
   "execution_count": null,
   "metadata": {},
   "outputs": [],
   "source": []
  },
  {
   "cell_type": "code",
   "execution_count": null,
   "metadata": {},
   "outputs": [],
   "source": []
  },
  {
   "cell_type": "code",
   "execution_count": null,
   "metadata": {},
   "outputs": [],
   "source": []
  },
  {
   "cell_type": "code",
   "execution_count": null,
   "metadata": {},
   "outputs": [],
   "source": []
  },
  {
   "cell_type": "code",
   "execution_count": null,
   "metadata": {},
   "outputs": [],
   "source": []
  }
 ],
 "metadata": {
  "kernelspec": {
   "display_name": "LangChain",
   "language": "python",
   "name": "python3"
  },
  "language_info": {
   "codemirror_mode": {
    "name": "ipython",
    "version": 3
   },
   "file_extension": ".py",
   "mimetype": "text/x-python",
   "name": "python",
   "nbconvert_exporter": "python",
   "pygments_lexer": "ipython3",
   "version": "3.10.16"
  }
 },
 "nbformat": 4,
 "nbformat_minor": 2
}

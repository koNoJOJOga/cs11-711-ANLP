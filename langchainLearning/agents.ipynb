{
 "cells": [
  {
   "cell_type": "code",
   "execution_count": null,
   "metadata": {},
   "outputs": [],
   "source": [
    "import os\n",
    "import warnings \n",
    "warnings.filterwarnings(\"ignore\")"
   ]
  },
  {
   "cell_type": "code",
   "execution_count": 1,
   "metadata": {},
   "outputs": [],
   "source": [
    "from langchain_community.chat_models import ChatOllama\n",
    "from langchain_experimental.agents.agent_toolkits import create_python_agent\n",
    "from langchain.agents import load_tools, initialize_agent\n",
    "from langchain.agents import AgentType\n",
    "from langchain_core.tools import Tool\n",
    "from langchain_experimental.tools.python.tool import PythonREPLTool\n",
    "from langchain_experimental.utilities import PythonREPL\n",
    "import langchain"
   ]
  },
  {
   "cell_type": "code",
   "execution_count": 2,
   "metadata": {},
   "outputs": [
    {
     "name": "stderr",
     "output_type": "stream",
     "text": [
      "/var/folders/2l/kbtkcdzj4k9d1m8zn4816z9r0000gn/T/ipykernel_28755/3936198276.py:1: LangChainDeprecationWarning: The class `ChatOllama` was deprecated in LangChain 0.3.1 and will be removed in 1.0.0. An updated version of the class exists in the :class:`~langchain-ollama package and should be used instead. To use it run `pip install -U :class:`~langchain-ollama` and import as `from :class:`~langchain_ollama import ChatOllama``.\n",
      "  llm = ChatOllama(\n"
     ]
    }
   ],
   "source": [
    "llm = ChatOllama(\n",
    "    model=\"qwen2.5:7b\",\n",
    "    temperature=0.0\n",
    ")"
   ]
  },
  {
   "cell_type": "code",
   "execution_count": null,
   "metadata": {},
   "outputs": [],
   "source": [
    "tools = load_tools([\"llm-math\", \"wikipedia\"], llm=llm)"
   ]
  },
  {
   "cell_type": "code",
   "execution_count": 4,
   "metadata": {},
   "outputs": [
    {
     "name": "stderr",
     "output_type": "stream",
     "text": [
      "/var/folders/2l/kbtkcdzj4k9d1m8zn4816z9r0000gn/T/ipykernel_28755/1713501272.py:1: LangChainDeprecationWarning: LangChain agents will continue to be supported, but it is recommended for new use cases to be built with LangGraph. LangGraph offers a more flexible and full-featured framework for building agents, including support for tool-calling, persistence of state, and human-in-the-loop workflows. For details, refer to the `LangGraph documentation <https://langchain-ai.github.io/langgraph/>`_ as well as guides for `Migrating from AgentExecutor <https://python.langchain.com/docs/how_to/migrate_agent/>`_ and LangGraph's `Pre-built ReAct agent <https://langchain-ai.github.io/langgraph/how-tos/create-react-agent/>`_.\n",
      "  agent = initialize_agent(\n"
     ]
    }
   ],
   "source": [
    "agent = initialize_agent(\n",
    "    tools,            # 工具列表，包含数学计算和维基百科查询工具\n",
    "    llm,             # 语言模型实例，使用 qwen2-math 模型\n",
    "    agent=AgentType.CHAT_ZERO_SHOT_REACT_DESCRIPTION,    # 代理类型：零样本对话式代理\n",
    "    handle_parsing_errors=True,    # 启用解析错误处理。这在lm无法解析为操作和操作输入的内容时非常有用，这是期望的输出。会将格式不正确的文本传回语言模型，并要求其进行自我纠正。\n",
    "    verbose=True     # 启用详细输出模式\n",
    ")"
   ]
  },
  {
   "cell_type": "code",
   "execution_count": 5,
   "metadata": {},
   "outputs": [],
   "source": [
    "langchain.debug = False"
   ]
  },
  {
   "cell_type": "code",
   "execution_count": 6,
   "metadata": {},
   "outputs": [
    {
     "name": "stderr",
     "output_type": "stream",
     "text": [
      "/var/folders/2l/kbtkcdzj4k9d1m8zn4816z9r0000gn/T/ipykernel_28755/1453878245.py:1: LangChainDeprecationWarning: The method `Chain.__call__` was deprecated in langchain 0.1.0 and will be removed in 1.0. Use :meth:`~invoke` instead.\n",
      "  agent(\"What is the 25% of 300?\")\n"
     ]
    },
    {
     "name": "stdout",
     "output_type": "stream",
     "text": [
      "\n",
      "\n",
      "\u001b[1m> Entering new AgentExecutor chain...\u001b[0m\n",
      "\u001b[32;1m\u001b[1;3mQuestion: What is the 25% of 300?\n",
      "Thought: I need to calculate 25% of 300, which can be done by multiplying 300 by 0.25.\n",
      "Action:\n",
      "```\n",
      "{\n",
      "  \"action\": \"Calculator\",\n",
      "  \"action_input\": \"300 * 0.25\"\n",
      "}\n",
      "```\n",
      "\u001b[0m\n",
      "Observation: \u001b[36;1m\u001b[1;3mAnswer: 75.0\u001b[0m\n",
      "Thought:\u001b[32;1m\u001b[1;3mI now know the final answer\n",
      "Final Answer: The 25% of 300 is 75.\u001b[0m\n",
      "\n",
      "\u001b[1m> Finished chain.\u001b[0m\n"
     ]
    },
    {
     "data": {
      "text/plain": [
       "{'input': 'What is the 25% of 300?', 'output': 'The 25% of 300 is 75.'}"
      ]
     },
     "execution_count": 6,
     "metadata": {},
     "output_type": "execute_result"
    }
   ],
   "source": [
    "agent(\"What is the 25% of 300?\")"
   ]
  },
  {
   "cell_type": "code",
   "execution_count": 9,
   "metadata": {},
   "outputs": [
    {
     "name": "stdout",
     "output_type": "stream",
     "text": [
      "\n",
      "\n",
      "\u001b[1m> Entering new AgentExecutor chain...\u001b[0m\n",
      "\u001b[32;1m\u001b[1;3mThought: I need to search Wikipedia for information about Tom M. Mitchell's books.\n",
      "Action:\n",
      "```\n",
      "{\n",
      "  \"action\": \"wikipedia\",\n",
      "  \"action_input\": \"Tom M. Mitchell books\"\n",
      "}\n",
      "```\u001b[0m\n",
      "Observation: \u001b[33;1m\u001b[1;3mPage: Tom M. Mitchell\n",
      "Summary: Tom Michael Mitchell (born August 9, 1951) is an American computer scientist and the Founders University Professor at Carnegie Mellon University (CMU). He is a founder and former chair of the Machine Learning Department at CMU. Mitchell is known for his contributions to the advancement of machine learning, artificial intelligence, and cognitive neuroscience and is the author of the textbook Machine Learning. He is a member of the United States National Academy of Engineering since 2010. He is also a Fellow of the American Academy of Arts and Sciences, the American Association for the Advancement of Science and a Fellow and past president of the Association for the Advancement of Artificial Intelligence. In October 2018, Mitchell was appointed as the Interim Dean of the School of Computer Science at Carnegie Mellon.\n",
      "\n",
      "Page: Hejira (album)\n",
      "Summary: Hejira is the eighth studio album by Canadian singer-songwriter Joni Mitchell, released in 1976 on Asylum Records. Its material was written during a period of frequent travel in late 1975 and early 1976, and reflects Mitchell's experiences on the road during that time. It is characterized by lyrically dense, sprawling songs and musical backing by several jazz-oriented instrumentalists, most prominently fretless bass player Jaco Pastorius, guitarist Larry Carlton, and drummer John Guerin.\n",
      "The album did not sell as well as its predecessors, peaking at No. 22 in Mitchell's native Canada. It reached No. 13 on the Billboard 200 pop album chart in the United States, where it was certified gold by the RIAA, and No. 11 in the UK, where it attained a silver certification. Critically, the album was generally well received, and in the years since its release, Hejira has been considered one of the high marks of her career. The lead track \"Coyote\" was released as a single.\n",
      "\n",
      "Page: Court and Spark\n",
      "Summary: Court and Spark is the sixth studio album by Canadian singer-songwriter Joni Mitchell. Released by A&M in January 1974, it infuses the folk rock style of her previous albums with jazz elements.\n",
      "It was an immediate commercial and critical success—and remains her most successful album. It reached No. 2 in the United States and No. 1 in Canada and eventually received a double platinum certification by the RIAA, the highest of Mitchell's career. It also reached the Top 20 in the UK and was voted the best album of the year for 1974 in The Village Voice Pazz & Jop Critics Poll. In 2020, it was ranked at number 110 in Rolling Stone's 500 Greatest Albums of All Time.\n",
      "In 2004, Court and Spark was inducted into the Grammy Hall of Fame.\u001b[0m\n",
      "Thought:\u001b[32;1m\u001b[1;3mThought: The Wikipedia page for Tom M. Mitchell mentions that he is the author of a textbook on machine learning. I should focus on this information.\n",
      "\n",
      "Action:\n",
      "```\n",
      "{\n",
      "  \"action\": \"wikipedia\",\n",
      "  \"action_input\": \"Tom M. Mitchell Machine Learning\"\n",
      "}\n",
      "```\n",
      "\u001b[0m\n",
      "Observation: \u001b[33;1m\u001b[1;3mPage: Tom M. Mitchell\n",
      "Summary: Tom Michael Mitchell (born August 9, 1951) is an American computer scientist and the Founders University Professor at Carnegie Mellon University (CMU). He is a founder and former chair of the Machine Learning Department at CMU. Mitchell is known for his contributions to the advancement of machine learning, artificial intelligence, and cognitive neuroscience and is the author of the textbook Machine Learning. He is a member of the United States National Academy of Engineering since 2010. He is also a Fellow of the American Academy of Arts and Sciences, the American Association for the Advancement of Science and a Fellow and past president of the Association for the Advancement of Artificial Intelligence. In October 2018, Mitchell was appointed as the Interim Dean of the School of Computer Science at Carnegie Mellon.\n",
      "\n",
      "Page: Ensemble learning\n",
      "Summary: In statistics and machine learning, ensemble methods use multiple learning algorithms to obtain better predictive performance than could be obtained from any of the constituent learning algorithms alone.\n",
      "Unlike a statistical ensemble in statistical mechanics, which is usually infinite, a machine learning ensemble consists of only a concrete finite set of alternative models, but typically allows for much more flexible structure to exist among those alternatives.\n",
      "\n",
      "Page: Machine learning\n",
      "Summary: Machine learning (ML) is a field of study in artificial intelligence concerned with the development and study of statistical algorithms that can learn from data and generalize to unseen data, and thus perform tasks without explicit instructions. Within a subdiscipline in machine learning, advances in the field of deep learning have allowed neural networks, a class of statistical algorithms, to surpass many previous machine learning approaches in performance.\n",
      "ML finds application in many fields, including natural language processing, computer vision, speech recognition, email filtering, agriculture, and medicine. The application of ML to business problems is known as predictive analytics.\n",
      "Statistics and mathematical optimization (mathematical programming) methods comprise the foundations of machine learning. Data mining is a related field of study, focusing on exploratory data analysis (EDA) via unsupervised learning. \n",
      "From a theoretical viewpoint, probably approximately correct learning provides a framework for describing machine learning.\u001b[0m\n",
      "Thought:\u001b[32;1m\u001b[1;3mFinal Answer: The book written by Tom M. Mitchell is \"Machine Learning\".\u001b[0m\n",
      "\n",
      "\u001b[1m> Finished chain.\u001b[0m\n"
     ]
    }
   ],
   "source": [
    "question = \"Tom M. Mitchell is an American computer scientist and the Founders University professor at Carnegie Mellon University(CMU). What book did he write?\"\n",
    "result = agent(question)"
   ]
  },
  {
   "cell_type": "markdown",
   "metadata": {},
   "source": [
    "实现类似copilot的功能"
   ]
  },
  {
   "cell_type": "code",
   "execution_count": 10,
   "metadata": {},
   "outputs": [],
   "source": [
    "agent = create_python_agent(\n",
    "    llm,\n",
    "    tool=PythonREPLTool(),\n",
    "    verbose=True\n",
    ")"
   ]
  },
  {
   "cell_type": "code",
   "execution_count": 11,
   "metadata": {},
   "outputs": [],
   "source": [
    "customer_list = [\n",
    "    [\"Harrison\", \"Chase\"],\n",
    "    [\"Morgan\", \"Freeman\"],\n",
    "    [\"Tom\", \"Hanks\"],\n",
    "    [\"Denzel\", \"Washington\"],\n",
    "    [\"Will\", \"Smith\"],\n",
    "    [\"Samuel\", \"L. Jackson\"],\n",
    "    [\"Tom\", \"Cruise\"],\n",
    "    [\"Robert\", \"De Niro\"],\n",
    "    [\"Brad\", \"Pitt\"],\n",
    "    [\"Leonardo\", \"DiCaprio\"]\n",
    "]"
   ]
  },
  {
   "cell_type": "code",
   "execution_count": 12,
   "metadata": {},
   "outputs": [
    {
     "name": "stderr",
     "output_type": "stream",
     "text": [
      "/var/folders/2l/kbtkcdzj4k9d1m8zn4816z9r0000gn/T/ipykernel_28755/3062667223.py:1: LangChainDeprecationWarning: The method `Chain.run` was deprecated in langchain 0.1.0 and will be removed in 1.0. Use :meth:`~invoke` instead.\n",
      "  agent.run(f\"\"\"Sort these customers by last name and then first name and print the output: {customer_list}\"\"\")\n"
     ]
    },
    {
     "name": "stdout",
     "output_type": "stream",
     "text": [
      "\n",
      "\n",
      "\u001b[1m> Entering new AgentExecutor chain...\u001b[0m\n"
     ]
    },
    {
     "name": "stderr",
     "output_type": "stream",
     "text": [
      "Python REPL can execute arbitrary code. Use with caution.\n"
     ]
    },
    {
     "name": "stdout",
     "output_type": "stream",
     "text": [
      "\u001b[32;1m\u001b[1;3mTo sort the customers by last name and then first name, I can use Python's `sorted` function with a custom key that sorts based on the last and first names.\n",
      "\n",
      "Action: Python_REPL\n",
      "Action Input: customers = [['Harrison', 'Chase'], ['Morgan', 'Freeman'], ['Tom', 'Hanks'], ['Denzel', 'Washington'], ['Will', 'Smith'], ['Samuel', 'L. Jackson'], ['Tom', 'Cruise'], ['Robert', 'De Niro'], ['Brad', 'Pitt'], ['Leonardo', 'DiCaprio']]; sorted_customers = sorted(customers, key=lambda x: (x[1], x[0])); print(sorted_customers)\u001b[0m\n",
      "Observation: \u001b[36;1m\u001b[1;3m[['Harrison', 'Chase'], ['Tom', 'Cruise'], ['Robert', 'De Niro'], ['Leonardo', 'DiCaprio'], ['Morgan', 'Freeman'], ['Tom', 'Hanks'], ['Samuel', 'L. Jackson'], ['Brad', 'Pitt'], ['Will', 'Smith'], ['Denzel', 'Washington']]\n",
      "\u001b[0m\n",
      "Thought:\u001b[32;1m\u001b[1;3mI now know the final answer.\n",
      "Final Answer: The customers sorted by last name and then first name are as follows: [['Harrison', 'Chase'], ['Tom', 'Cruise'], ['Robert', 'De Niro'], ['Leonardo', 'DiCaprio'], ['Morgan', 'Freeman'], ['Tom', 'Hanks'], ['Samuel', 'L. Jackson'], ['Brad', 'Pitt'], ['Will', 'Smith'], ['Denzel', 'Washington']].\u001b[0m\n",
      "\n",
      "\u001b[1m> Finished chain.\u001b[0m\n"
     ]
    },
    {
     "data": {
      "text/plain": [
       "\"The customers sorted by last name and then first name are as follows: [['Harrison', 'Chase'], ['Tom', 'Cruise'], ['Robert', 'De Niro'], ['Leonardo', 'DiCaprio'], ['Morgan', 'Freeman'], ['Tom', 'Hanks'], ['Samuel', 'L. Jackson'], ['Brad', 'Pitt'], ['Will', 'Smith'], ['Denzel', 'Washington']].\""
      ]
     },
     "execution_count": 12,
     "metadata": {},
     "output_type": "execute_result"
    }
   ],
   "source": [
    "agent.run(f\"\"\"Sort these customers by last name and then first name and print the output: {customer_list}\"\"\")"
   ]
  },
  {
   "cell_type": "code",
   "execution_count": 13,
   "metadata": {},
   "outputs": [
    {
     "name": "stdout",
     "output_type": "stream",
     "text": [
      "\u001b[32;1m\u001b[1;3m[chain/start]\u001b[0m \u001b[1m[chain:AgentExecutor] Entering Chain run with input:\n",
      "\u001b[0m{\n",
      "  \"input\": \"Sort these customers by last name and then first name and print the output: [['Harrison', 'Chase'], ['Morgan', 'Freeman'], ['Tom', 'Hanks'], ['Denzel', 'Washington'], ['Will', 'Smith'], ['Samuel', 'L. Jackson'], ['Tom', 'Cruise'], ['Robert', 'De Niro'], ['Brad', 'Pitt'], ['Leonardo', 'DiCaprio']]\"\n",
      "}\n",
      "\u001b[32;1m\u001b[1;3m[chain/start]\u001b[0m \u001b[1m[chain:AgentExecutor > chain:LLMChain] Entering Chain run with input:\n",
      "\u001b[0m{\n",
      "  \"input\": \"Sort these customers by last name and then first name and print the output: [['Harrison', 'Chase'], ['Morgan', 'Freeman'], ['Tom', 'Hanks'], ['Denzel', 'Washington'], ['Will', 'Smith'], ['Samuel', 'L. Jackson'], ['Tom', 'Cruise'], ['Robert', 'De Niro'], ['Brad', 'Pitt'], ['Leonardo', 'DiCaprio']]\",\n",
      "  \"agent_scratchpad\": \"\",\n",
      "  \"stop\": [\n",
      "    \"\\nObservation:\",\n",
      "    \"\\n\\tObservation:\"\n",
      "  ]\n",
      "}\n",
      "\u001b[32;1m\u001b[1;3m[llm/start]\u001b[0m \u001b[1m[chain:AgentExecutor > chain:LLMChain > llm:ChatOllama] Entering LLM run with input:\n",
      "\u001b[0m{\n",
      "  \"prompts\": [\n",
      "    \"Human: You are an agent designed to write and execute python code to answer questions.\\nYou have access to a python REPL, which you can use to execute python code.\\nIf you get an error, debug your code and try again.\\nOnly use the output of your code to answer the question. \\nYou might know the answer without running any code, but you should still run the code to get the answer.\\nIf it does not seem like you can write code to answer the question, just return \\\"I don't know\\\" as the answer.\\n\\n\\nPython_REPL - A Python shell. Use this to execute python commands. Input should be a valid python command. If you want to see the output of a value, you should print it out with `print(...)`.\\n\\nUse the following format:\\n\\nQuestion: the input question you must answer\\nThought: you should always think about what to do\\nAction: the action to take, should be one of [Python_REPL]\\nAction Input: the input to the action\\nObservation: the result of the action\\n... (this Thought/Action/Action Input/Observation can repeat N times)\\nThought: I now know the final answer\\nFinal Answer: the final answer to the original input question\\n\\nBegin!\\n\\nQuestion: Sort these customers by last name and then first name and print the output: [['Harrison', 'Chase'], ['Morgan', 'Freeman'], ['Tom', 'Hanks'], ['Denzel', 'Washington'], ['Will', 'Smith'], ['Samuel', 'L. Jackson'], ['Tom', 'Cruise'], ['Robert', 'De Niro'], ['Brad', 'Pitt'], ['Leonardo', 'DiCaprio']]\\nThought:\"\n",
      "  ]\n",
      "}\n",
      "\u001b[36;1m\u001b[1;3m[llm/end]\u001b[0m \u001b[1m[chain:AgentExecutor > chain:LLMChain > llm:ChatOllama] [9.92s] Exiting LLM run with output:\n",
      "\u001b[0m{\n",
      "  \"generations\": [\n",
      "    [\n",
      "      {\n",
      "        \"text\": \"To sort the customers by last name and then first name, I can use Python's `sorted` function with a custom key that sorts based on the last and first names.\\n\\nAction: Python_REPL\\nAction Input: customers = [['Harrison', 'Chase'], ['Morgan', 'Freeman'], ['Tom', 'Hanks'], ['Denzel', 'Washington'], ['Will', 'Smith'], ['Samuel', 'L. Jackson'], ['Tom', 'Cruise'], ['Robert', 'De Niro'], ['Brad', 'Pitt'], ['Leonardo', 'DiCaprio']]; sorted_customers = sorted(customers, key=lambda x: (x[1], x[0])); print(sorted_customers)\",\n",
      "        \"generation_info\": {\n",
      "          \"model\": \"qwen2.5:7b\",\n",
      "          \"created_at\": \"2025-03-06T13:33:20.431346Z\",\n",
      "          \"message\": {\n",
      "            \"role\": \"assistant\",\n",
      "            \"content\": \"\"\n",
      "          },\n",
      "          \"done_reason\": \"stop\",\n",
      "          \"done\": true,\n",
      "          \"total_duration\": 9903213291,\n",
      "          \"load_duration\": 571418958,\n",
      "          \"prompt_eval_count\": 376,\n",
      "          \"prompt_eval_duration\": 2883000000,\n",
      "          \"eval_count\": 153,\n",
      "          \"eval_duration\": 6215000000\n",
      "        },\n",
      "        \"type\": \"ChatGeneration\",\n",
      "        \"message\": {\n",
      "          \"lc\": 1,\n",
      "          \"type\": \"constructor\",\n",
      "          \"id\": [\n",
      "            \"langchain\",\n",
      "            \"schema\",\n",
      "            \"messages\",\n",
      "            \"AIMessage\"\n",
      "          ],\n",
      "          \"kwargs\": {\n",
      "            \"content\": \"To sort the customers by last name and then first name, I can use Python's `sorted` function with a custom key that sorts based on the last and first names.\\n\\nAction: Python_REPL\\nAction Input: customers = [['Harrison', 'Chase'], ['Morgan', 'Freeman'], ['Tom', 'Hanks'], ['Denzel', 'Washington'], ['Will', 'Smith'], ['Samuel', 'L. Jackson'], ['Tom', 'Cruise'], ['Robert', 'De Niro'], ['Brad', 'Pitt'], ['Leonardo', 'DiCaprio']]; sorted_customers = sorted(customers, key=lambda x: (x[1], x[0])); print(sorted_customers)\",\n",
      "            \"response_metadata\": {\n",
      "              \"model\": \"qwen2.5:7b\",\n",
      "              \"created_at\": \"2025-03-06T13:33:20.431346Z\",\n",
      "              \"message\": {\n",
      "                \"role\": \"assistant\",\n",
      "                \"content\": \"\"\n",
      "              },\n",
      "              \"done_reason\": \"stop\",\n",
      "              \"done\": true,\n",
      "              \"total_duration\": 9903213291,\n",
      "              \"load_duration\": 571418958,\n",
      "              \"prompt_eval_count\": 376,\n",
      "              \"prompt_eval_duration\": 2883000000,\n",
      "              \"eval_count\": 153,\n",
      "              \"eval_duration\": 6215000000\n",
      "            },\n",
      "            \"type\": \"ai\",\n",
      "            \"id\": \"run-8bdd468c-fa22-4669-9bad-f6689b5069f5-0\",\n",
      "            \"tool_calls\": [],\n",
      "            \"invalid_tool_calls\": []\n",
      "          }\n",
      "        }\n",
      "      }\n",
      "    ]\n",
      "  ],\n",
      "  \"llm_output\": null,\n",
      "  \"run\": null,\n",
      "  \"type\": \"LLMResult\"\n",
      "}\n",
      "\u001b[36;1m\u001b[1;3m[chain/end]\u001b[0m \u001b[1m[chain:AgentExecutor > chain:LLMChain] [9.92s] Exiting Chain run with output:\n",
      "\u001b[0m{\n",
      "  \"text\": \"To sort the customers by last name and then first name, I can use Python's `sorted` function with a custom key that sorts based on the last and first names.\\n\\nAction: Python_REPL\\nAction Input: customers = [['Harrison', 'Chase'], ['Morgan', 'Freeman'], ['Tom', 'Hanks'], ['Denzel', 'Washington'], ['Will', 'Smith'], ['Samuel', 'L. Jackson'], ['Tom', 'Cruise'], ['Robert', 'De Niro'], ['Brad', 'Pitt'], ['Leonardo', 'DiCaprio']]; sorted_customers = sorted(customers, key=lambda x: (x[1], x[0])); print(sorted_customers)\"\n",
      "}\n",
      "\u001b[32;1m\u001b[1;3m[tool/start]\u001b[0m \u001b[1m[chain:AgentExecutor > tool:Python_REPL] Entering Tool run with input:\n",
      "\u001b[0m\"customers = [['Harrison', 'Chase'], ['Morgan', 'Freeman'], ['Tom', 'Hanks'], ['Denzel', 'Washington'], ['Will', 'Smith'], ['Samuel', 'L. Jackson'], ['Tom', 'Cruise'], ['Robert', 'De Niro'], ['Brad', 'Pitt'], ['Leonardo', 'DiCaprio']]; sorted_customers = sorted(customers, key=lambda x: (x[1], x[0])); print(sorted_customers)\"\n",
      "\u001b[36;1m\u001b[1;3m[tool/end]\u001b[0m \u001b[1m[chain:AgentExecutor > tool:Python_REPL] [5ms] Exiting Tool run with output:\n",
      "\u001b[0m\"[['Harrison', 'Chase'], ['Tom', 'Cruise'], ['Robert', 'De Niro'], ['Leonardo', 'DiCaprio'], ['Morgan', 'Freeman'], ['Tom', 'Hanks'], ['Samuel', 'L. Jackson'], ['Brad', 'Pitt'], ['Will', 'Smith'], ['Denzel', 'Washington']]\"\n",
      "\u001b[32;1m\u001b[1;3m[chain/start]\u001b[0m \u001b[1m[chain:AgentExecutor > chain:LLMChain] Entering Chain run with input:\n",
      "\u001b[0m{\n",
      "  \"input\": \"Sort these customers by last name and then first name and print the output: [['Harrison', 'Chase'], ['Morgan', 'Freeman'], ['Tom', 'Hanks'], ['Denzel', 'Washington'], ['Will', 'Smith'], ['Samuel', 'L. Jackson'], ['Tom', 'Cruise'], ['Robert', 'De Niro'], ['Brad', 'Pitt'], ['Leonardo', 'DiCaprio']]\",\n",
      "  \"agent_scratchpad\": \"To sort the customers by last name and then first name, I can use Python's `sorted` function with a custom key that sorts based on the last and first names.\\n\\nAction: Python_REPL\\nAction Input: customers = [['Harrison', 'Chase'], ['Morgan', 'Freeman'], ['Tom', 'Hanks'], ['Denzel', 'Washington'], ['Will', 'Smith'], ['Samuel', 'L. Jackson'], ['Tom', 'Cruise'], ['Robert', 'De Niro'], ['Brad', 'Pitt'], ['Leonardo', 'DiCaprio']]; sorted_customers = sorted(customers, key=lambda x: (x[1], x[0])); print(sorted_customers)\\nObservation: [['Harrison', 'Chase'], ['Tom', 'Cruise'], ['Robert', 'De Niro'], ['Leonardo', 'DiCaprio'], ['Morgan', 'Freeman'], ['Tom', 'Hanks'], ['Samuel', 'L. Jackson'], ['Brad', 'Pitt'], ['Will', 'Smith'], ['Denzel', 'Washington']]\\n\\nThought:\",\n",
      "  \"stop\": [\n",
      "    \"\\nObservation:\",\n",
      "    \"\\n\\tObservation:\"\n",
      "  ]\n",
      "}\n",
      "\u001b[32;1m\u001b[1;3m[llm/start]\u001b[0m \u001b[1m[chain:AgentExecutor > chain:LLMChain > llm:ChatOllama] Entering LLM run with input:\n",
      "\u001b[0m{\n",
      "  \"prompts\": [\n",
      "    \"Human: You are an agent designed to write and execute python code to answer questions.\\nYou have access to a python REPL, which you can use to execute python code.\\nIf you get an error, debug your code and try again.\\nOnly use the output of your code to answer the question. \\nYou might know the answer without running any code, but you should still run the code to get the answer.\\nIf it does not seem like you can write code to answer the question, just return \\\"I don't know\\\" as the answer.\\n\\n\\nPython_REPL - A Python shell. Use this to execute python commands. Input should be a valid python command. If you want to see the output of a value, you should print it out with `print(...)`.\\n\\nUse the following format:\\n\\nQuestion: the input question you must answer\\nThought: you should always think about what to do\\nAction: the action to take, should be one of [Python_REPL]\\nAction Input: the input to the action\\nObservation: the result of the action\\n... (this Thought/Action/Action Input/Observation can repeat N times)\\nThought: I now know the final answer\\nFinal Answer: the final answer to the original input question\\n\\nBegin!\\n\\nQuestion: Sort these customers by last name and then first name and print the output: [['Harrison', 'Chase'], ['Morgan', 'Freeman'], ['Tom', 'Hanks'], ['Denzel', 'Washington'], ['Will', 'Smith'], ['Samuel', 'L. Jackson'], ['Tom', 'Cruise'], ['Robert', 'De Niro'], ['Brad', 'Pitt'], ['Leonardo', 'DiCaprio']]\\nThought:To sort the customers by last name and then first name, I can use Python's `sorted` function with a custom key that sorts based on the last and first names.\\n\\nAction: Python_REPL\\nAction Input: customers = [['Harrison', 'Chase'], ['Morgan', 'Freeman'], ['Tom', 'Hanks'], ['Denzel', 'Washington'], ['Will', 'Smith'], ['Samuel', 'L. Jackson'], ['Tom', 'Cruise'], ['Robert', 'De Niro'], ['Brad', 'Pitt'], ['Leonardo', 'DiCaprio']]; sorted_customers = sorted(customers, key=lambda x: (x[1], x[0])); print(sorted_customers)\\nObservation: [['Harrison', 'Chase'], ['Tom', 'Cruise'], ['Robert', 'De Niro'], ['Leonardo', 'DiCaprio'], ['Morgan', 'Freeman'], ['Tom', 'Hanks'], ['Samuel', 'L. Jackson'], ['Brad', 'Pitt'], ['Will', 'Smith'], ['Denzel', 'Washington']]\\n\\nThought:\"\n",
      "  ]\n",
      "}\n",
      "\u001b[36;1m\u001b[1;3m[llm/end]\u001b[0m \u001b[1m[chain:AgentExecutor > chain:LLMChain > llm:ChatOllama] [5.44s] Exiting LLM run with output:\n",
      "\u001b[0m{\n",
      "  \"generations\": [\n",
      "    [\n",
      "      {\n",
      "        \"text\": \"I now know the final answer.\\nFinal Answer: The customers sorted by last name and then first name are as follows: [['Harrison', 'Chase'], ['Tom', 'Cruise'], ['Robert', 'De Niro'], ['Leonardo', 'DiCaprio'], ['Morgan', 'Freeman'], ['Tom', 'Hanks'], ['Samuel', 'L. Jackson'], ['Brad', 'Pitt'], ['Will', 'Smith'], ['Denzel', 'Washington']].\",\n",
      "        \"generation_info\": {\n",
      "          \"model\": \"qwen2.5:7b\",\n",
      "          \"created_at\": \"2025-03-06T13:33:25.888094Z\",\n",
      "          \"message\": {\n",
      "            \"role\": \"assistant\",\n",
      "            \"content\": \"\"\n",
      "          },\n",
      "          \"done_reason\": \"stop\",\n",
      "          \"done\": true,\n",
      "          \"total_duration\": 5414437833,\n",
      "          \"load_duration\": 21050583,\n",
      "          \"prompt_eval_count\": 609,\n",
      "          \"prompt_eval_duration\": 1150000000,\n",
      "          \"eval_count\": 102,\n",
      "          \"eval_duration\": 4234000000\n",
      "        },\n",
      "        \"type\": \"ChatGeneration\",\n",
      "        \"message\": {\n",
      "          \"lc\": 1,\n",
      "          \"type\": \"constructor\",\n",
      "          \"id\": [\n",
      "            \"langchain\",\n",
      "            \"schema\",\n",
      "            \"messages\",\n",
      "            \"AIMessage\"\n",
      "          ],\n",
      "          \"kwargs\": {\n",
      "            \"content\": \"I now know the final answer.\\nFinal Answer: The customers sorted by last name and then first name are as follows: [['Harrison', 'Chase'], ['Tom', 'Cruise'], ['Robert', 'De Niro'], ['Leonardo', 'DiCaprio'], ['Morgan', 'Freeman'], ['Tom', 'Hanks'], ['Samuel', 'L. Jackson'], ['Brad', 'Pitt'], ['Will', 'Smith'], ['Denzel', 'Washington']].\",\n",
      "            \"response_metadata\": {\n",
      "              \"model\": \"qwen2.5:7b\",\n",
      "              \"created_at\": \"2025-03-06T13:33:25.888094Z\",\n",
      "              \"message\": {\n",
      "                \"role\": \"assistant\",\n",
      "                \"content\": \"\"\n",
      "              },\n",
      "              \"done_reason\": \"stop\",\n",
      "              \"done\": true,\n",
      "              \"total_duration\": 5414437833,\n",
      "              \"load_duration\": 21050583,\n",
      "              \"prompt_eval_count\": 609,\n",
      "              \"prompt_eval_duration\": 1150000000,\n",
      "              \"eval_count\": 102,\n",
      "              \"eval_duration\": 4234000000\n",
      "            },\n",
      "            \"type\": \"ai\",\n",
      "            \"id\": \"run-3ba3da1f-a96c-499e-828c-9141d80817d1-0\",\n",
      "            \"tool_calls\": [],\n",
      "            \"invalid_tool_calls\": []\n",
      "          }\n",
      "        }\n",
      "      }\n",
      "    ]\n",
      "  ],\n",
      "  \"llm_output\": null,\n",
      "  \"run\": null,\n",
      "  \"type\": \"LLMResult\"\n",
      "}\n",
      "\u001b[36;1m\u001b[1;3m[chain/end]\u001b[0m \u001b[1m[chain:AgentExecutor > chain:LLMChain] [5.44s] Exiting Chain run with output:\n",
      "\u001b[0m{\n",
      "  \"text\": \"I now know the final answer.\\nFinal Answer: The customers sorted by last name and then first name are as follows: [['Harrison', 'Chase'], ['Tom', 'Cruise'], ['Robert', 'De Niro'], ['Leonardo', 'DiCaprio'], ['Morgan', 'Freeman'], ['Tom', 'Hanks'], ['Samuel', 'L. Jackson'], ['Brad', 'Pitt'], ['Will', 'Smith'], ['Denzel', 'Washington']].\"\n",
      "}\n",
      "\u001b[36;1m\u001b[1;3m[chain/end]\u001b[0m \u001b[1m[chain:AgentExecutor] [15.37s] Exiting Chain run with output:\n",
      "\u001b[0m{\n",
      "  \"output\": \"The customers sorted by last name and then first name are as follows: [['Harrison', 'Chase'], ['Tom', 'Cruise'], ['Robert', 'De Niro'], ['Leonardo', 'DiCaprio'], ['Morgan', 'Freeman'], ['Tom', 'Hanks'], ['Samuel', 'L. Jackson'], ['Brad', 'Pitt'], ['Will', 'Smith'], ['Denzel', 'Washington']].\"\n",
      "}\n"
     ]
    }
   ],
   "source": [
    "langchain.debug = True\n",
    "agent.run(f\"\"\"Sort these customers by last name and then first name and print the output: {customer_list}\"\"\")\n",
    "langchain.debug = False"
   ]
  },
  {
   "cell_type": "markdown",
   "metadata": {},
   "source": [
    "agent有个重要功能是可以将其连接自己的信息源、自己的API和自己的数据"
   ]
  },
  {
   "cell_type": "code",
   "execution_count": 14,
   "metadata": {},
   "outputs": [],
   "source": [
    "from langchain.agents import tool\n",
    "from datetime import date"
   ]
  },
  {
   "cell_type": "code",
   "execution_count": 15,
   "metadata": {},
   "outputs": [],
   "source": [
    "# @tool decorator marks a function as a LangChain tool that can be used by agents\n",
    "# Basic syntax: @tool\n",
    "# def function_name(text: str) -> return_type:\n",
    "#     \"\"\"Docstring explaining what the tool does\"\"\"\n",
    "#     return value\n",
    "\n",
    "@tool\n",
    "def time(text: str) -> str:\n",
    "    \"\"\"Return today's date. Use this for any questions related to knowing today's date. \n",
    "    The input should always be an empty string, and this function will always return today's date \n",
    "    - any date mathematics should occur outside this function.\"\"\"\n",
    "    return str(date.today())"
   ]
  },
  {
   "cell_type": "code",
   "execution_count": 16,
   "metadata": {},
   "outputs": [],
   "source": [
    "agent = initialize_agent(\n",
    "    tools + [time],    # 工具列表，包含数学计算和维基百科查询工具\n",
    "    llm,\n",
    "    agent=AgentType.CHAT_ZERO_SHOT_REACT_DESCRIPTION,    # 代理类型：零样本对话式代理\n",
    "    handle_parsing_errors=True,    # 启用解析错误处理。这在lm无法解析为操作和操作输入的内容时非常有用，这是期望的输出。会将格式不正确的文本传回语言模型，并要求其进行自我纠正。\n",
    "    verbose=True     # 启用详细输出模式\n",
    ")"
   ]
  },
  {
   "cell_type": "code",
   "execution_count": 17,
   "metadata": {},
   "outputs": [
    {
     "name": "stdout",
     "output_type": "stream",
     "text": [
      "\n",
      "\n",
      "\u001b[1m> Entering new AgentExecutor chain...\u001b[0m\n",
      "\u001b[32;1m\u001b[1;3mQuestion: What is today's date?\n",
      "Thought: I need to get today's date.\n",
      "Action:\n",
      "```\n",
      "{\n",
      "  \"action\": \"time\",\n",
      "  \"action_input\": \"\"\n",
      "}\n",
      "```\u001b[0m\n",
      "Observation: \u001b[38;5;200m\u001b[1;3m2025-03-06\u001b[0m\n",
      "Thought:\u001b[32;1m\u001b[1;3mI now know the final answer\n",
      "Final Answer: Today's date is 2025-03-06.\u001b[0m\n",
      "\n",
      "\u001b[1m> Finished chain.\u001b[0m\n"
     ]
    },
    {
     "data": {
      "text/plain": [
       "\"Today's date is 2025-03-06.\""
      ]
     },
     "execution_count": 17,
     "metadata": {},
     "output_type": "execute_result"
    }
   ],
   "source": [
    "agent.run(\"What is today's date?\")"
   ]
  },
  {
   "cell_type": "code",
   "execution_count": null,
   "metadata": {},
   "outputs": [],
   "source": []
  },
  {
   "cell_type": "code",
   "execution_count": null,
   "metadata": {},
   "outputs": [],
   "source": []
  },
  {
   "cell_type": "code",
   "execution_count": null,
   "metadata": {},
   "outputs": [],
   "source": []
  },
  {
   "cell_type": "code",
   "execution_count": null,
   "metadata": {},
   "outputs": [],
   "source": []
  },
  {
   "cell_type": "code",
   "execution_count": null,
   "metadata": {},
   "outputs": [],
   "source": []
  },
  {
   "cell_type": "code",
   "execution_count": null,
   "metadata": {},
   "outputs": [],
   "source": []
  },
  {
   "cell_type": "code",
   "execution_count": null,
   "metadata": {},
   "outputs": [],
   "source": []
  },
  {
   "cell_type": "code",
   "execution_count": null,
   "metadata": {},
   "outputs": [],
   "source": []
  },
  {
   "cell_type": "code",
   "execution_count": null,
   "metadata": {},
   "outputs": [],
   "source": []
  }
 ],
 "metadata": {
  "kernelspec": {
   "display_name": "LangChain",
   "language": "python",
   "name": "python3"
  },
  "language_info": {
   "codemirror_mode": {
    "name": "ipython",
    "version": 3
   },
   "file_extension": ".py",
   "mimetype": "text/x-python",
   "name": "python",
   "nbconvert_exporter": "python",
   "pygments_lexer": "ipython3",
   "version": "3.10.16"
  }
 },
 "nbformat": 4,
 "nbformat_minor": 2
}

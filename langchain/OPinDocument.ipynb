{
 "cells": [
  {
   "cell_type": "code",
   "execution_count": 72,
   "metadata": {},
   "outputs": [],
   "source": [
    "import os\n",
    "import pandas as pd\n",
    "from langchain.document_loaders import DataFrameLoader\n",
    "from langchain.indexes import VectorstoreIndexCreator\n",
    "from langchain.vectorstores import DocArrayInMemorySearch\n",
    "from langchain.embeddings import HuggingFaceEmbeddings\n",
    "from langchain.chat_models import ChatOllama"
   ]
  },
  {
   "cell_type": "code",
   "execution_count": 73,
   "metadata": {},
   "outputs": [],
   "source": [
    "from langchain.chains import RetrievalQA    # Import RetrievalQA for creating a retrieval-based question answering chain.\n",
    "from langchain.document_loaders import CSVLoader # Import CSVLoader for loading data from CSV files.\n",
    "from IPython.display import display, Markdown   # Import display and Markdown from IPython.display for displaying formatted text."
   ]
  },
  {
   "cell_type": "code",
   "execution_count": 74,
   "metadata": {},
   "outputs": [],
   "source": [
    "file = 'OutdoorClothingCatalog_1000.csv'\n",
    "loader = CSVLoader(file_path=file)"
   ]
  },
  {
   "cell_type": "code",
   "execution_count": null,
   "metadata": {},
   "outputs": [],
   "source": [
    "from langchain.indexes import VectorstoreIndexCreator\n",
    "from langchain.embeddings import HuggingFaceEmbeddings\n"
   ]
  },
  {
   "cell_type": "code",
   "execution_count": null,
   "metadata": {},
   "outputs": [],
   "source": [
    "embeddings = HuggingFaceEmbeddings(model_name=\"all-MiniLM-L6-v2\")\n",
    "index = VectorstoreIndexCreator(\n",
    "    vectorstore_cls=DocArrayInMemorySearch,\n",
    "    embedding=embeddings\n",
    ").from_loaders([loader])"
   ]
  },
  {
   "cell_type": "code",
   "execution_count": 77,
   "metadata": {},
   "outputs": [],
   "source": [
    "query = \"Please list all your shirts with sun protection in a table in markdown and summarize each one.\""
   ]
  },
  {
   "cell_type": "code",
   "execution_count": 78,
   "metadata": {},
   "outputs": [],
   "source": [
    "llm = ChatOllama(\n",
    "    model=\"llama3.2\",\n",
    "    temperature=0.5\n",
    ")\n",
    "response = index.query(query, llm)"
   ]
  },
  {
   "cell_type": "code",
   "execution_count": 79,
   "metadata": {},
   "outputs": [
    {
     "data": {
      "text/markdown": [
       "| Product ID | Name | Category | Gender | Price | Color | Size | Material | Waterproof |\n",
       "| --- | --- | --- | --- | --- | --- | --- | --- | --- |\n",
       "| OC083 | Wilderness Sun Shirt | Shirts | Women | 59.99 | Light Blue | M | Nylon | No |\n",
       "| OC124 | Mountain Windshirt | Shirts | Women | 79.99 | Blue | M | Nylon | No |\n",
       "\n",
       "Note: I excluded the Mountain Sun Sleeves as it is an arm sleeve and not a full shirt, but rather an accessory to provide sun protection on specific areas of the body.\n",
       "\n",
       "Both shirts have UPF 50+ protection to prevent sun exposure in hot conditions. The Wilderness Sun Shirt is a long-sleeve shirt, while the Mountain Windshirt is a lightweight pullover."
      ],
      "text/plain": [
       "<IPython.core.display.Markdown object>"
      ]
     },
     "metadata": {},
     "output_type": "display_data"
    }
   ],
   "source": [
    "display(Markdown(response))"
   ]
  },
  {
   "cell_type": "markdown",
   "metadata": {},
   "source": [
    "<div align=\"center\">\n",
    "    <img src=\"1.png\" width=\"500\" height=\"330\" style=\"display: block; margin: 0 auto;\">\n",
    "    <img src=\"2.png\" width=\"1500\" height=\"400\" style=\"display: block; margin: 0 auto; margin-top: 10px;\">\n",
    "</div>"
   ]
  },
  {
   "cell_type": "markdown",
   "metadata": {},
   "source": [
    "接下来准备加深一下底层的理解"
   ]
  },
  {
   "cell_type": "code",
   "execution_count": 80,
   "metadata": {},
   "outputs": [
    {
     "data": {
      "text/plain": [
       "Document(metadata={'source': 'OutdoorClothingCatalog_1000.csv', 'row': 0}, page_content='product_id: OC001\\nname: Alpine Explorer Jacket\\ncategory: Jackets\\ngender: Men\\nprice: 249.99\\ncolor: Blue\\nsize: M\\nmaterial: Gore-Tex\\nwaterproof: Yes\\ndescription: Designed for serious mountaineers, this jacket offers maximum protection against harsh weather conditions.')"
      ]
     },
     "execution_count": 80,
     "metadata": {},
     "output_type": "execute_result"
    }
   ],
   "source": [
    "docs = loader.load()\n",
    "docs[0]"
   ]
  },
  {
   "cell_type": "code",
   "execution_count": 81,
   "metadata": {},
   "outputs": [
    {
     "name": "stdout",
     "output_type": "stream",
     "text": [
      "384\n",
      "[-0.06562487781047821, -0.03318195044994354, -0.02051895298063755, 0.054820042103528976, -0.04752255231142044]\n"
     ]
    }
   ],
   "source": [
    "embed = embeddings.embed_query(\"Hi, my name is ww.\")\n",
    "print(len(embed))\n",
    "print(embed[:5])"
   ]
  },
  {
   "cell_type": "code",
   "execution_count": 82,
   "metadata": {},
   "outputs": [],
   "source": [
    "db = DocArrayInMemorySearch.from_documents(docs, embeddings)"
   ]
  },
  {
   "cell_type": "code",
   "execution_count": 83,
   "metadata": {},
   "outputs": [],
   "source": [
    "query = \"Please suggest a shirt with sunblocking.\""
   ]
  },
  {
   "cell_type": "code",
   "execution_count": 84,
   "metadata": {},
   "outputs": [
    {
     "data": {
      "text/plain": [
       "[Document(metadata={'source': 'OutdoorClothingCatalog_1000.csv', 'row': 82}, page_content='product_id: OC083\\nname: Wilderness Sun Shirt\\ncategory: Shirts\\ngender: Women\\nprice: 59.99\\ncolor: Light Blue\\nsize: M\\nmaterial: Nylon\\nwaterproof: No\\ndescription: A long-sleeve shirt with UPF 50+ protection for sun exposure in hot conditions.'),\n",
       " Document(metadata={'source': 'OutdoorClothingCatalog_1000.csv', 'row': 69}, page_content='product_id: OC070\\nname: Mountain Sun Sleeves\\ncategory: Accessories\\ngender: Men\\nprice: 29.99\\ncolor: White\\nsize: L\\nmaterial: Nylon/Spandex\\nwaterproof: No\\ndescription: UPF 50+ arm sleeves that protect from sun exposure and are easily removed as temperatures change.'),\n",
       " Document(metadata={'source': 'OutdoorClothingCatalog_1000.csv', 'row': 97}, page_content='product_id: OC098\\nname: Ridgeline Trail Shirt\\ncategory: Shirts\\ngender: Men\\nprice: 59.99\\ncolor: Plaid Blue\\nsize: L\\nmaterial: Nylon/Polyester\\nwaterproof: No\\ndescription: A technical button-up shirt with ventilation features for hiking and travel.'),\n",
       " Document(metadata={'source': 'OutdoorClothingCatalog_1000.csv', 'row': 123}, page_content='product_id: OC124\\nname: Mountain Windshirt\\ncategory: Shirts\\ngender: Women\\nprice: 79.99\\ncolor: Blue\\nsize: M\\nmaterial: Nylon\\nwaterproof: No\\ndescription: A lightweight, wind-resistant pullover for cool, breezy conditions.')]"
      ]
     },
     "execution_count": 84,
     "metadata": {},
     "output_type": "execute_result"
    }
   ],
   "source": [
    "docs = db.similarity_search(query)\n",
    "list(docs)"
   ]
  },
  {
   "cell_type": "markdown",
   "metadata": {},
   "source": [
    "如何利用这个来在我们自己的文档上进行问答？"
   ]
  },
  {
   "cell_type": "markdown",
   "metadata": {},
   "source": [
    "检索器是一个通用接口，可以由任何接收查询并返回文档的方法支持，向量存储和嵌入是实现此目的的一种方法。"
   ]
  },
  {
   "cell_type": "code",
   "execution_count": 85,
   "metadata": {},
   "outputs": [],
   "source": [
    "retriever = db.as_retriever() # 创建一个检索器，它使用db（DocArrayInMemorySearch）作为其检索方法。"
   ]
  },
  {
   "cell_type": "code",
   "execution_count": 86,
   "metadata": {},
   "outputs": [],
   "source": [
    "llm = ChatOllama(\n",
    "    model=\"llama3.2\",\n",
    "    temperature=0.0\n",
    ")"
   ]
  },
  {
   "cell_type": "code",
   "execution_count": 87,
   "metadata": {},
   "outputs": [],
   "source": [
    "qdocs = \"\".join([docs[i].page_content for i in range(len(docs))])"
   ]
  },
  {
   "cell_type": "code",
   "execution_count": 88,
   "metadata": {},
   "outputs": [],
   "source": [
    "response = llm.call_as_llm(f\"{qdocs} Question: Please list all your shirts with sun protection in a table in markdown and summarize each one.\")"
   ]
  },
  {
   "cell_type": "code",
   "execution_count": 89,
   "metadata": {},
   "outputs": [
    {
     "data": {
      "text/markdown": [
       "| Product ID | Name | Category | Gender | Price | Color | Size | Material | Waterproof |\n",
       "| --- | --- | --- | --- | --- | --- | --- | --- | --- |\n",
       "| OC083 | Wilderness Sun Shirt | Shirts | Women | 59.99 | Light Blue | M | Nylon | No |\n",
       "| OC124 | Mountain Windshirt | Shirts | Women | 79.99 | Blue | M | Nylon | No |\n",
       "\n",
       "Here's a summary of each shirt with sun protection:\n",
       "\n",
       "* **Wilderness Sun Shirt (OC083)**: A long-sleeve shirt with UPF 50+ protection for hot conditions, providing sun exposure protection.\n",
       "* **Mountain Windshirt (OC124)**: A lightweight, wind-resistant pullover with no specific sun protection mentioned, but designed for cool, breezy conditions."
      ],
      "text/plain": [
       "<IPython.core.display.Markdown object>"
      ]
     },
     "metadata": {},
     "output_type": "display_data"
    }
   ],
   "source": [
    "display(Markdown(response))"
   ]
  },
  {
   "cell_type": "markdown",
   "metadata": {},
   "source": [
    "这些步骤都可以被LangChain链封装"
   ]
  },
  {
   "cell_type": "code",
   "execution_count": null,
   "metadata": {},
   "outputs": [],
   "source": [
    "# Create a RetrievalQA chain that combines a language model with a retrieval system for question answering\n",
    "qa_stuff = RetrievalQA.from_chain_type(\n",
    "    llm=llm,              # The language model (ChatOllama) to use for generating answers\n",
    "    chain_type='stuff',   # 'stuff' strategy: concatenates all documents into a single prompt\n",
    "    retriever=retriever,  # The retriever object that fetches relevant documents from the vector store\n",
    "    verbose=True         # Enable verbose mode to see the chain's internal operations\n",
    ")"
   ]
  },
  {
   "cell_type": "code",
   "execution_count": 99,
   "metadata": {},
   "outputs": [],
   "source": [
    "query = \"Please list all hat in a table using markdown and summarize each one.\""
   ]
  },
  {
   "cell_type": "code",
   "execution_count": 100,
   "metadata": {},
   "outputs": [
    {
     "name": "stdout",
     "output_type": "stream",
     "text": [
      "\n",
      "\n",
      "\u001b[1m> Entering new RetrievalQA chain...\u001b[0m\n",
      "\n",
      "\u001b[1m> Finished chain.\u001b[0m\n"
     ]
    }
   ],
   "source": [
    "response = qa_stuff.run(query)"
   ]
  },
  {
   "cell_type": "code",
   "execution_count": 101,
   "metadata": {},
   "outputs": [
    {
     "data": {
      "text/markdown": [
       "| **Product ID** | **Name** | **Category** | **Gender** | **Price** | **Color** | **Material** | **Waterproof** | **Description** |\n",
       "| --- | --- | --- | --- | --- | --- | --- | --- | --- |\n",
       "| OC075 | Trekker Trucker Hat | Accessories | Men | $29.99 | Gray/Black | Polyester/Mesh | No | Classic trucker hat with breathable mesh back for ventilation. |\n",
       "| OC113 | Wilderness Wool Cap | Accessories | Women | $39.99 | Gray | Wool | No | Classic wool cap with small brim for sun protection and style. |\n",
       "| OC182 | Ridgeline Hiking Hat - Wide Brim | Accessories | Unisex | $34.99 | Khaki | Nylon | No | Wide-brimmed hiking hat with UPF 50+ protection. |\n",
       "| OC160 | Mountain Sun Hat - UPF 50+ | Accessories | Unisex | $39.99 | Khaki | Nylon | No | Wide-brimmed sun hat with UPF 50+ protection and moisture-wicking sweatband. |\n",
       "\n",
       "Note: I've used markdown to format the table, but it's not a full-fledged table editor. If you need more features or customization options, please let me know!"
      ],
      "text/plain": [
       "<IPython.core.display.Markdown object>"
      ]
     },
     "metadata": {},
     "output_type": "display_data"
    }
   ],
   "source": [
    "display(Markdown(response))"
   ]
  },
  {
   "cell_type": "markdown",
   "metadata": {},
   "source": [
    "一般情况下使用下列作为标准步骤"
   ]
  },
  {
   "cell_type": "code",
   "execution_count": 105,
   "metadata": {},
   "outputs": [
    {
     "data": {
      "text/markdown": [
       "| Product ID | Name | Category | Gender | Price | Color | Size | Material | Waterproof |\n",
       "| --- | --- | --- | --- | --- | --- | --- | --- | --- |\n",
       "| OC075 | Trekker Trucker Hat | Accessories | Men | $29.99 | Gray/Black | One Size | Polyester/Mesh | No |\n",
       "| OC113 | Wilderness Wool Cap | Accessories | Women | $39.99 | Gray | One Size | Wool | No |\n",
       "| OC182 | Ridgeline Hiking Hat - Wide Brim | Accessories | Unisex | $34.99 | Khaki | One Size | Nylon | No |\n",
       "| OC160 | Mountain Sun Hat - UPF 50+ | Accessories | Unisex | $39.99 | Khaki | One Size | Nylon | No |\n",
       "\n",
       "Here's a summary of each hat:\n",
       "\n",
       "* **Trekker Trucker Hat (OC075)**: A classic trucker hat with a breathable mesh back for ventilation, perfect for casual wear.\n",
       "* **Wilderness Wool Cap (OC113)**: A classic wool cap with a small brim for sun protection and style, suitable for women.\n",
       "* **Ridgeline Hiking Hat - Wide Brim (OC182)**: A wide-brimmed hiking hat with UPF 50+ protection, ideal for outdoor activities.\n",
       "* **Mountain Sun Hat - UPF 50+ (OC160)**: A wide-brimmed sun hat with UPF 50+ protection and a moisture-wicking sweatband, designed for outdoor enthusiasts."
      ],
      "text/plain": [
       "<IPython.core.display.Markdown object>"
      ]
     },
     "metadata": {},
     "output_type": "display_data"
    }
   ],
   "source": [
    "# 1. 从CSV文件加载数据\n",
    "file = 'OutdoorClothingCatalog_1000.csv'\n",
    "loader = CSVLoader(file_path=file)\n",
    "\n",
    "# 2. 初始化嵌入模型\n",
    "# 使用HuggingFace的all-MiniLM-L6-v2模型来生成文本嵌入向量\n",
    "embeddings = HuggingFaceEmbeddings(model_name=\"all-MiniLM-L6-v2\")\n",
    "\n",
    "# 3. 创建向量存储索引\n",
    "# VectorstoreIndexCreator将文档转换为向量并存储\n",
    "# DocArrayInMemorySearch用于在内存中存储和搜索向量\n",
    "# from_loaders方法从loader加载文档并创建索引\n",
    "index = VectorstoreIndexCreator(\n",
    "    vectorstore_cls=DocArrayInMemorySearch,\n",
    "    embedding=embeddings\n",
    ").from_loaders([loader])\n",
    "\n",
    "# 4. 初始化LLM模型\n",
    "# 使用Ollama的llama3.2模型\n",
    "# temperature=0.5设置生成文本的随机性（0最保守，1最创新）\n",
    "llm = ChatOllama(\n",
    "    model=\"llama3.2\",\n",
    "    temperature=0.5\n",
    ")\n",
    "\n",
    "# 5. 执行查询\n",
    "# index.query结合了向量检索和LLM生成\n",
    "# 首先找到相关文档，然后使用LLM生成回答\n",
    "query = \"Please list all hat in a table using markdown and summarize each one.\"\n",
    "response = index.query(query, llm)\n",
    "\n",
    "# 6. 显示结果\n",
    "# 将响应转换为Markdown格式并显示\n",
    "display(Markdown(response))"
   ]
  },
  {
   "cell_type": "code",
   "execution_count": null,
   "metadata": {},
   "outputs": [],
   "source": []
  },
  {
   "cell_type": "code",
   "execution_count": null,
   "metadata": {},
   "outputs": [],
   "source": []
  },
  {
   "cell_type": "code",
   "execution_count": null,
   "metadata": {},
   "outputs": [],
   "source": []
  },
  {
   "cell_type": "code",
   "execution_count": null,
   "metadata": {},
   "outputs": [],
   "source": []
  },
  {
   "cell_type": "code",
   "execution_count": null,
   "metadata": {},
   "outputs": [],
   "source": []
  },
  {
   "cell_type": "code",
   "execution_count": null,
   "metadata": {},
   "outputs": [],
   "source": []
  },
  {
   "cell_type": "code",
   "execution_count": null,
   "metadata": {},
   "outputs": [],
   "source": []
  },
  {
   "cell_type": "code",
   "execution_count": null,
   "metadata": {},
   "outputs": [],
   "source": []
  },
  {
   "cell_type": "code",
   "execution_count": null,
   "metadata": {},
   "outputs": [],
   "source": []
  },
  {
   "cell_type": "code",
   "execution_count": null,
   "metadata": {},
   "outputs": [],
   "source": []
  },
  {
   "cell_type": "code",
   "execution_count": null,
   "metadata": {},
   "outputs": [],
   "source": []
  }
 ],
 "metadata": {
  "kernelspec": {
   "display_name": "LangChain",
   "language": "python",
   "name": "python3"
  },
  "language_info": {
   "codemirror_mode": {
    "name": "ipython",
    "version": 3
   },
   "file_extension": ".py",
   "mimetype": "text/x-python",
   "name": "python",
   "nbconvert_exporter": "python",
   "pygments_lexer": "ipython3",
   "version": "3.10.16"
  }
 },
 "nbformat": 4,
 "nbformat_minor": 2
}

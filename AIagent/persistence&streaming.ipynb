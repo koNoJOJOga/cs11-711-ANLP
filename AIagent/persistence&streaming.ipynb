{
 "cells": [
  {
   "cell_type": "code",
   "execution_count": 124,
   "metadata": {},
   "outputs": [],
   "source": [
    "# libraries\n",
    "from dotenv import load_dotenv\n",
    "import os\n",
    "\n",
    "# load environment variables from .env file\n",
    "_ = load_dotenv()"
   ]
  },
  {
   "cell_type": "code",
   "execution_count": 125,
   "metadata": {},
   "outputs": [],
   "source": [
    "from langgraph.graph import StateGraph, END\n",
    "from typing import TypedDict, Annotated\n",
    "import operator\n",
    "from langchain_core.messages import AnyMessage, SystemMessage, HumanMessage, ToolMessage\n",
    "from langchain_ollama import ChatOllama\n",
    "from langchain_community.tools.tavily_search import TavilySearchResults"
   ]
  },
  {
   "cell_type": "code",
   "execution_count": 126,
   "metadata": {},
   "outputs": [],
   "source": [
    "tool = TavilySearchResults(max_results=2)"
   ]
  },
  {
   "cell_type": "code",
   "execution_count": 127,
   "metadata": {},
   "outputs": [],
   "source": [
    "class AgentState(TypedDict):\n",
    "    messages: Annotated[list[AnyMessage], operator.add]"
   ]
  },
  {
   "cell_type": "markdown",
   "metadata": {},
   "source": [
    "对于`from langgraph.checkpoint.sqlite import SqliteSaver`的使用langchain课程进行了一个更新"
   ]
  },
  {
   "cell_type": "code",
   "execution_count": 128,
   "metadata": {},
   "outputs": [],
   "source": [
    "from langgraph.checkpoint.sqlite import SqliteSaver"
   ]
  },
  {
   "cell_type": "code",
   "execution_count": 129,
   "metadata": {},
   "outputs": [],
   "source": [
    "class Agent:\n",
    "    def __init__(self, model, tools, checkpointer, system=\"\"):\n",
    "        self.system = system\n",
    "        graph = StateGraph(AgentState)\n",
    "        graph.add_node(\"llm\", self.call_openollama)\n",
    "        graph.add_node(\"action\", self.take_action)\n",
    "        graph.add_conditional_edges(\n",
    "            \"llm\",\n",
    "            self.exists_action,\n",
    "            {True: \"action\", False: END}\n",
    "        )\n",
    "        graph.add_edge(\"action\", \"llm\")\n",
    "        graph.set_entry_point(\"llm\")\n",
    "        self.graph = graph.compile(checkpointer=checkpointer)    # 这里添加checkpoint\n",
    "        self.tools = {t.name: t for t in tools}\n",
    "        self.model = model.bind_tools(tools)\n",
    "\n",
    "    def call_openollama(self, state: AgentState):\n",
    "        messages = state['messages']\n",
    "        if self.system:\n",
    "            messages = [SystemMessage(content=self.system)] + messages\n",
    "        message = self.model.invoke(messages)\n",
    "        return {'messages': [message]}\n",
    "    \n",
    "    def exists_action(self, state: AgentState):\n",
    "        result = state['messages'][-1]\n",
    "        return len(result.tool_calls) > 0\n",
    "    \n",
    "    def take_action(self, state: AgentState):\n",
    "        import threading\n",
    "        print(f\"take_action called in thread: {threading.current_thread().name}\")\n",
    "        tool_calls = state['messages'][-1].tool_calls\n",
    "        results = []\n",
    "        print(f\"take_action called with tool_calls: {tool_calls}\")\n",
    "        for t in tool_calls:\n",
    "            print(f\"Calling: {t}\") \n",
    "            if not t['name'] in self.tools:      # check for bad tool name from LLM\n",
    "                print(\"\\n ....bad tool name....\")\n",
    "                result = \"bad tool name, retry\"  # instruct LLM to retry if bad\n",
    "            else:\n",
    "                result = self.tools[t['name']].invoke(t['args'])\n",
    "                print(f\"action {t['name']}, result: {result}\")\n",
    "            results.append(ToolMessage(tool_call_id=t['id'], name=t['name'], content=str(result)))\n",
    "        print(\"Back to the model!\")\n",
    "        return {'messages': results}"
   ]
  },
  {
   "cell_type": "markdown",
   "metadata": {},
   "source": [
    "关心的两件事情：\n",
    "- `stream messages`: 这将决定采取什么行动的AI消息，以及代表行动结果的observation消息\n",
    "- `token`: 对于llm调用的每一个token，我们希望能流式传输输出。\n",
    "\n",
    "引入线程配置的概念：这用于跟踪持久性检查点内部的不同线程，这将允许我们同时进行多个对话。"
   ]
  },
  {
   "cell_type": "code",
   "execution_count": null,
   "metadata": {},
   "outputs": [
    {
     "name": "stdout",
     "output_type": "stream",
     "text": [
      "[AIMessage(content='', additional_kwargs={}, response_metadata={'model': 'qwen2.5:7b', 'created_at': '2025-03-12T15:58:55.510604Z', 'done': True, 'done_reason': 'stop', 'total_duration': 5066746541, 'load_duration': 565119000, 'prompt_eval_count': 245, 'prompt_eval_duration': 3206000000, 'eval_count': 27, 'eval_duration': 1060000000, 'message': Message(role='assistant', content='', images=None, tool_calls=None)}, id='run-eb6eec2e-7a34-4408-b930-91ff8e760a5c-0', tool_calls=[{'name': 'tavily_search_results_json', 'args': {'query': 'weather in New York'}, 'id': '3f15ea65-d0c5-4ddd-8606-84426c3ce8e0', 'type': 'tool_call'}], usage_metadata={'input_tokens': 245, 'output_tokens': 27, 'total_tokens': 272})]\n",
      "take_action called in thread: MainThread\n",
      "take_action called with tool_calls: [{'name': 'tavily_search_results_json', 'args': {'query': 'weather in New York'}, 'id': '3f15ea65-d0c5-4ddd-8606-84426c3ce8e0', 'type': 'tool_call'}]\n",
      "Calling: {'name': 'tavily_search_results_json', 'args': {'query': 'weather in New York'}, 'id': '3f15ea65-d0c5-4ddd-8606-84426c3ce8e0', 'type': 'tool_call'}\n",
      "action tavily_search_results_json, result: [{'title': 'Weather in New York', 'url': 'https://www.weatherapi.com/', 'content': \"{'location': {'name': 'New York', 'region': 'New York', 'country': 'United States of America', 'lat': 40.7142, 'lon': -74.0064, 'tz_id': 'America/New_York', 'localtime_epoch': 1741795279, 'localtime': '2025-03-12 12:01'}, 'current': {'last_updated_epoch': 1741795200, 'last_updated': '2025-03-12 12:00', 'temp_c': 8.3, 'temp_f': 46.9, 'is_day': 1, 'condition': {'text': 'Sunny', 'icon': '//cdn.weatherapi.com/weather/64x64/day/113.png', 'code': 1000}, 'wind_mph': 6.3, 'wind_kph': 10.1, 'wind_degree': 33, 'wind_dir': 'NNE', 'pressure_mb': 1017.0, 'pressure_in': 30.02, 'precip_mm': 0.0, 'precip_in': 0.0, 'humidity': 37, 'cloud': 0, 'feelslike_c': 6.6, 'feelslike_f': 43.9, 'windchill_c': 5.1, 'windchill_f': 41.2, 'heatindex_c': 7.7, 'heatindex_f': 45.8, 'dewpoint_c': -0.9, 'dewpoint_f': 30.3, 'vis_km': 16.0, 'vis_miles': 9.0, 'uv': 3.3, 'gust_mph': 7.3, 'gust_kph': 11.8}}\", 'score': 0.9364647}, {'title': 'Weather in New York City in March 2025', 'url': 'https://world-weather.info/forecast/usa/new_york/march-2025/', 'content': \"Weather in New York City in March 2025 (New York) - Detailed Weather Forecast for a Month Weather in New York City Weather in New York City in March 2025 1 +59°+45° 2 +34°+27° 3 +37°+25° 4 +52°+36° 5 +54°+48° 6 +54°+52° 7 +46°+36° 8 +45°+41° 9 +46°+34° 10 +55°+41° 11 +61°+46° 12 +55°+52° 13 +55°+45° 14 +52°+46° 15 +59°+50° 16 +63°+59° 17 +57°+59° 18 +46°+46° 19 +46°+54° 20 +45°+39° 21 +48°+46° 22 +59°+46° 23 +50°+57° +50°+41° +50°+41° +50°+41° +54°+45° +48°+43° +54°+45° +54°+45° +55°+46° Extended weather forecast in New York City Albany+32° Linden+45° Yonkers+45° Paterson+43° Livingston+43° New Rochelle+45° Summit+43° Union+45° Clifton+43° Jersey City+46° Bayonne+45° East New York+46° Roosevelt+45° world's temperature today Temperature units\", 'score': 0.9353998}]\n",
      "Back to the model!\n",
      "[ToolMessage(content='[{\\'title\\': \\'Weather in New York\\', \\'url\\': \\'https://www.weatherapi.com/\\', \\'content\\': \"{\\'location\\': {\\'name\\': \\'New York\\', \\'region\\': \\'New York\\', \\'country\\': \\'United States of America\\', \\'lat\\': 40.7142, \\'lon\\': -74.0064, \\'tz_id\\': \\'America/New_York\\', \\'localtime_epoch\\': 1741795279, \\'localtime\\': \\'2025-03-12 12:01\\'}, \\'current\\': {\\'last_updated_epoch\\': 1741795200, \\'last_updated\\': \\'2025-03-12 12:00\\', \\'temp_c\\': 8.3, \\'temp_f\\': 46.9, \\'is_day\\': 1, \\'condition\\': {\\'text\\': \\'Sunny\\', \\'icon\\': \\'//cdn.weatherapi.com/weather/64x64/day/113.png\\', \\'code\\': 1000}, \\'wind_mph\\': 6.3, \\'wind_kph\\': 10.1, \\'wind_degree\\': 33, \\'wind_dir\\': \\'NNE\\', \\'pressure_mb\\': 1017.0, \\'pressure_in\\': 30.02, \\'precip_mm\\': 0.0, \\'precip_in\\': 0.0, \\'humidity\\': 37, \\'cloud\\': 0, \\'feelslike_c\\': 6.6, \\'feelslike_f\\': 43.9, \\'windchill_c\\': 5.1, \\'windchill_f\\': 41.2, \\'heatindex_c\\': 7.7, \\'heatindex_f\\': 45.8, \\'dewpoint_c\\': -0.9, \\'dewpoint_f\\': 30.3, \\'vis_km\\': 16.0, \\'vis_miles\\': 9.0, \\'uv\\': 3.3, \\'gust_mph\\': 7.3, \\'gust_kph\\': 11.8}}\", \\'score\\': 0.9364647}, {\\'title\\': \\'Weather in New York City in March 2025\\', \\'url\\': \\'https://world-weather.info/forecast/usa/new_york/march-2025/\\', \\'content\\': \"Weather in New York City in March 2025 (New York) - Detailed Weather Forecast for a Month Weather in New York City Weather in New York City in March 2025 1 +59°+45° 2 +34°+27° 3 +37°+25° 4 +52°+36° 5 +54°+48° 6 +54°+52° 7 +46°+36° 8 +45°+41° 9 +46°+34° 10 +55°+41° 11 +61°+46° 12 +55°+52° 13 +55°+45° 14 +52°+46° 15 +59°+50° 16 +63°+59° 17 +57°+59° 18 +46°+46° 19 +46°+54° 20 +45°+39° 21 +48°+46° 22 +59°+46° 23 +50°+57° +50°+41° +50°+41° +50°+41° +54°+45° +48°+43° +54°+45° +54°+45° +55°+46° Extended weather forecast in New York City Albany+32° Linden+45° Yonkers+45° Paterson+43° Livingston+43° New Rochelle+45° Summit+43° Union+45° Clifton+43° Jersey City+46° Bayonne+45° East New York+46° Roosevelt+45° world\\'s temperature today Temperature units\", \\'score\\': 0.9353998}]', name='tavily_search_results_json', tool_call_id='3f15ea65-d0c5-4ddd-8606-84426c3ce8e0')]\n",
      "[AIMessage(content='The current weather in New York is as follows:\\n- Temperature: 8.3°C (46.9°F)\\n- Condition: Sunny\\n- Wind Speed: 6.3 mph (10.1 kph) from the direction NNE\\n\\nFor a detailed forecast, you can visit [this link](https://www.weatherapi.com/).', additional_kwargs={}, response_metadata={'model': 'qwen2.5:7b', 'created_at': '2025-03-12T15:59:12.974043Z', 'done': True, 'done_reason': 'stop', 'total_duration': 8125528584, 'load_duration': 43278167, 'prompt_eval_count': 1267, 'prompt_eval_duration': 4815000000, 'eval_count': 74, 'eval_duration': 3239000000, 'message': Message(role='assistant', content='The current weather in New York is as follows:\\n- Temperature: 8.3°C (46.9°F)\\n- Condition: Sunny\\n- Wind Speed: 6.3 mph (10.1 kph) from the direction NNE\\n\\nFor a detailed forecast, you can visit [this link](https://www.weatherapi.com/).', images=None, tool_calls=None)}, id='run-c1478496-aae4-41c0-9df0-263f35c7b711-0', usage_metadata={'input_tokens': 1267, 'output_tokens': 74, 'total_tokens': 1341})]\n",
      "--------------------------------------------------\n",
      "{'messages': [AIMessage(content='', additional_kwargs={}, response_metadata={'model': 'qwen2.5:7b', 'created_at': '2025-03-12T15:59:14.273847Z', 'done': True, 'done_reason': 'stop', 'total_duration': 1293690791, 'load_duration': 12093125, 'prompt_eval_count': 1356, 'prompt_eval_duration': 190000000, 'eval_count': 25, 'eval_duration': 1072000000, 'message': Message(role='assistant', content='', images=None, tool_calls=None)}, id='run-ce576d6d-a61f-4a3f-b99b-dc33484cd88a-0', tool_calls=[{'name': 'tavily_search_results_json', 'args': {'query': 'weather in Shanghai'}, 'id': '2e6c4c83-cd82-471b-bf92-e7ee364d55e3', 'type': 'tool_call'}], usage_metadata={'input_tokens': 1356, 'output_tokens': 25, 'total_tokens': 1381})]}\n",
      "take_action called in thread: MainThread\n",
      "take_action called with tool_calls: [{'name': 'tavily_search_results_json', 'args': {'query': 'weather in Shanghai'}, 'id': '2e6c4c83-cd82-471b-bf92-e7ee364d55e3', 'type': 'tool_call'}]\n",
      "Calling: {'name': 'tavily_search_results_json', 'args': {'query': 'weather in Shanghai'}, 'id': '2e6c4c83-cd82-471b-bf92-e7ee364d55e3', 'type': 'tool_call'}\n",
      "action tavily_search_results_json, result: [{'title': 'Weather in Shanghai', 'url': 'https://www.weatherapi.com/', 'content': \"{'location': {'name': 'Shanghai', 'region': 'Shanghai', 'country': 'China', 'lat': 31.005, 'lon': 121.4086, 'tz_id': 'Asia/Shanghai', 'localtime_epoch': 1741795162, 'localtime': '2025-03-12 23:59'}, 'current': {'last_updated_epoch': 1741794300, 'last_updated': '2025-03-12 23:45', 'temp_c': 11.2, 'temp_f': 52.2, 'is_day': 0, 'condition': {'text': 'Light rain', 'icon': '//cdn.weatherapi.com/weather/64x64/night/296.png', 'code': 1183}, 'wind_mph': 5.4, 'wind_kph': 8.6, 'wind_degree': 39, 'wind_dir': 'NE', 'pressure_mb': 1018.0, 'pressure_in': 30.06, 'precip_mm': 0.68, 'precip_in': 0.03, 'humidity': 94, 'cloud': 75, 'feelslike_c': 10.3, 'feelslike_f': 50.5, 'windchill_c': 9.8, 'windchill_f': 49.6, 'heatindex_c': 10.8, 'heatindex_f': 51.4, 'dewpoint_c': 10.2, 'dewpoint_f': 50.3, 'vis_km': 7.0, 'vis_miles': 4.0, 'uv': 0.0, 'gust_mph': 7.9, 'gust_kph': 12.6}}\", 'score': 0.9731623}, {'title': 'Shanghai weather in March 2025 - Weather25.com', 'url': 'https://www.weather25.com/asia/china/shanghai?page=month&month=March', 'content': 'Shanghai weather in March 2025 | Shanghai 14 day weather Shanghai  Shanghai Shanghai weather in March 2025 | Shanghai in March | | Shanghai in May | Temperatures in Shanghai in March Weather in Shanghai in March - FAQ The average temperature in Shanghai in March is 7/15° C. On average, there are 7 rainy days in Shanghai during March. Weather wise, is March a good time to visit Shanghai? The weather in Shanghai in March is ok. On average, there are 0 snowy days in Shanghai in March. More about the weather in Shanghai Shanghai 14 day weather Long range weather for Shanghai Shanghai weather in November Shanghai weather in December Shanghai Webcam Weather tomorrow Hotels in Shanghai', 'score': 0.8657814}]\n",
      "Back to the model!\n",
      "{'messages': [ToolMessage(content='[{\\'title\\': \\'Weather in Shanghai\\', \\'url\\': \\'https://www.weatherapi.com/\\', \\'content\\': \"{\\'location\\': {\\'name\\': \\'Shanghai\\', \\'region\\': \\'Shanghai\\', \\'country\\': \\'China\\', \\'lat\\': 31.005, \\'lon\\': 121.4086, \\'tz_id\\': \\'Asia/Shanghai\\', \\'localtime_epoch\\': 1741795162, \\'localtime\\': \\'2025-03-12 23:59\\'}, \\'current\\': {\\'last_updated_epoch\\': 1741794300, \\'last_updated\\': \\'2025-03-12 23:45\\', \\'temp_c\\': 11.2, \\'temp_f\\': 52.2, \\'is_day\\': 0, \\'condition\\': {\\'text\\': \\'Light rain\\', \\'icon\\': \\'//cdn.weatherapi.com/weather/64x64/night/296.png\\', \\'code\\': 1183}, \\'wind_mph\\': 5.4, \\'wind_kph\\': 8.6, \\'wind_degree\\': 39, \\'wind_dir\\': \\'NE\\', \\'pressure_mb\\': 1018.0, \\'pressure_in\\': 30.06, \\'precip_mm\\': 0.68, \\'precip_in\\': 0.03, \\'humidity\\': 94, \\'cloud\\': 75, \\'feelslike_c\\': 10.3, \\'feelslike_f\\': 50.5, \\'windchill_c\\': 9.8, \\'windchill_f\\': 49.6, \\'heatindex_c\\': 10.8, \\'heatindex_f\\': 51.4, \\'dewpoint_c\\': 10.2, \\'dewpoint_f\\': 50.3, \\'vis_km\\': 7.0, \\'vis_miles\\': 4.0, \\'uv\\': 0.0, \\'gust_mph\\': 7.9, \\'gust_kph\\': 12.6}}\", \\'score\\': 0.9731623}, {\\'title\\': \\'Shanghai weather in March 2025 - Weather25.com\\', \\'url\\': \\'https://www.weather25.com/asia/china/shanghai?page=month&month=March\\', \\'content\\': \\'Shanghai weather in March 2025 | Shanghai 14 day weather Shanghai  Shanghai Shanghai weather in March 2025 | Shanghai in March | | Shanghai in May | Temperatures in Shanghai in March Weather in Shanghai in March - FAQ The average temperature in Shanghai in March is 7/15° C. On average, there are 7 rainy days in Shanghai during March. Weather wise, is March a good time to visit Shanghai? The weather in Shanghai in March is ok. On average, there are 0 snowy days in Shanghai in March. More about the weather in Shanghai Shanghai 14 day weather Long range weather for Shanghai Shanghai weather in November Shanghai weather in December Shanghai Webcam Weather tomorrow Hotels in Shanghai\\', \\'score\\': 0.8657814}]', name='tavily_search_results_json', tool_call_id='2e6c4c83-cd82-471b-bf92-e7ee364d55e3')]}\n",
      "{'messages': [AIMessage(content='The current weather in Shanghai is as follows:\\n- Temperature: 11.2°C (52.2°F)\\n- Condition: Light rain\\n- Wind Speed: 5.4 mph (8.6 kph) from the direction NE\\n\\nFor more detailed information or a longer forecast, you can visit [this link](https://www.weatherapi.com/).', additional_kwargs={}, response_metadata={'model': 'qwen2.5:7b', 'created_at': '2025-03-12T15:59:30.444298Z', 'done': True, 'done_reason': 'stop', 'total_duration': 7262302833, 'load_duration': 35759708, 'prompt_eval_count': 1058, 'prompt_eval_duration': 3892000000, 'eval_count': 77, 'eval_duration': 3300000000, 'message': Message(role='assistant', content='The current weather in Shanghai is as follows:\\n- Temperature: 11.2°C (52.2°F)\\n- Condition: Light rain\\n- Wind Speed: 5.4 mph (8.6 kph) from the direction NE\\n\\nFor more detailed information or a longer forecast, you can visit [this link](https://www.weatherapi.com/).', images=None, tool_calls=None)}, id='run-f6f943ed-db95-48ac-8486-88367886e879-0', usage_metadata={'input_tokens': 1058, 'output_tokens': 77, 'total_tokens': 1135})]}\n",
      "--------------------------------------------------\n",
      "{'messages': [AIMessage(content='I need more information to determine which one is warmer. Could you please specify what you are comparing, such as two temperatures or two objects/materials?', additional_kwargs={}, response_metadata={'model': 'qwen2.5:7b', 'created_at': '2025-03-12T15:59:31.856982Z', 'done': True, 'done_reason': 'stop', 'total_duration': 1403384750, 'load_duration': 11084917, 'prompt_eval_count': 242, 'prompt_eval_duration': 180000000, 'eval_count': 31, 'eval_duration': 1209000000, 'message': Message(role='assistant', content='I need more information to determine which one is warmer. Could you please specify what you are comparing, such as two temperatures or two objects/materials?', images=None, tool_calls=None)}, id='run-6b8f3811-cfa3-452a-b6f1-0a5b97dd083e-0', usage_metadata={'input_tokens': 242, 'output_tokens': 31, 'total_tokens': 273})]}\n"
     ]
    }
   ],
   "source": [
    "prompt = \"\"\"You are a smart research assistant. Use the search engine to look up information.  \\\n",
    "You are allowed to make multiple calls (either together or in sequence). \\\n",
    "Only look up information when you are sure of what you want. \\\n",
    "If you need to look up some information before asking a follow up question, you are allowed to do that!\n",
    "\"\"\"\n",
    "\n",
    "model = ChatOllama(\n",
    "    model=\"qwen2.5:14b\",\n",
    "    temperature=0\n",
    ")\n",
    "\n",
    "query = \"What is the weather in New York?\"\n",
    "messages = [HumanMessage(content=query)]\n",
    "thread = {\"configurable\": {\"thread_id\": \"1\"}}  \n",
    "\n",
    "with SqliteSaver.from_conn_string(\":memory:\") as checkpointer:\n",
    "    abot = Agent(model, [tool], system=prompt, checkpointer=checkpointer)\n",
    "    for event in abot.graph.stream({\"messages\": messages}, thread):\n",
    "        for v in event.values():\n",
    "            print(v['messages'])\n",
    "    \n",
    "    print (\"-\"*50)\n",
    "\n",
    "    query = \"What about in shanghai?\"\n",
    "    messages = [HumanMessage(content=query)]\n",
    "    thread = {\"configurable\": {\"thread_id\": \"1\"}}   \n",
    "    for event in abot.graph.stream({\"messages\": messages}, thread):\n",
    "        for v in event.values():\n",
    "            print(v)\n",
    "\n",
    "    print (\"-\"*50)\n",
    "\n",
    "    query = \"Which one is warmer?\"\n",
    "    messages = [HumanMessage(content=query)]\n",
    "    thread = {\"configurable\": {\"thread_id\": \"2\"}}  \n",
    "    for event in abot.graph.stream({\"messages\": messages}, thread):\n",
    "        for v in event.values():\n",
    "            print(v)\n",
    "    \n"
   ]
  },
  {
   "cell_type": "markdown",
   "metadata": {},
   "source": [
    "`from langgraph.checkpoint.aiosqlite import AsyncSqliteSaver`已经失效了，要使用`from langgraph.checkpoint.sqlite.aio import AsyncSqliteSaver`"
   ]
  },
  {
   "cell_type": "code",
   "execution_count": 135,
   "metadata": {},
   "outputs": [
    {
     "name": "stdout",
     "output_type": "stream",
     "text": [
      "take_action called in thread: asyncio_0\n",
      "take_action called with tool_calls: [{'name': 'tavily_search_results_json', 'args': {'query': 'New York City weather'}, 'id': 'e2a2d086-40f9-4000-9b77-df166ab861d2', 'type': 'tool_call'}]\n",
      "Calling: {'name': 'tavily_search_results_json', 'args': {'query': 'New York City weather'}, 'id': 'e2a2d086-40f9-4000-9b77-df166ab861d2', 'type': 'tool_call'}\n",
      "action tavily_search_results_json, result: [{'title': 'Weather in New York City', 'url': 'https://www.weatherapi.com/', 'content': \"{'location': {'name': 'New York', 'region': 'New York', 'country': 'United States of America', 'lat': 40.714, 'lon': -74.006, 'tz_id': 'America/New_York', 'localtime_epoch': 1741795214, 'localtime': '2025-03-12 12:00'}, 'current': {'last_updated_epoch': 1741794300, 'last_updated': '2025-03-12 11:45', 'temp_c': 8.3, 'temp_f': 46.9, 'is_day': 1, 'condition': {'text': 'Sunny', 'icon': '//cdn.weatherapi.com/weather/64x64/day/113.png', 'code': 1000}, 'wind_mph': 9.2, 'wind_kph': 14.8, 'wind_degree': 27, 'wind_dir': 'NNE', 'pressure_mb': 1017.0, 'pressure_in': 30.02, 'precip_mm': 0.0, 'precip_in': 0.0, 'humidity': 37, 'cloud': 0, 'feelslike_c': 5.9, 'feelslike_f': 42.5, 'windchill_c': 3.9, 'windchill_f': 38.9, 'heatindex_c': 6.8, 'heatindex_f': 44.3, 'dewpoint_c': -1.4, 'dewpoint_f': 29.6, 'vis_km': 16.0, 'vis_miles': 9.0, 'uv': 2.5, 'gust_mph': 10.8, 'gust_kph': 17.4}}\", 'score': 0.9430016}, {'title': 'Weather in New York City in March 2025', 'url': 'https://world-weather.info/forecast/usa/new_york/march-2025/', 'content': \"Weather in New York City in March 2025 (New York) - Detailed Weather Forecast for a Month Weather in New York City Weather in New York City in March 2025 1 +59°+45° 2 +34°+27° 3 +37°+25° 4 +52°+36° 5 +54°+48° 6 +54°+52° 7 +46°+36° 8 +45°+41° 9 +46°+34° 10 +55°+41° 11 +61°+46° 12 +55°+52° 13 +55°+45° 14 +52°+46° 15 +59°+50° 16 +63°+59° 17 +57°+59° 18 +46°+46° 19 +46°+54° 20 +45°+39° 21 +48°+46° 22 +59°+46° 23 +50°+57° +50°+41° +50°+41° +50°+41° +54°+45° +48°+43° +54°+45° +54°+45° +55°+46° Extended weather forecast in New York City Albany+32° Linden+45° Yonkers+45° Paterson+43° Livingston+43° New Rochelle+45° Summit+43° Union+45° Clifton+43° Jersey City+46° Bayonne+45° East New York+46° Roosevelt+45° world's temperature today Temperature units\", 'score': 0.938311}]\n",
      "Back to the model!\n"
     ]
    }
   ],
   "source": [
    "from langgraph.checkpoint.sqlite.aio import AsyncSqliteSaver\n",
    "\n",
    "query = \"What is the weather in New York?\"\n",
    "messages = [HumanMessage(content=query)]\n",
    "model = ChatOllama(\n",
    "    model=\"llama3.2\",\n",
    "    temperature=0\n",
    ")\n",
    "\n",
    "# These events represent updates from the underlying stream.\n",
    "async with AsyncSqliteSaver.from_conn_string(\"checkpoints.sqlite\") as saver:\n",
    "    abot = Agent(model, [tool], system=prompt, checkpointer=saver)\n",
    "    config = {\"configurable\": {\"thread_id\": \"thread-1\"}}\n",
    "    async for event in abot.graph.astream_events({\"messages\": messages}, config):\n",
    "        kind = event[\"event\"]\n",
    "        # What we gonna to do is to find events that correspond to new tokens.\n",
    "        if kind == \"on_chat_model_stream\":\n",
    "            content = event[\"data\"][\"chunk\"].content\n",
    "            if content:\n",
    "                # empty content in the context of Ollama means\n",
    "                # that the model is asking for a tool to be invoked.\n",
    "                # So we only print non-empty content.\n",
    "                print(content, end=\"|\")"
   ]
  },
  {
   "cell_type": "code",
   "execution_count": null,
   "metadata": {},
   "outputs": [],
   "source": []
  },
  {
   "cell_type": "code",
   "execution_count": null,
   "metadata": {},
   "outputs": [],
   "source": []
  }
 ],
 "metadata": {
  "kernelspec": {
   "display_name": "LangChain",
   "language": "python",
   "name": "python3"
  },
  "language_info": {
   "codemirror_mode": {
    "name": "ipython",
    "version": 3
   },
   "file_extension": ".py",
   "mimetype": "text/x-python",
   "name": "python",
   "nbconvert_exporter": "python",
   "pygments_lexer": "ipython3",
   "version": "3.10.16"
  }
 },
 "nbformat": 4,
 "nbformat_minor": 2
}

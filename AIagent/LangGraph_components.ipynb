{
 "cells": [
  {
   "cell_type": "code",
   "execution_count": 1,
   "metadata": {},
   "outputs": [],
   "source": [
    "from langgraph.graph import StateGraph, END\n",
    "from typing import TypedDict, Annotated\n",
    "import operator\n",
    "from langchain_core.messages import AnyMessage, SystemMessage, ToolMessage, AIMessage\n",
    "from langchain_core.messages.human import HumanMessage\n",
    "from langchain_ollama import ChatOllama\n",
    "from langchain_community.tools.tavily_search import TavilySearchResults\n",
    "from dotenv import load_dotenv\n",
    "import os\n",
    "\n",
    "load_dotenv()\n",
    "tavily_api_key = os.environ.get(\"TAVILY_API_KEY\")\n"
   ]
  },
  {
   "cell_type": "code",
   "execution_count": 2,
   "metadata": {},
   "outputs": [
    {
     "name": "stdout",
     "output_type": "stream",
     "text": [
      "<class 'langchain_community.tools.tavily_search.tool.TavilySearchResults'>\n",
      "tavily_search_results_json\n"
     ]
    }
   ],
   "source": [
    "tool = TavilySearchResults(\n",
    "    max_results=2\n",
    ") # 2 results per query\n",
    "print (type(tool))\n",
    "print (tool.name)"
   ]
  },
  {
   "cell_type": "code",
   "execution_count": 3,
   "metadata": {},
   "outputs": [],
   "source": [
    "# AgentState 类定义了代理的状态数据结构\n",
    "# 这是一个 TypedDict 类型的类,用于定义具有类型提示的字典\n",
    "# 包含一个 messages 字段:\n",
    "# - messages 字段是一个列表,存储 AnyMessage 类型的消息\n",
    "# - 使用 Annotated 和 operator.add 标注,表示该字段支持列表拼接操作\n",
    "# - AnyMessage 是一个联合类型,可以是各种消息类型(AIMessage、HumanMessage等)\n",
    "class AgentState(TypedDict):\n",
    "    messages: Annotated[list[AnyMessage], operator.add]"
   ]
  },
  {
   "cell_type": "markdown",
   "metadata": {},
   "source": [
    "我们需要一个函数来调用`Ollama`，一个函数来检查是否存在某种action，以及一个执行action的函数。"
   ]
  },
  {
   "cell_type": "code",
   "execution_count": 4,
   "metadata": {},
   "outputs": [],
   "source": [
    "# 配置日志记录系统\n",
    "import logging\n",
    "\n",
    "# 设置基本的日志配置\n",
    "# level=logging.INFO 表示将捕获 INFO 级别及以上的所有日志消息\n",
    "# 日志级别从低到高: DEBUG < INFO < WARNING < ERROR < CRITICAL\n",
    "logging.basicConfig(level=logging.INFO)\n",
    "\n",
    "# 创建一个日志记录器实例\n",
    "# __name__ 是当前模块的名称\n",
    "# 这个日志记录器将被 Agent 类用来记录执行过程中的信息\n",
    "logger = logging.getLogger(__name__)\n",
    "import sys\n",
    "from datetime import datetime\n",
    "from pathlib import Path\n",
    "\n",
    "# 创建logs目录（如果不存在）\n",
    "log_dir = Path(\"./logs\")\n",
    "log_dir.mkdir(exist_ok=True)\n",
    "\n",
    "# 生成日志文件名（包含时间戳）\n",
    "log_file = log_dir / f\"agent_{datetime.now().strftime('%Y%m%d_%H%M%S')}.log\"\n",
    "\n",
    "# 配置日志格式\n",
    "formatter = logging.Formatter('%(asctime)s - %(name)s - %(levelname)s - %(message)s')\n",
    "\n",
    "# 文件处理器\n",
    "file_handler = logging.FileHandler(log_file)\n",
    "file_handler.setFormatter(formatter)\n",
    "file_handler.setLevel(logging.INFO)\n",
    "\n",
    "# 控制台处理器（带颜色）\n",
    "console_handler = logging.StreamHandler(sys.stdout)\n",
    "console_handler.setFormatter(logging.Formatter(\n",
    "    '%(asctime)s - \\033[1;36m%(levelname)s\\033[0m - %(message)s'))\n",
    "console_handler.setLevel(logging.INFO)\n",
    "\n",
    "# 配置logger\n",
    "logger = logging.getLogger(__name__)\n",
    "logger.setLevel(logging.INFO)\n",
    "logger.addHandler(file_handler)\n",
    "logger.addHandler(console_handler)"
   ]
  },
  {
   "cell_type": "code",
   "execution_count": 5,
   "metadata": {},
   "outputs": [],
   "source": [
    "class Agent:\n",
    "    \"\"\"\n",
    "    Agent class that orchestrates interaction between a language model and tools.\n",
    "    Uses a state graph to manage conversation flow and decision making process.\n",
    "    \"\"\"\n",
    "\n",
    "    def __init__(self, model, tools, system=\"\"):\n",
    "        \"\"\"\n",
    "        Initialize the agent with a language model, tools, and optional system message.\n",
    "        \n",
    "        Args:\n",
    "            model: Language model that will generate responses\n",
    "            tools: List of tools the agent can use\n",
    "            system: Optional system prompt to guide agent behavior\n",
    "            \n",
    "        Creates a state graph with the following workflow:\n",
    "            1. Start with LLM node\n",
    "            2. Check if action is needed\n",
    "            3. Execute action if needed, then return to LLM\n",
    "            4. End conversation if no action is needed\n",
    "        \"\"\"\n",
    "        self.system = system\n",
    "        graph = StateGraph(AgentState)\n",
    "        graph.add_node(\"llm\", self.call_openai)\n",
    "        graph.add_node(\"action\", self.take_action)\n",
    "        graph.add_conditional_edges(\n",
    "            \"llm\",\n",
    "            self.exists_action,\n",
    "            {True: \"action\", False: END}\n",
    "        )\n",
    "        graph.add_edge(\"action\", \"llm\")\n",
    "        graph.set_entry_point(\"llm\")\n",
    "        self.graph = graph.compile()\n",
    "        self.tools = {t.name: t for t in tools}\n",
    "        self.model = model.bind_tools(tools)\n",
    "        logger.info(f\"model: {self.model}\")\n",
    "\n",
    "    def exists_action(self, state: AgentState):\n",
    "        \"\"\"\n",
    "        Determine if an action needs to be taken based on the last message.\n",
    "        \n",
    "        Args:\n",
    "            state: Current conversation state containing messages\n",
    "            \n",
    "        Returns:\n",
    "            Boolean indicating if the latest AI message contains tool calls\n",
    "            that need to be executed\n",
    "        \"\"\"\n",
    "        result = state['messages'][-1]\n",
    "        logger.info(f\"exists_action result: {result}\")\n",
    "        return len(result.tool_calls) > 0\n",
    "\n",
    "    def call_openai(self, state: AgentState):\n",
    "        \"\"\"\n",
    "        Send the current conversation state to the language model and get a response.\n",
    "        \n",
    "        Args:\n",
    "            state: Current conversation state containing message history\n",
    "            \n",
    "        Returns:\n",
    "            Updated state with the new AI message appended\n",
    "            \n",
    "        If a system prompt is provided, it's added at the beginning of messages\n",
    "        before sending to the model.\n",
    "        \"\"\"\n",
    "        logger.info(f\"state: {state}\")\n",
    "        messages = state['messages']\n",
    "        if self.system:\n",
    "            messages = [SystemMessage(content=self.system)] + messages\n",
    "        message = self.model.invoke(messages)\n",
    "        logger.info(f\"LLM message: {message}\")\n",
    "        return {'messages': [message]}\n",
    "\n",
    "    def take_action(self, state: AgentState):\n",
    "        \"\"\"\n",
    "        Execute tool calls requested by the language model.\n",
    "        \n",
    "        Args:\n",
    "            state: Current conversation state containing message history\n",
    "            \n",
    "        Returns:\n",
    "            Updated state with tool execution results appended as ToolMessages\n",
    "            \n",
    "        Process:\n",
    "        1. Extract tool calls from the last message\n",
    "        2. For each tool call, validate the tool name and execute it\n",
    "        3. Format results as ToolMessages with appropriate IDs\n",
    "        4. Return all results to be processed by the model in the next step\n",
    "        \"\"\"\n",
    "        import threading\n",
    "        print(f\"take_action called in thread: {threading.current_thread().name}\")\n",
    "        tool_calls = state['messages'][-1].tool_calls\n",
    "        results = []\n",
    "        print(f\"take_action called with tool_calls: {tool_calls}\")\n",
    "        for t in tool_calls:\n",
    "            logger.info(f\"Calling: {t}\")\n",
    "            print(f\"Calling: {t}\") \n",
    "            if not t['name'] in self.tools:      # check for bad tool name from LLM\n",
    "                print(\"\\n ....bad tool name....\")\n",
    "                result = \"bad tool name, retry\"  # instruct LLM to retry if bad\n",
    "            else:\n",
    "                result = self.tools[t['name']].invoke(t['args'])\n",
    "                logger.info(f\"action {t['name']}, result: {result}\")\n",
    "                print(f\"action {t['name']}, result: {result}\")\n",
    "            results.append(ToolMessage(tool_call_id=t['id'], name=t['name'], content=str(result)))\n",
    "        print(\"Back to the model!\")\n",
    "        return {'messages': results}"
   ]
  },
  {
   "cell_type": "code",
   "execution_count": 6,
   "metadata": {},
   "outputs": [
    {
     "name": "stdout",
     "output_type": "stream",
     "text": [
      "2025-03-11 21:14:02,900 - \u001b[1;36mINFO\u001b[0m - model: bound=ChatOllama(model='qwen2.5:7b', temperature=0.0) kwargs={'tools': [{'type': 'function', 'function': {'name': 'tavily_search_results_json', 'description': 'A search engine optimized for comprehensive, accurate, and trusted results. Useful for when you need to answer questions about current events. Input should be a search query.', 'parameters': {'properties': {'query': {'description': 'search query to look up', 'type': 'string'}}, 'required': ['query'], 'type': 'object'}}}]} config={} config_factories=[]\n"
     ]
    },
    {
     "name": "stderr",
     "output_type": "stream",
     "text": [
      "INFO:__main__:model: bound=ChatOllama(model='qwen2.5:7b', temperature=0.0) kwargs={'tools': [{'type': 'function', 'function': {'name': 'tavily_search_results_json', 'description': 'A search engine optimized for comprehensive, accurate, and trusted results. Useful for when you need to answer questions about current events. Input should be a search query.', 'parameters': {'properties': {'query': {'description': 'search query to look up', 'type': 'string'}}, 'required': ['query'], 'type': 'object'}}}]} config={} config_factories=[]\n"
     ]
    }
   ],
   "source": [
    "prompt = \"\"\"You are a smart research assistant. Use the search engine to look up information.  \\\n",
    "You are allowed to make multiple calls (either together or in sequence). \\\n",
    "Only look up information when you are sure of what you want. \\\n",
    "If you need to look up some information before asking a follow up question, you are allowed to do that!\n",
    "\"\"\"\n",
    "model = ChatOllama(\n",
    "    model=\"qwen2.5:7b\",\n",
    "    temperature=0\n",
    ")\n",
    "abot = Agent(model, [tool], system=prompt)"
   ]
  },
  {
   "cell_type": "code",
   "execution_count": 7,
   "metadata": {},
   "outputs": [
    {
     "name": "stdout",
     "output_type": "stream",
     "text": [
      "2025-03-11 21:14:02,906 - \u001b[1;36mINFO\u001b[0m - state: {'messages': [HumanMessage(content='What is the weather in sf?', additional_kwargs={}, response_metadata={})]}\n"
     ]
    },
    {
     "name": "stderr",
     "output_type": "stream",
     "text": [
      "INFO:__main__:state: {'messages': [HumanMessage(content='What is the weather in sf?', additional_kwargs={}, response_metadata={})]}\n",
      "INFO:httpx:HTTP Request: POST http://127.0.0.1:11434/api/chat \"HTTP/1.1 200 OK\"\n"
     ]
    },
    {
     "name": "stdout",
     "output_type": "stream",
     "text": [
      "2025-03-11 21:14:06,313 - \u001b[1;36mINFO\u001b[0m - LLM message: content='' additional_kwargs={} response_metadata={'model': 'qwen2.5:7b', 'created_at': '2025-03-11T13:14:06.304957Z', 'done': True, 'done_reason': 'stop', 'total_duration': 3394111041, 'load_duration': 563187208, 'prompt_eval_count': 244, 'prompt_eval_duration': 1593000000, 'eval_count': 26, 'eval_duration': 1007000000, 'message': Message(role='assistant', content='', images=None, tool_calls=None)} id='run-df7ea652-9a66-49a0-8f3f-b37064aaa390-0' tool_calls=[{'name': 'tavily_search_results_json', 'args': {'query': 'weather in sf'}, 'id': '6b465965-9d78-4219-b5b6-8b17cd71f84b', 'type': 'tool_call'}] usage_metadata={'input_tokens': 244, 'output_tokens': 26, 'total_tokens': 270}\n"
     ]
    },
    {
     "name": "stderr",
     "output_type": "stream",
     "text": [
      "INFO:__main__:LLM message: content='' additional_kwargs={} response_metadata={'model': 'qwen2.5:7b', 'created_at': '2025-03-11T13:14:06.304957Z', 'done': True, 'done_reason': 'stop', 'total_duration': 3394111041, 'load_duration': 563187208, 'prompt_eval_count': 244, 'prompt_eval_duration': 1593000000, 'eval_count': 26, 'eval_duration': 1007000000, 'message': Message(role='assistant', content='', images=None, tool_calls=None)} id='run-df7ea652-9a66-49a0-8f3f-b37064aaa390-0' tool_calls=[{'name': 'tavily_search_results_json', 'args': {'query': 'weather in sf'}, 'id': '6b465965-9d78-4219-b5b6-8b17cd71f84b', 'type': 'tool_call'}] usage_metadata={'input_tokens': 244, 'output_tokens': 26, 'total_tokens': 270}\n"
     ]
    },
    {
     "name": "stdout",
     "output_type": "stream",
     "text": [
      "2025-03-11 21:14:06,316 - \u001b[1;36mINFO\u001b[0m - exists_action result: content='' additional_kwargs={} response_metadata={'model': 'qwen2.5:7b', 'created_at': '2025-03-11T13:14:06.304957Z', 'done': True, 'done_reason': 'stop', 'total_duration': 3394111041, 'load_duration': 563187208, 'prompt_eval_count': 244, 'prompt_eval_duration': 1593000000, 'eval_count': 26, 'eval_duration': 1007000000, 'message': Message(role='assistant', content='', images=None, tool_calls=None)} id='run-df7ea652-9a66-49a0-8f3f-b37064aaa390-0' tool_calls=[{'name': 'tavily_search_results_json', 'args': {'query': 'weather in sf'}, 'id': '6b465965-9d78-4219-b5b6-8b17cd71f84b', 'type': 'tool_call'}] usage_metadata={'input_tokens': 244, 'output_tokens': 26, 'total_tokens': 270}\n"
     ]
    },
    {
     "name": "stderr",
     "output_type": "stream",
     "text": [
      "INFO:__main__:exists_action result: content='' additional_kwargs={} response_metadata={'model': 'qwen2.5:7b', 'created_at': '2025-03-11T13:14:06.304957Z', 'done': True, 'done_reason': 'stop', 'total_duration': 3394111041, 'load_duration': 563187208, 'prompt_eval_count': 244, 'prompt_eval_duration': 1593000000, 'eval_count': 26, 'eval_duration': 1007000000, 'message': Message(role='assistant', content='', images=None, tool_calls=None)} id='run-df7ea652-9a66-49a0-8f3f-b37064aaa390-0' tool_calls=[{'name': 'tavily_search_results_json', 'args': {'query': 'weather in sf'}, 'id': '6b465965-9d78-4219-b5b6-8b17cd71f84b', 'type': 'tool_call'}] usage_metadata={'input_tokens': 244, 'output_tokens': 26, 'total_tokens': 270}\n"
     ]
    },
    {
     "name": "stdout",
     "output_type": "stream",
     "text": [
      "take_action called in thread: MainThread\n",
      "take_action called with tool_calls: [{'name': 'tavily_search_results_json', 'args': {'query': 'weather in sf'}, 'id': '6b465965-9d78-4219-b5b6-8b17cd71f84b', 'type': 'tool_call'}]\n",
      "2025-03-11 21:14:06,319 - \u001b[1;36mINFO\u001b[0m - Calling: {'name': 'tavily_search_results_json', 'args': {'query': 'weather in sf'}, 'id': '6b465965-9d78-4219-b5b6-8b17cd71f84b', 'type': 'tool_call'}\n"
     ]
    },
    {
     "name": "stderr",
     "output_type": "stream",
     "text": [
      "INFO:__main__:Calling: {'name': 'tavily_search_results_json', 'args': {'query': 'weather in sf'}, 'id': '6b465965-9d78-4219-b5b6-8b17cd71f84b', 'type': 'tool_call'}\n"
     ]
    },
    {
     "name": "stdout",
     "output_type": "stream",
     "text": [
      "Calling: {'name': 'tavily_search_results_json', 'args': {'query': 'weather in sf'}, 'id': '6b465965-9d78-4219-b5b6-8b17cd71f84b', 'type': 'tool_call'}\n",
      "2025-03-11 21:14:13,978 - \u001b[1;36mINFO\u001b[0m - action tavily_search_results_json, result: [{'title': 'Weather in San Francisco', 'url': 'https://www.weatherapi.com/', 'content': \"{'location': {'name': 'San Francisco', 'region': 'California', 'country': 'United States of America', 'lat': 37.775, 'lon': -122.4183, 'tz_id': 'America/Los_Angeles', 'localtime_epoch': 1741696540, 'localtime': '2025-03-11 05:35'}, 'current': {'last_updated_epoch': 1741696200, 'last_updated': '2025-03-11 05:30', 'temp_c': 7.2, 'temp_f': 45.0, 'is_day': 0, 'condition': {'text': 'Partly cloudy', 'icon': '//cdn.weatherapi.com/weather/64x64/night/116.png', 'code': 1003}, 'wind_mph': 4.0, 'wind_kph': 6.5, 'wind_degree': 253, 'wind_dir': 'WSW', 'pressure_mb': 1010.0, 'pressure_in': 29.81, 'precip_mm': 0.0, 'precip_in': 0.0, 'humidity': 71, 'cloud': 75, 'feelslike_c': 6.1, 'feelslike_f': 43.0, 'windchill_c': 5.8, 'windchill_f': 42.5, 'heatindex_c': 6.8, 'heatindex_f': 44.3, 'dewpoint_c': 6.4, 'dewpoint_f': 43.5, 'vis_km': 16.0, 'vis_miles': 9.0, 'uv': 0.0, 'gust_mph': 7.3, 'gust_kph': 11.8}}\", 'score': 0.8909506}, {'title': 'San Francisco weather in March 2025 | Weather25.com', 'url': 'https://www.weather25.com/north-america/usa/california/san-francisco?page=month&month=March', 'content': 'San Francisco weather in March 2025 | Weather25.com San Francisco weather in March 2025 | San Francisco in March | Temperatures in San Francisco in March Weather in San Francisco in March - FAQ The average temperature in San Francisco in March is 8/17° C. On average, there are 5 rainy days in San Francisco during March. The weather in San Francisco in March is good. On average, there are 0 snowy days in San Francisco in March. More about the weather in San Francisco San Francisco 14 day weather Long range weather for San Francisco San Francisco weather in November San Francisco weather in December San Francisco Webcam Weather tomorrow Hotels in San Francisco', 'score': 0.83549726}]\n"
     ]
    },
    {
     "name": "stderr",
     "output_type": "stream",
     "text": [
      "INFO:__main__:action tavily_search_results_json, result: [{'title': 'Weather in San Francisco', 'url': 'https://www.weatherapi.com/', 'content': \"{'location': {'name': 'San Francisco', 'region': 'California', 'country': 'United States of America', 'lat': 37.775, 'lon': -122.4183, 'tz_id': 'America/Los_Angeles', 'localtime_epoch': 1741696540, 'localtime': '2025-03-11 05:35'}, 'current': {'last_updated_epoch': 1741696200, 'last_updated': '2025-03-11 05:30', 'temp_c': 7.2, 'temp_f': 45.0, 'is_day': 0, 'condition': {'text': 'Partly cloudy', 'icon': '//cdn.weatherapi.com/weather/64x64/night/116.png', 'code': 1003}, 'wind_mph': 4.0, 'wind_kph': 6.5, 'wind_degree': 253, 'wind_dir': 'WSW', 'pressure_mb': 1010.0, 'pressure_in': 29.81, 'precip_mm': 0.0, 'precip_in': 0.0, 'humidity': 71, 'cloud': 75, 'feelslike_c': 6.1, 'feelslike_f': 43.0, 'windchill_c': 5.8, 'windchill_f': 42.5, 'heatindex_c': 6.8, 'heatindex_f': 44.3, 'dewpoint_c': 6.4, 'dewpoint_f': 43.5, 'vis_km': 16.0, 'vis_miles': 9.0, 'uv': 0.0, 'gust_mph': 7.3, 'gust_kph': 11.8}}\", 'score': 0.8909506}, {'title': 'San Francisco weather in March 2025 | Weather25.com', 'url': 'https://www.weather25.com/north-america/usa/california/san-francisco?page=month&month=March', 'content': 'San Francisco weather in March 2025 | Weather25.com San Francisco weather in March 2025 | San Francisco in March | Temperatures in San Francisco in March Weather in San Francisco in March - FAQ The average temperature in San Francisco in March is 8/17° C. On average, there are 5 rainy days in San Francisco during March. The weather in San Francisco in March is good. On average, there are 0 snowy days in San Francisco in March. More about the weather in San Francisco San Francisco 14 day weather Long range weather for San Francisco San Francisco weather in November San Francisco weather in December San Francisco Webcam Weather tomorrow Hotels in San Francisco', 'score': 0.83549726}]\n"
     ]
    },
    {
     "name": "stdout",
     "output_type": "stream",
     "text": [
      "action tavily_search_results_json, result: [{'title': 'Weather in San Francisco', 'url': 'https://www.weatherapi.com/', 'content': \"{'location': {'name': 'San Francisco', 'region': 'California', 'country': 'United States of America', 'lat': 37.775, 'lon': -122.4183, 'tz_id': 'America/Los_Angeles', 'localtime_epoch': 1741696540, 'localtime': '2025-03-11 05:35'}, 'current': {'last_updated_epoch': 1741696200, 'last_updated': '2025-03-11 05:30', 'temp_c': 7.2, 'temp_f': 45.0, 'is_day': 0, 'condition': {'text': 'Partly cloudy', 'icon': '//cdn.weatherapi.com/weather/64x64/night/116.png', 'code': 1003}, 'wind_mph': 4.0, 'wind_kph': 6.5, 'wind_degree': 253, 'wind_dir': 'WSW', 'pressure_mb': 1010.0, 'pressure_in': 29.81, 'precip_mm': 0.0, 'precip_in': 0.0, 'humidity': 71, 'cloud': 75, 'feelslike_c': 6.1, 'feelslike_f': 43.0, 'windchill_c': 5.8, 'windchill_f': 42.5, 'heatindex_c': 6.8, 'heatindex_f': 44.3, 'dewpoint_c': 6.4, 'dewpoint_f': 43.5, 'vis_km': 16.0, 'vis_miles': 9.0, 'uv': 0.0, 'gust_mph': 7.3, 'gust_kph': 11.8}}\", 'score': 0.8909506}, {'title': 'San Francisco weather in March 2025 | Weather25.com', 'url': 'https://www.weather25.com/north-america/usa/california/san-francisco?page=month&month=March', 'content': 'San Francisco weather in March 2025 | Weather25.com San Francisco weather in March 2025 | San Francisco in March | Temperatures in San Francisco in March Weather in San Francisco in March - FAQ The average temperature in San Francisco in March is 8/17° C. On average, there are 5 rainy days in San Francisco during March. The weather in San Francisco in March is good. On average, there are 0 snowy days in San Francisco in March. More about the weather in San Francisco San Francisco 14 day weather Long range weather for San Francisco San Francisco weather in November San Francisco weather in December San Francisco Webcam Weather tomorrow Hotels in San Francisco', 'score': 0.83549726}]\n",
      "Back to the model!\n",
      "2025-03-11 21:14:13,982 - \u001b[1;36mINFO\u001b[0m - state: {'messages': [HumanMessage(content='What is the weather in sf?', additional_kwargs={}, response_metadata={}), AIMessage(content='', additional_kwargs={}, response_metadata={'model': 'qwen2.5:7b', 'created_at': '2025-03-11T13:14:06.304957Z', 'done': True, 'done_reason': 'stop', 'total_duration': 3394111041, 'load_duration': 563187208, 'prompt_eval_count': 244, 'prompt_eval_duration': 1593000000, 'eval_count': 26, 'eval_duration': 1007000000, 'message': Message(role='assistant', content='', images=None, tool_calls=None)}, id='run-df7ea652-9a66-49a0-8f3f-b37064aaa390-0', tool_calls=[{'name': 'tavily_search_results_json', 'args': {'query': 'weather in sf'}, 'id': '6b465965-9d78-4219-b5b6-8b17cd71f84b', 'type': 'tool_call'}], usage_metadata={'input_tokens': 244, 'output_tokens': 26, 'total_tokens': 270}), ToolMessage(content='[{\\'title\\': \\'Weather in San Francisco\\', \\'url\\': \\'https://www.weatherapi.com/\\', \\'content\\': \"{\\'location\\': {\\'name\\': \\'San Francisco\\', \\'region\\': \\'California\\', \\'country\\': \\'United States of America\\', \\'lat\\': 37.775, \\'lon\\': -122.4183, \\'tz_id\\': \\'America/Los_Angeles\\', \\'localtime_epoch\\': 1741696540, \\'localtime\\': \\'2025-03-11 05:35\\'}, \\'current\\': {\\'last_updated_epoch\\': 1741696200, \\'last_updated\\': \\'2025-03-11 05:30\\', \\'temp_c\\': 7.2, \\'temp_f\\': 45.0, \\'is_day\\': 0, \\'condition\\': {\\'text\\': \\'Partly cloudy\\', \\'icon\\': \\'//cdn.weatherapi.com/weather/64x64/night/116.png\\', \\'code\\': 1003}, \\'wind_mph\\': 4.0, \\'wind_kph\\': 6.5, \\'wind_degree\\': 253, \\'wind_dir\\': \\'WSW\\', \\'pressure_mb\\': 1010.0, \\'pressure_in\\': 29.81, \\'precip_mm\\': 0.0, \\'precip_in\\': 0.0, \\'humidity\\': 71, \\'cloud\\': 75, \\'feelslike_c\\': 6.1, \\'feelslike_f\\': 43.0, \\'windchill_c\\': 5.8, \\'windchill_f\\': 42.5, \\'heatindex_c\\': 6.8, \\'heatindex_f\\': 44.3, \\'dewpoint_c\\': 6.4, \\'dewpoint_f\\': 43.5, \\'vis_km\\': 16.0, \\'vis_miles\\': 9.0, \\'uv\\': 0.0, \\'gust_mph\\': 7.3, \\'gust_kph\\': 11.8}}\", \\'score\\': 0.8909506}, {\\'title\\': \\'San Francisco weather in March 2025 | Weather25.com\\', \\'url\\': \\'https://www.weather25.com/north-america/usa/california/san-francisco?page=month&month=March\\', \\'content\\': \\'San Francisco weather in March 2025 | Weather25.com San Francisco weather in March 2025 | San Francisco in March | Temperatures in San Francisco in March Weather in San Francisco in March - FAQ The average temperature in San Francisco in March is 8/17° C. On average, there are 5 rainy days in San Francisco during March. The weather in San Francisco in March is good. On average, there are 0 snowy days in San Francisco in March. More about the weather in San Francisco San Francisco 14 day weather Long range weather for San Francisco San Francisco weather in November San Francisco weather in December San Francisco Webcam Weather tomorrow Hotels in San Francisco\\', \\'score\\': 0.83549726}]', name='tavily_search_results_json', tool_call_id='6b465965-9d78-4219-b5b6-8b17cd71f84b')]}\n"
     ]
    },
    {
     "name": "stderr",
     "output_type": "stream",
     "text": [
      "INFO:__main__:state: {'messages': [HumanMessage(content='What is the weather in sf?', additional_kwargs={}, response_metadata={}), AIMessage(content='', additional_kwargs={}, response_metadata={'model': 'qwen2.5:7b', 'created_at': '2025-03-11T13:14:06.304957Z', 'done': True, 'done_reason': 'stop', 'total_duration': 3394111041, 'load_duration': 563187208, 'prompt_eval_count': 244, 'prompt_eval_duration': 1593000000, 'eval_count': 26, 'eval_duration': 1007000000, 'message': Message(role='assistant', content='', images=None, tool_calls=None)}, id='run-df7ea652-9a66-49a0-8f3f-b37064aaa390-0', tool_calls=[{'name': 'tavily_search_results_json', 'args': {'query': 'weather in sf'}, 'id': '6b465965-9d78-4219-b5b6-8b17cd71f84b', 'type': 'tool_call'}], usage_metadata={'input_tokens': 244, 'output_tokens': 26, 'total_tokens': 270}), ToolMessage(content='[{\\'title\\': \\'Weather in San Francisco\\', \\'url\\': \\'https://www.weatherapi.com/\\', \\'content\\': \"{\\'location\\': {\\'name\\': \\'San Francisco\\', \\'region\\': \\'California\\', \\'country\\': \\'United States of America\\', \\'lat\\': 37.775, \\'lon\\': -122.4183, \\'tz_id\\': \\'America/Los_Angeles\\', \\'localtime_epoch\\': 1741696540, \\'localtime\\': \\'2025-03-11 05:35\\'}, \\'current\\': {\\'last_updated_epoch\\': 1741696200, \\'last_updated\\': \\'2025-03-11 05:30\\', \\'temp_c\\': 7.2, \\'temp_f\\': 45.0, \\'is_day\\': 0, \\'condition\\': {\\'text\\': \\'Partly cloudy\\', \\'icon\\': \\'//cdn.weatherapi.com/weather/64x64/night/116.png\\', \\'code\\': 1003}, \\'wind_mph\\': 4.0, \\'wind_kph\\': 6.5, \\'wind_degree\\': 253, \\'wind_dir\\': \\'WSW\\', \\'pressure_mb\\': 1010.0, \\'pressure_in\\': 29.81, \\'precip_mm\\': 0.0, \\'precip_in\\': 0.0, \\'humidity\\': 71, \\'cloud\\': 75, \\'feelslike_c\\': 6.1, \\'feelslike_f\\': 43.0, \\'windchill_c\\': 5.8, \\'windchill_f\\': 42.5, \\'heatindex_c\\': 6.8, \\'heatindex_f\\': 44.3, \\'dewpoint_c\\': 6.4, \\'dewpoint_f\\': 43.5, \\'vis_km\\': 16.0, \\'vis_miles\\': 9.0, \\'uv\\': 0.0, \\'gust_mph\\': 7.3, \\'gust_kph\\': 11.8}}\", \\'score\\': 0.8909506}, {\\'title\\': \\'San Francisco weather in March 2025 | Weather25.com\\', \\'url\\': \\'https://www.weather25.com/north-america/usa/california/san-francisco?page=month&month=March\\', \\'content\\': \\'San Francisco weather in March 2025 | Weather25.com San Francisco weather in March 2025 | San Francisco in March | Temperatures in San Francisco in March Weather in San Francisco in March - FAQ The average temperature in San Francisco in March is 8/17° C. On average, there are 5 rainy days in San Francisco during March. The weather in San Francisco in March is good. On average, there are 0 snowy days in San Francisco in March. More about the weather in San Francisco San Francisco 14 day weather Long range weather for San Francisco San Francisco weather in November San Francisco weather in December San Francisco Webcam Weather tomorrow Hotels in San Francisco\\', \\'score\\': 0.83549726}]', name='tavily_search_results_json', tool_call_id='6b465965-9d78-4219-b5b6-8b17cd71f84b')]}\n",
      "INFO:httpx:HTTP Request: POST http://127.0.0.1:11434/api/chat \"HTTP/1.1 200 OK\"\n"
     ]
    },
    {
     "name": "stdout",
     "output_type": "stream",
     "text": [
      "2025-03-11 21:14:22,475 - \u001b[1;36mINFO\u001b[0m - LLM message: content='The current weather in San Francisco is as follows:\\n\\n- Temperature: 7.2°C (45°F)\\n- Condition: Partly cloudy\\n- Wind Speed: 4.0 mph (6.5 kph) from the WSW direction\\n- Humidity: 71%\\n- Cloud Coverage: 75%\\n\\nThe temperature feels like 6.1°C (43°F). Visibility is good at 16 km (9 miles).\\n\\nFor more detailed information, you can visit [Weather API](https://www.weatherapi.com/).' additional_kwargs={} response_metadata={'model': 'qwen2.5:7b', 'created_at': '2025-03-11T13:14:22.468568Z', 'done': True, 'done_reason': 'stop', 'total_duration': 8480100833, 'load_duration': 35982583, 'prompt_eval_count': 987, 'prompt_eval_duration': 3483000000, 'eval_count': 115, 'eval_duration': 4938000000, 'message': Message(role='assistant', content='The current weather in San Francisco is as follows:\\n\\n- Temperature: 7.2°C (45°F)\\n- Condition: Partly cloudy\\n- Wind Speed: 4.0 mph (6.5 kph) from the WSW direction\\n- Humidity: 71%\\n- Cloud Coverage: 75%\\n\\nThe temperature feels like 6.1°C (43°F). Visibility is good at 16 km (9 miles).\\n\\nFor more detailed information, you can visit [Weather API](https://www.weatherapi.com/).', images=None, tool_calls=None)} id='run-1c1d89ac-ece8-4c3e-9c7e-28f1d3364bad-0' usage_metadata={'input_tokens': 987, 'output_tokens': 115, 'total_tokens': 1102}\n"
     ]
    },
    {
     "name": "stderr",
     "output_type": "stream",
     "text": [
      "INFO:__main__:LLM message: content='The current weather in San Francisco is as follows:\\n\\n- Temperature: 7.2°C (45°F)\\n- Condition: Partly cloudy\\n- Wind Speed: 4.0 mph (6.5 kph) from the WSW direction\\n- Humidity: 71%\\n- Cloud Coverage: 75%\\n\\nThe temperature feels like 6.1°C (43°F). Visibility is good at 16 km (9 miles).\\n\\nFor more detailed information, you can visit [Weather API](https://www.weatherapi.com/).' additional_kwargs={} response_metadata={'model': 'qwen2.5:7b', 'created_at': '2025-03-11T13:14:22.468568Z', 'done': True, 'done_reason': 'stop', 'total_duration': 8480100833, 'load_duration': 35982583, 'prompt_eval_count': 987, 'prompt_eval_duration': 3483000000, 'eval_count': 115, 'eval_duration': 4938000000, 'message': Message(role='assistant', content='The current weather in San Francisco is as follows:\\n\\n- Temperature: 7.2°C (45°F)\\n- Condition: Partly cloudy\\n- Wind Speed: 4.0 mph (6.5 kph) from the WSW direction\\n- Humidity: 71%\\n- Cloud Coverage: 75%\\n\\nThe temperature feels like 6.1°C (43°F). Visibility is good at 16 km (9 miles).\\n\\nFor more detailed information, you can visit [Weather API](https://www.weatherapi.com/).', images=None, tool_calls=None)} id='run-1c1d89ac-ece8-4c3e-9c7e-28f1d3364bad-0' usage_metadata={'input_tokens': 987, 'output_tokens': 115, 'total_tokens': 1102}\n"
     ]
    },
    {
     "name": "stdout",
     "output_type": "stream",
     "text": [
      "2025-03-11 21:14:22,477 - \u001b[1;36mINFO\u001b[0m - exists_action result: content='The current weather in San Francisco is as follows:\\n\\n- Temperature: 7.2°C (45°F)\\n- Condition: Partly cloudy\\n- Wind Speed: 4.0 mph (6.5 kph) from the WSW direction\\n- Humidity: 71%\\n- Cloud Coverage: 75%\\n\\nThe temperature feels like 6.1°C (43°F). Visibility is good at 16 km (9 miles).\\n\\nFor more detailed information, you can visit [Weather API](https://www.weatherapi.com/).' additional_kwargs={} response_metadata={'model': 'qwen2.5:7b', 'created_at': '2025-03-11T13:14:22.468568Z', 'done': True, 'done_reason': 'stop', 'total_duration': 8480100833, 'load_duration': 35982583, 'prompt_eval_count': 987, 'prompt_eval_duration': 3483000000, 'eval_count': 115, 'eval_duration': 4938000000, 'message': Message(role='assistant', content='The current weather in San Francisco is as follows:\\n\\n- Temperature: 7.2°C (45°F)\\n- Condition: Partly cloudy\\n- Wind Speed: 4.0 mph (6.5 kph) from the WSW direction\\n- Humidity: 71%\\n- Cloud Coverage: 75%\\n\\nThe temperature feels like 6.1°C (43°F). Visibility is good at 16 km (9 miles).\\n\\nFor more detailed information, you can visit [Weather API](https://www.weatherapi.com/).', images=None, tool_calls=None)} id='run-1c1d89ac-ece8-4c3e-9c7e-28f1d3364bad-0' usage_metadata={'input_tokens': 987, 'output_tokens': 115, 'total_tokens': 1102}\n"
     ]
    },
    {
     "name": "stderr",
     "output_type": "stream",
     "text": [
      "INFO:__main__:exists_action result: content='The current weather in San Francisco is as follows:\\n\\n- Temperature: 7.2°C (45°F)\\n- Condition: Partly cloudy\\n- Wind Speed: 4.0 mph (6.5 kph) from the WSW direction\\n- Humidity: 71%\\n- Cloud Coverage: 75%\\n\\nThe temperature feels like 6.1°C (43°F). Visibility is good at 16 km (9 miles).\\n\\nFor more detailed information, you can visit [Weather API](https://www.weatherapi.com/).' additional_kwargs={} response_metadata={'model': 'qwen2.5:7b', 'created_at': '2025-03-11T13:14:22.468568Z', 'done': True, 'done_reason': 'stop', 'total_duration': 8480100833, 'load_duration': 35982583, 'prompt_eval_count': 987, 'prompt_eval_duration': 3483000000, 'eval_count': 115, 'eval_duration': 4938000000, 'message': Message(role='assistant', content='The current weather in San Francisco is as follows:\\n\\n- Temperature: 7.2°C (45°F)\\n- Condition: Partly cloudy\\n- Wind Speed: 4.0 mph (6.5 kph) from the WSW direction\\n- Humidity: 71%\\n- Cloud Coverage: 75%\\n\\nThe temperature feels like 6.1°C (43°F). Visibility is good at 16 km (9 miles).\\n\\nFor more detailed information, you can visit [Weather API](https://www.weatherapi.com/).', images=None, tool_calls=None)} id='run-1c1d89ac-ece8-4c3e-9c7e-28f1d3364bad-0' usage_metadata={'input_tokens': 987, 'output_tokens': 115, 'total_tokens': 1102}\n"
     ]
    }
   ],
   "source": [
    "messages = [\n",
    "    HumanMessage(\n",
    "        content=\"What is the weather in sf?\"\n",
    "    )\n",
    "]\n",
    "result = abot.graph.invoke({'messages': messages})"
   ]
  },
  {
   "cell_type": "code",
   "execution_count": 8,
   "metadata": {},
   "outputs": [
    {
     "data": {
      "text/plain": [
       "'The current weather in San Francisco is as follows:\\n\\n- Temperature: 7.2°C (45°F)\\n- Condition: Partly cloudy\\n- Wind Speed: 4.0 mph (6.5 kph) from the WSW direction\\n- Humidity: 71%\\n- Cloud Coverage: 75%\\n\\nThe temperature feels like 6.1°C (43°F). Visibility is good at 16 km (9 miles).\\n\\nFor more detailed information, you can visit [Weather API](https://www.weatherapi.com/).'"
      ]
     },
     "execution_count": 8,
     "metadata": {},
     "output_type": "execute_result"
    }
   ],
   "source": [
    "result['messages'][-1].content"
   ]
  },
  {
   "cell_type": "code",
   "execution_count": 9,
   "metadata": {},
   "outputs": [
    {
     "name": "stdout",
     "output_type": "stream",
     "text": [
      "2025-03-11 21:14:22,498 - \u001b[1;36mINFO\u001b[0m - state: {'messages': [HumanMessage(content='What is the weather in SF and LA?', additional_kwargs={}, response_metadata={})]}\n"
     ]
    },
    {
     "name": "stderr",
     "output_type": "stream",
     "text": [
      "INFO:__main__:state: {'messages': [HumanMessage(content='What is the weather in SF and LA?', additional_kwargs={}, response_metadata={})]}\n",
      "INFO:httpx:HTTP Request: POST http://127.0.0.1:11434/api/chat \"HTTP/1.1 200 OK\"\n"
     ]
    },
    {
     "name": "stdout",
     "output_type": "stream",
     "text": [
      "2025-03-11 21:14:23,880 - \u001b[1;36mINFO\u001b[0m - LLM message: content='' additional_kwargs={} response_metadata={'model': 'qwen2.5:7b', 'created_at': '2025-03-11T13:14:23.878975Z', 'done': True, 'done_reason': 'stop', 'total_duration': 1377691583, 'load_duration': 13891666, 'prompt_eval_count': 246, 'prompt_eval_duration': 180000000, 'eval_count': 30, 'eval_duration': 1180000000, 'message': Message(role='assistant', content='', images=None, tool_calls=None)} id='run-be5020e8-6a00-4fc3-bcb6-afe9ecc9171d-0' tool_calls=[{'name': 'tavily_search_results_json', 'args': {'query': 'weather in San Francisco and Los Angeles'}, 'id': '75b27a48-70c4-4987-9338-de0ee7f1db6a', 'type': 'tool_call'}] usage_metadata={'input_tokens': 246, 'output_tokens': 30, 'total_tokens': 276}\n"
     ]
    },
    {
     "name": "stderr",
     "output_type": "stream",
     "text": [
      "INFO:__main__:LLM message: content='' additional_kwargs={} response_metadata={'model': 'qwen2.5:7b', 'created_at': '2025-03-11T13:14:23.878975Z', 'done': True, 'done_reason': 'stop', 'total_duration': 1377691583, 'load_duration': 13891666, 'prompt_eval_count': 246, 'prompt_eval_duration': 180000000, 'eval_count': 30, 'eval_duration': 1180000000, 'message': Message(role='assistant', content='', images=None, tool_calls=None)} id='run-be5020e8-6a00-4fc3-bcb6-afe9ecc9171d-0' tool_calls=[{'name': 'tavily_search_results_json', 'args': {'query': 'weather in San Francisco and Los Angeles'}, 'id': '75b27a48-70c4-4987-9338-de0ee7f1db6a', 'type': 'tool_call'}] usage_metadata={'input_tokens': 246, 'output_tokens': 30, 'total_tokens': 276}\n"
     ]
    },
    {
     "name": "stdout",
     "output_type": "stream",
     "text": [
      "2025-03-11 21:14:23,881 - \u001b[1;36mINFO\u001b[0m - exists_action result: content='' additional_kwargs={} response_metadata={'model': 'qwen2.5:7b', 'created_at': '2025-03-11T13:14:23.878975Z', 'done': True, 'done_reason': 'stop', 'total_duration': 1377691583, 'load_duration': 13891666, 'prompt_eval_count': 246, 'prompt_eval_duration': 180000000, 'eval_count': 30, 'eval_duration': 1180000000, 'message': Message(role='assistant', content='', images=None, tool_calls=None)} id='run-be5020e8-6a00-4fc3-bcb6-afe9ecc9171d-0' tool_calls=[{'name': 'tavily_search_results_json', 'args': {'query': 'weather in San Francisco and Los Angeles'}, 'id': '75b27a48-70c4-4987-9338-de0ee7f1db6a', 'type': 'tool_call'}] usage_metadata={'input_tokens': 246, 'output_tokens': 30, 'total_tokens': 276}\n"
     ]
    },
    {
     "name": "stderr",
     "output_type": "stream",
     "text": [
      "INFO:__main__:exists_action result: content='' additional_kwargs={} response_metadata={'model': 'qwen2.5:7b', 'created_at': '2025-03-11T13:14:23.878975Z', 'done': True, 'done_reason': 'stop', 'total_duration': 1377691583, 'load_duration': 13891666, 'prompt_eval_count': 246, 'prompt_eval_duration': 180000000, 'eval_count': 30, 'eval_duration': 1180000000, 'message': Message(role='assistant', content='', images=None, tool_calls=None)} id='run-be5020e8-6a00-4fc3-bcb6-afe9ecc9171d-0' tool_calls=[{'name': 'tavily_search_results_json', 'args': {'query': 'weather in San Francisco and Los Angeles'}, 'id': '75b27a48-70c4-4987-9338-de0ee7f1db6a', 'type': 'tool_call'}] usage_metadata={'input_tokens': 246, 'output_tokens': 30, 'total_tokens': 276}\n"
     ]
    },
    {
     "name": "stdout",
     "output_type": "stream",
     "text": [
      "take_action called in thread: MainThread\n",
      "take_action called with tool_calls: [{'name': 'tavily_search_results_json', 'args': {'query': 'weather in San Francisco and Los Angeles'}, 'id': '75b27a48-70c4-4987-9338-de0ee7f1db6a', 'type': 'tool_call'}]\n",
      "2025-03-11 21:14:23,882 - \u001b[1;36mINFO\u001b[0m - Calling: {'name': 'tavily_search_results_json', 'args': {'query': 'weather in San Francisco and Los Angeles'}, 'id': '75b27a48-70c4-4987-9338-de0ee7f1db6a', 'type': 'tool_call'}\n"
     ]
    },
    {
     "name": "stderr",
     "output_type": "stream",
     "text": [
      "INFO:__main__:Calling: {'name': 'tavily_search_results_json', 'args': {'query': 'weather in San Francisco and Los Angeles'}, 'id': '75b27a48-70c4-4987-9338-de0ee7f1db6a', 'type': 'tool_call'}\n"
     ]
    },
    {
     "name": "stdout",
     "output_type": "stream",
     "text": [
      "Calling: {'name': 'tavily_search_results_json', 'args': {'query': 'weather in San Francisco and Los Angeles'}, 'id': '75b27a48-70c4-4987-9338-de0ee7f1db6a', 'type': 'tool_call'}\n",
      "2025-03-11 21:14:32,318 - \u001b[1;36mINFO\u001b[0m - action tavily_search_results_json, result: [{'title': 'Weather in San Francisco, Los Angeles', 'url': 'https://www.weatherapi.com/', 'content': \"{'location': {'name': 'Colonia Los Angeles', 'region': 'Francisco Morazan', 'country': 'Honduras', 'lat': 14.05, 'lon': -87.2167, 'tz_id': 'America/Tegucigalpa', 'localtime_epoch': 1741698417, 'localtime': '2025-03-11 07:06'}, 'current': {'last_updated_epoch': 1741698000, 'last_updated': '2025-03-11 07:00', 'temp_c': 19.3, 'temp_f': 66.7, 'is_day': 1, 'condition': {'text': 'Light rain', 'icon': '//cdn.weatherapi.com/weather/64x64/day/296.png', 'code': 1183}, 'wind_mph': 2.2, 'wind_kph': 3.6, 'wind_degree': 50, 'wind_dir': 'NE', 'pressure_mb': 1019.0, 'pressure_in': 30.09, 'precip_mm': 0.0, 'precip_in': 0.0, 'humidity': 94, 'cloud': 75, 'feelslike_c': 19.3, 'feelslike_f': 66.7, 'windchill_c': 18.7, 'windchill_f': 65.7, 'heatindex_c': 18.7, 'heatindex_f': 65.7, 'dewpoint_c': 14.9, 'dewpoint_f': 58.8, 'vis_km': 6.0, 'vis_miles': 3.0, 'uv': 0.8, 'gust_mph': 3.4, 'gust_kph': 5.4}}\", 'score': 0.7005383}, {'title': 'Weather Forecast and Conditions for San Francisco, CA', 'url': 'https://weather.com/weather/today/l/USCA0987:1:US', 'content': \"Weather Forecast and Conditions for San Francisco, CA - The Weather Channel | Weather.com Weather Forecasts Today's Forecast for San Francisco, CA Weather Today in San Francisco, CA Northeast Snow Totals Likely To Surpass Past 2 Winters Combined ### Now 49° Chance of Rain2% ### 10 pm 48° Chance of Rain2% ### 11 pm 47° Chance of Rain2% ### 12 am 46° Chance of Rain2% Breathe Easier This Winter By Improving Indoor Air Quality Thank You Blithedale Canyon / Middle Ridge Neighbor 0d ago 9reactions6commentsMoreCoast cafe OPEN after our Winter Break!We are now back from our vacations and OPEN for our Winter Hours. Weather Data APIs We may use or share your data with our data vendors.\", 'score': 0.51325434}]\n"
     ]
    },
    {
     "name": "stderr",
     "output_type": "stream",
     "text": [
      "INFO:__main__:action tavily_search_results_json, result: [{'title': 'Weather in San Francisco, Los Angeles', 'url': 'https://www.weatherapi.com/', 'content': \"{'location': {'name': 'Colonia Los Angeles', 'region': 'Francisco Morazan', 'country': 'Honduras', 'lat': 14.05, 'lon': -87.2167, 'tz_id': 'America/Tegucigalpa', 'localtime_epoch': 1741698417, 'localtime': '2025-03-11 07:06'}, 'current': {'last_updated_epoch': 1741698000, 'last_updated': '2025-03-11 07:00', 'temp_c': 19.3, 'temp_f': 66.7, 'is_day': 1, 'condition': {'text': 'Light rain', 'icon': '//cdn.weatherapi.com/weather/64x64/day/296.png', 'code': 1183}, 'wind_mph': 2.2, 'wind_kph': 3.6, 'wind_degree': 50, 'wind_dir': 'NE', 'pressure_mb': 1019.0, 'pressure_in': 30.09, 'precip_mm': 0.0, 'precip_in': 0.0, 'humidity': 94, 'cloud': 75, 'feelslike_c': 19.3, 'feelslike_f': 66.7, 'windchill_c': 18.7, 'windchill_f': 65.7, 'heatindex_c': 18.7, 'heatindex_f': 65.7, 'dewpoint_c': 14.9, 'dewpoint_f': 58.8, 'vis_km': 6.0, 'vis_miles': 3.0, 'uv': 0.8, 'gust_mph': 3.4, 'gust_kph': 5.4}}\", 'score': 0.7005383}, {'title': 'Weather Forecast and Conditions for San Francisco, CA', 'url': 'https://weather.com/weather/today/l/USCA0987:1:US', 'content': \"Weather Forecast and Conditions for San Francisco, CA - The Weather Channel | Weather.com Weather Forecasts Today's Forecast for San Francisco, CA Weather Today in San Francisco, CA Northeast Snow Totals Likely To Surpass Past 2 Winters Combined ### Now 49° Chance of Rain2% ### 10 pm 48° Chance of Rain2% ### 11 pm 47° Chance of Rain2% ### 12 am 46° Chance of Rain2% Breathe Easier This Winter By Improving Indoor Air Quality Thank You Blithedale Canyon / Middle Ridge Neighbor 0d ago 9reactions6commentsMoreCoast cafe OPEN after our Winter Break!We are now back from our vacations and OPEN for our Winter Hours. Weather Data APIs We may use or share your data with our data vendors.\", 'score': 0.51325434}]\n"
     ]
    },
    {
     "name": "stdout",
     "output_type": "stream",
     "text": [
      "action tavily_search_results_json, result: [{'title': 'Weather in San Francisco, Los Angeles', 'url': 'https://www.weatherapi.com/', 'content': \"{'location': {'name': 'Colonia Los Angeles', 'region': 'Francisco Morazan', 'country': 'Honduras', 'lat': 14.05, 'lon': -87.2167, 'tz_id': 'America/Tegucigalpa', 'localtime_epoch': 1741698417, 'localtime': '2025-03-11 07:06'}, 'current': {'last_updated_epoch': 1741698000, 'last_updated': '2025-03-11 07:00', 'temp_c': 19.3, 'temp_f': 66.7, 'is_day': 1, 'condition': {'text': 'Light rain', 'icon': '//cdn.weatherapi.com/weather/64x64/day/296.png', 'code': 1183}, 'wind_mph': 2.2, 'wind_kph': 3.6, 'wind_degree': 50, 'wind_dir': 'NE', 'pressure_mb': 1019.0, 'pressure_in': 30.09, 'precip_mm': 0.0, 'precip_in': 0.0, 'humidity': 94, 'cloud': 75, 'feelslike_c': 19.3, 'feelslike_f': 66.7, 'windchill_c': 18.7, 'windchill_f': 65.7, 'heatindex_c': 18.7, 'heatindex_f': 65.7, 'dewpoint_c': 14.9, 'dewpoint_f': 58.8, 'vis_km': 6.0, 'vis_miles': 3.0, 'uv': 0.8, 'gust_mph': 3.4, 'gust_kph': 5.4}}\", 'score': 0.7005383}, {'title': 'Weather Forecast and Conditions for San Francisco, CA', 'url': 'https://weather.com/weather/today/l/USCA0987:1:US', 'content': \"Weather Forecast and Conditions for San Francisco, CA - The Weather Channel | Weather.com Weather Forecasts Today's Forecast for San Francisco, CA Weather Today in San Francisco, CA Northeast Snow Totals Likely To Surpass Past 2 Winters Combined ### Now 49° Chance of Rain2% ### 10 pm 48° Chance of Rain2% ### 11 pm 47° Chance of Rain2% ### 12 am 46° Chance of Rain2% Breathe Easier This Winter By Improving Indoor Air Quality Thank You Blithedale Canyon / Middle Ridge Neighbor 0d ago 9reactions6commentsMoreCoast cafe OPEN after our Winter Break!We are now back from our vacations and OPEN for our Winter Hours. Weather Data APIs We may use or share your data with our data vendors.\", 'score': 0.51325434}]\n",
      "Back to the model!\n",
      "2025-03-11 21:14:32,321 - \u001b[1;36mINFO\u001b[0m - state: {'messages': [HumanMessage(content='What is the weather in SF and LA?', additional_kwargs={}, response_metadata={}), AIMessage(content='', additional_kwargs={}, response_metadata={'model': 'qwen2.5:7b', 'created_at': '2025-03-11T13:14:23.878975Z', 'done': True, 'done_reason': 'stop', 'total_duration': 1377691583, 'load_duration': 13891666, 'prompt_eval_count': 246, 'prompt_eval_duration': 180000000, 'eval_count': 30, 'eval_duration': 1180000000, 'message': Message(role='assistant', content='', images=None, tool_calls=None)}, id='run-be5020e8-6a00-4fc3-bcb6-afe9ecc9171d-0', tool_calls=[{'name': 'tavily_search_results_json', 'args': {'query': 'weather in San Francisco and Los Angeles'}, 'id': '75b27a48-70c4-4987-9338-de0ee7f1db6a', 'type': 'tool_call'}], usage_metadata={'input_tokens': 246, 'output_tokens': 30, 'total_tokens': 276}), ToolMessage(content='[{\\'title\\': \\'Weather in San Francisco, Los Angeles\\', \\'url\\': \\'https://www.weatherapi.com/\\', \\'content\\': \"{\\'location\\': {\\'name\\': \\'Colonia Los Angeles\\', \\'region\\': \\'Francisco Morazan\\', \\'country\\': \\'Honduras\\', \\'lat\\': 14.05, \\'lon\\': -87.2167, \\'tz_id\\': \\'America/Tegucigalpa\\', \\'localtime_epoch\\': 1741698417, \\'localtime\\': \\'2025-03-11 07:06\\'}, \\'current\\': {\\'last_updated_epoch\\': 1741698000, \\'last_updated\\': \\'2025-03-11 07:00\\', \\'temp_c\\': 19.3, \\'temp_f\\': 66.7, \\'is_day\\': 1, \\'condition\\': {\\'text\\': \\'Light rain\\', \\'icon\\': \\'//cdn.weatherapi.com/weather/64x64/day/296.png\\', \\'code\\': 1183}, \\'wind_mph\\': 2.2, \\'wind_kph\\': 3.6, \\'wind_degree\\': 50, \\'wind_dir\\': \\'NE\\', \\'pressure_mb\\': 1019.0, \\'pressure_in\\': 30.09, \\'precip_mm\\': 0.0, \\'precip_in\\': 0.0, \\'humidity\\': 94, \\'cloud\\': 75, \\'feelslike_c\\': 19.3, \\'feelslike_f\\': 66.7, \\'windchill_c\\': 18.7, \\'windchill_f\\': 65.7, \\'heatindex_c\\': 18.7, \\'heatindex_f\\': 65.7, \\'dewpoint_c\\': 14.9, \\'dewpoint_f\\': 58.8, \\'vis_km\\': 6.0, \\'vis_miles\\': 3.0, \\'uv\\': 0.8, \\'gust_mph\\': 3.4, \\'gust_kph\\': 5.4}}\", \\'score\\': 0.7005383}, {\\'title\\': \\'Weather Forecast and Conditions for San Francisco, CA\\', \\'url\\': \\'https://weather.com/weather/today/l/USCA0987:1:US\\', \\'content\\': \"Weather Forecast and Conditions for San Francisco, CA - The Weather Channel | Weather.com Weather Forecasts Today\\'s Forecast for San Francisco, CA Weather Today in San Francisco, CA Northeast Snow Totals Likely To Surpass Past 2 Winters Combined ### Now 49° Chance of Rain2% ### 10 pm 48° Chance of Rain2% ### 11 pm 47° Chance of Rain2% ### 12 am 46° Chance of Rain2% Breathe Easier This Winter By Improving Indoor Air Quality Thank You Blithedale Canyon / Middle Ridge Neighbor 0d ago 9reactions6commentsMoreCoast cafe OPEN after our Winter Break!We are now back from our vacations and OPEN for our Winter Hours. Weather Data APIs We may use or share your data with our data vendors.\", \\'score\\': 0.51325434}]', name='tavily_search_results_json', tool_call_id='75b27a48-70c4-4987-9338-de0ee7f1db6a')]}\n"
     ]
    },
    {
     "name": "stderr",
     "output_type": "stream",
     "text": [
      "INFO:__main__:state: {'messages': [HumanMessage(content='What is the weather in SF and LA?', additional_kwargs={}, response_metadata={}), AIMessage(content='', additional_kwargs={}, response_metadata={'model': 'qwen2.5:7b', 'created_at': '2025-03-11T13:14:23.878975Z', 'done': True, 'done_reason': 'stop', 'total_duration': 1377691583, 'load_duration': 13891666, 'prompt_eval_count': 246, 'prompt_eval_duration': 180000000, 'eval_count': 30, 'eval_duration': 1180000000, 'message': Message(role='assistant', content='', images=None, tool_calls=None)}, id='run-be5020e8-6a00-4fc3-bcb6-afe9ecc9171d-0', tool_calls=[{'name': 'tavily_search_results_json', 'args': {'query': 'weather in San Francisco and Los Angeles'}, 'id': '75b27a48-70c4-4987-9338-de0ee7f1db6a', 'type': 'tool_call'}], usage_metadata={'input_tokens': 246, 'output_tokens': 30, 'total_tokens': 276}), ToolMessage(content='[{\\'title\\': \\'Weather in San Francisco, Los Angeles\\', \\'url\\': \\'https://www.weatherapi.com/\\', \\'content\\': \"{\\'location\\': {\\'name\\': \\'Colonia Los Angeles\\', \\'region\\': \\'Francisco Morazan\\', \\'country\\': \\'Honduras\\', \\'lat\\': 14.05, \\'lon\\': -87.2167, \\'tz_id\\': \\'America/Tegucigalpa\\', \\'localtime_epoch\\': 1741698417, \\'localtime\\': \\'2025-03-11 07:06\\'}, \\'current\\': {\\'last_updated_epoch\\': 1741698000, \\'last_updated\\': \\'2025-03-11 07:00\\', \\'temp_c\\': 19.3, \\'temp_f\\': 66.7, \\'is_day\\': 1, \\'condition\\': {\\'text\\': \\'Light rain\\', \\'icon\\': \\'//cdn.weatherapi.com/weather/64x64/day/296.png\\', \\'code\\': 1183}, \\'wind_mph\\': 2.2, \\'wind_kph\\': 3.6, \\'wind_degree\\': 50, \\'wind_dir\\': \\'NE\\', \\'pressure_mb\\': 1019.0, \\'pressure_in\\': 30.09, \\'precip_mm\\': 0.0, \\'precip_in\\': 0.0, \\'humidity\\': 94, \\'cloud\\': 75, \\'feelslike_c\\': 19.3, \\'feelslike_f\\': 66.7, \\'windchill_c\\': 18.7, \\'windchill_f\\': 65.7, \\'heatindex_c\\': 18.7, \\'heatindex_f\\': 65.7, \\'dewpoint_c\\': 14.9, \\'dewpoint_f\\': 58.8, \\'vis_km\\': 6.0, \\'vis_miles\\': 3.0, \\'uv\\': 0.8, \\'gust_mph\\': 3.4, \\'gust_kph\\': 5.4}}\", \\'score\\': 0.7005383}, {\\'title\\': \\'Weather Forecast and Conditions for San Francisco, CA\\', \\'url\\': \\'https://weather.com/weather/today/l/USCA0987:1:US\\', \\'content\\': \"Weather Forecast and Conditions for San Francisco, CA - The Weather Channel | Weather.com Weather Forecasts Today\\'s Forecast for San Francisco, CA Weather Today in San Francisco, CA Northeast Snow Totals Likely To Surpass Past 2 Winters Combined ### Now 49° Chance of Rain2% ### 10 pm 48° Chance of Rain2% ### 11 pm 47° Chance of Rain2% ### 12 am 46° Chance of Rain2% Breathe Easier This Winter By Improving Indoor Air Quality Thank You Blithedale Canyon / Middle Ridge Neighbor 0d ago 9reactions6commentsMoreCoast cafe OPEN after our Winter Break!We are now back from our vacations and OPEN for our Winter Hours. Weather Data APIs We may use or share your data with our data vendors.\", \\'score\\': 0.51325434}]', name='tavily_search_results_json', tool_call_id='75b27a48-70c4-4987-9338-de0ee7f1db6a')]}\n",
      "INFO:httpx:HTTP Request: POST http://127.0.0.1:11434/api/chat \"HTTP/1.1 200 OK\"\n"
     ]
    },
    {
     "name": "stdout",
     "output_type": "stream",
     "text": [
      "2025-03-11 21:14:41,755 - \u001b[1;36mINFO\u001b[0m - LLM message: content=\"I couldn't find the exact weather information for San Francisco (SF) and Los Angeles (LA). However, I found some related content:\\n\\n- [Weather API](https://www.weatherapi.com/) provided data for a location with coordinates near Colonia Los Angeles in Honduras. The temperature there is 19.3°C or 66.7°F with light rain.\\n\\n- For San Francisco, CA, the weather forecast shows a chance of rain throughout the night with temperatures ranging from 46°F to 49°F.\\n\\nYou might want to check these links for more accurate and up-to-date information on the specific locations you're interested in.\" additional_kwargs={} response_metadata={'model': 'qwen2.5:7b', 'created_at': '2025-03-11T13:14:41.753345Z', 'done': True, 'done_reason': 'stop', 'total_duration': 9427892292, 'load_duration': 41852209, 'prompt_eval_count': 1015, 'prompt_eval_duration': 3612000000, 'eval_count': 133, 'eval_duration': 5751000000, 'message': Message(role='assistant', content=\"I couldn't find the exact weather information for San Francisco (SF) and Los Angeles (LA). However, I found some related content:\\n\\n- [Weather API](https://www.weatherapi.com/) provided data for a location with coordinates near Colonia Los Angeles in Honduras. The temperature there is 19.3°C or 66.7°F with light rain.\\n\\n- For San Francisco, CA, the weather forecast shows a chance of rain throughout the night with temperatures ranging from 46°F to 49°F.\\n\\nYou might want to check these links for more accurate and up-to-date information on the specific locations you're interested in.\", images=None, tool_calls=None)} id='run-78c3b8fc-0517-463c-8838-686b274a2fbe-0' usage_metadata={'input_tokens': 1015, 'output_tokens': 133, 'total_tokens': 1148}\n"
     ]
    },
    {
     "name": "stderr",
     "output_type": "stream",
     "text": [
      "INFO:__main__:LLM message: content=\"I couldn't find the exact weather information for San Francisco (SF) and Los Angeles (LA). However, I found some related content:\\n\\n- [Weather API](https://www.weatherapi.com/) provided data for a location with coordinates near Colonia Los Angeles in Honduras. The temperature there is 19.3°C or 66.7°F with light rain.\\n\\n- For San Francisco, CA, the weather forecast shows a chance of rain throughout the night with temperatures ranging from 46°F to 49°F.\\n\\nYou might want to check these links for more accurate and up-to-date information on the specific locations you're interested in.\" additional_kwargs={} response_metadata={'model': 'qwen2.5:7b', 'created_at': '2025-03-11T13:14:41.753345Z', 'done': True, 'done_reason': 'stop', 'total_duration': 9427892292, 'load_duration': 41852209, 'prompt_eval_count': 1015, 'prompt_eval_duration': 3612000000, 'eval_count': 133, 'eval_duration': 5751000000, 'message': Message(role='assistant', content=\"I couldn't find the exact weather information for San Francisco (SF) and Los Angeles (LA). However, I found some related content:\\n\\n- [Weather API](https://www.weatherapi.com/) provided data for a location with coordinates near Colonia Los Angeles in Honduras. The temperature there is 19.3°C or 66.7°F with light rain.\\n\\n- For San Francisco, CA, the weather forecast shows a chance of rain throughout the night with temperatures ranging from 46°F to 49°F.\\n\\nYou might want to check these links for more accurate and up-to-date information on the specific locations you're interested in.\", images=None, tool_calls=None)} id='run-78c3b8fc-0517-463c-8838-686b274a2fbe-0' usage_metadata={'input_tokens': 1015, 'output_tokens': 133, 'total_tokens': 1148}\n"
     ]
    },
    {
     "name": "stdout",
     "output_type": "stream",
     "text": [
      "2025-03-11 21:14:41,756 - \u001b[1;36mINFO\u001b[0m - exists_action result: content=\"I couldn't find the exact weather information for San Francisco (SF) and Los Angeles (LA). However, I found some related content:\\n\\n- [Weather API](https://www.weatherapi.com/) provided data for a location with coordinates near Colonia Los Angeles in Honduras. The temperature there is 19.3°C or 66.7°F with light rain.\\n\\n- For San Francisco, CA, the weather forecast shows a chance of rain throughout the night with temperatures ranging from 46°F to 49°F.\\n\\nYou might want to check these links for more accurate and up-to-date information on the specific locations you're interested in.\" additional_kwargs={} response_metadata={'model': 'qwen2.5:7b', 'created_at': '2025-03-11T13:14:41.753345Z', 'done': True, 'done_reason': 'stop', 'total_duration': 9427892292, 'load_duration': 41852209, 'prompt_eval_count': 1015, 'prompt_eval_duration': 3612000000, 'eval_count': 133, 'eval_duration': 5751000000, 'message': Message(role='assistant', content=\"I couldn't find the exact weather information for San Francisco (SF) and Los Angeles (LA). However, I found some related content:\\n\\n- [Weather API](https://www.weatherapi.com/) provided data for a location with coordinates near Colonia Los Angeles in Honduras. The temperature there is 19.3°C or 66.7°F with light rain.\\n\\n- For San Francisco, CA, the weather forecast shows a chance of rain throughout the night with temperatures ranging from 46°F to 49°F.\\n\\nYou might want to check these links for more accurate and up-to-date information on the specific locations you're interested in.\", images=None, tool_calls=None)} id='run-78c3b8fc-0517-463c-8838-686b274a2fbe-0' usage_metadata={'input_tokens': 1015, 'output_tokens': 133, 'total_tokens': 1148}\n"
     ]
    },
    {
     "name": "stderr",
     "output_type": "stream",
     "text": [
      "INFO:__main__:exists_action result: content=\"I couldn't find the exact weather information for San Francisco (SF) and Los Angeles (LA). However, I found some related content:\\n\\n- [Weather API](https://www.weatherapi.com/) provided data for a location with coordinates near Colonia Los Angeles in Honduras. The temperature there is 19.3°C or 66.7°F with light rain.\\n\\n- For San Francisco, CA, the weather forecast shows a chance of rain throughout the night with temperatures ranging from 46°F to 49°F.\\n\\nYou might want to check these links for more accurate and up-to-date information on the specific locations you're interested in.\" additional_kwargs={} response_metadata={'model': 'qwen2.5:7b', 'created_at': '2025-03-11T13:14:41.753345Z', 'done': True, 'done_reason': 'stop', 'total_duration': 9427892292, 'load_duration': 41852209, 'prompt_eval_count': 1015, 'prompt_eval_duration': 3612000000, 'eval_count': 133, 'eval_duration': 5751000000, 'message': Message(role='assistant', content=\"I couldn't find the exact weather information for San Francisco (SF) and Los Angeles (LA). However, I found some related content:\\n\\n- [Weather API](https://www.weatherapi.com/) provided data for a location with coordinates near Colonia Los Angeles in Honduras. The temperature there is 19.3°C or 66.7°F with light rain.\\n\\n- For San Francisco, CA, the weather forecast shows a chance of rain throughout the night with temperatures ranging from 46°F to 49°F.\\n\\nYou might want to check these links for more accurate and up-to-date information on the specific locations you're interested in.\", images=None, tool_calls=None)} id='run-78c3b8fc-0517-463c-8838-686b274a2fbe-0' usage_metadata={'input_tokens': 1015, 'output_tokens': 133, 'total_tokens': 1148}\n"
     ]
    }
   ],
   "source": [
    "messages = [HumanMessage(content=\"What is the weather in SF and LA?\")]\n",
    "result = abot.graph.invoke({'messages': messages})"
   ]
  },
  {
   "cell_type": "code",
   "execution_count": 10,
   "metadata": {},
   "outputs": [
    {
     "data": {
      "text/plain": [
       "\"I couldn't find the exact weather information for San Francisco (SF) and Los Angeles (LA). However, I found some related content:\\n\\n- [Weather API](https://www.weatherapi.com/) provided data for a location with coordinates near Colonia Los Angeles in Honduras. The temperature there is 19.3°C or 66.7°F with light rain.\\n\\n- For San Francisco, CA, the weather forecast shows a chance of rain throughout the night with temperatures ranging from 46°F to 49°F.\\n\\nYou might want to check these links for more accurate and up-to-date information on the specific locations you're interested in.\""
      ]
     },
     "execution_count": 10,
     "metadata": {},
     "output_type": "execute_result"
    }
   ],
   "source": [
    "result['messages'][-1].content"
   ]
  },
  {
   "cell_type": "code",
   "execution_count": 11,
   "metadata": {},
   "outputs": [
    {
     "name": "stdout",
     "output_type": "stream",
     "text": [
      "2025-03-11 21:35:20,133 - \u001b[1;36mINFO\u001b[0m - state: {'messages': [HumanMessage(content='Who won the super bowl in 2024? What is the GDP of that state?', additional_kwargs={}, response_metadata={})]}\n"
     ]
    },
    {
     "name": "stderr",
     "output_type": "stream",
     "text": [
      "INFO:__main__:state: {'messages': [HumanMessage(content='Who won the super bowl in 2024? What is the GDP of that state?', additional_kwargs={}, response_metadata={})]}\n",
      "INFO:httpx:HTTP Request: POST http://127.0.0.1:11434/api/chat \"HTTP/1.1 200 OK\"\n"
     ]
    },
    {
     "name": "stdout",
     "output_type": "stream",
     "text": [
      "2025-03-11 21:35:25,681 - \u001b[1;36mINFO\u001b[0m - LLM message: content='' additional_kwargs={} response_metadata={'model': 'qwen2.5:7b', 'created_at': '2025-03-11T13:35:25.680433Z', 'done': True, 'done_reason': 'stop', 'total_duration': 5538585250, 'load_duration': 562959292, 'prompt_eval_count': 257, 'prompt_eval_duration': 2712000000, 'eval_count': 49, 'eval_duration': 2043000000, 'message': Message(role='assistant', content='', images=None, tool_calls=None)} id='run-b229a2b3-c941-440d-a566-d92e885fa854-0' tool_calls=[{'name': 'tavily_search_results_json', 'args': {'query': 'Super Bowl 2024 winner'}, 'id': '80e49c63-042e-4386-9d87-31bb992181db', 'type': 'tool_call'}] usage_metadata={'input_tokens': 257, 'output_tokens': 49, 'total_tokens': 306}\n"
     ]
    },
    {
     "name": "stderr",
     "output_type": "stream",
     "text": [
      "INFO:__main__:LLM message: content='' additional_kwargs={} response_metadata={'model': 'qwen2.5:7b', 'created_at': '2025-03-11T13:35:25.680433Z', 'done': True, 'done_reason': 'stop', 'total_duration': 5538585250, 'load_duration': 562959292, 'prompt_eval_count': 257, 'prompt_eval_duration': 2712000000, 'eval_count': 49, 'eval_duration': 2043000000, 'message': Message(role='assistant', content='', images=None, tool_calls=None)} id='run-b229a2b3-c941-440d-a566-d92e885fa854-0' tool_calls=[{'name': 'tavily_search_results_json', 'args': {'query': 'Super Bowl 2024 winner'}, 'id': '80e49c63-042e-4386-9d87-31bb992181db', 'type': 'tool_call'}] usage_metadata={'input_tokens': 257, 'output_tokens': 49, 'total_tokens': 306}\n"
     ]
    },
    {
     "name": "stdout",
     "output_type": "stream",
     "text": [
      "2025-03-11 21:35:25,682 - \u001b[1;36mINFO\u001b[0m - exists_action result: content='' additional_kwargs={} response_metadata={'model': 'qwen2.5:7b', 'created_at': '2025-03-11T13:35:25.680433Z', 'done': True, 'done_reason': 'stop', 'total_duration': 5538585250, 'load_duration': 562959292, 'prompt_eval_count': 257, 'prompt_eval_duration': 2712000000, 'eval_count': 49, 'eval_duration': 2043000000, 'message': Message(role='assistant', content='', images=None, tool_calls=None)} id='run-b229a2b3-c941-440d-a566-d92e885fa854-0' tool_calls=[{'name': 'tavily_search_results_json', 'args': {'query': 'Super Bowl 2024 winner'}, 'id': '80e49c63-042e-4386-9d87-31bb992181db', 'type': 'tool_call'}] usage_metadata={'input_tokens': 257, 'output_tokens': 49, 'total_tokens': 306}\n"
     ]
    },
    {
     "name": "stderr",
     "output_type": "stream",
     "text": [
      "INFO:__main__:exists_action result: content='' additional_kwargs={} response_metadata={'model': 'qwen2.5:7b', 'created_at': '2025-03-11T13:35:25.680433Z', 'done': True, 'done_reason': 'stop', 'total_duration': 5538585250, 'load_duration': 562959292, 'prompt_eval_count': 257, 'prompt_eval_duration': 2712000000, 'eval_count': 49, 'eval_duration': 2043000000, 'message': Message(role='assistant', content='', images=None, tool_calls=None)} id='run-b229a2b3-c941-440d-a566-d92e885fa854-0' tool_calls=[{'name': 'tavily_search_results_json', 'args': {'query': 'Super Bowl 2024 winner'}, 'id': '80e49c63-042e-4386-9d87-31bb992181db', 'type': 'tool_call'}] usage_metadata={'input_tokens': 257, 'output_tokens': 49, 'total_tokens': 306}\n"
     ]
    },
    {
     "name": "stdout",
     "output_type": "stream",
     "text": [
      "take_action called in thread: MainThread\n",
      "take_action called with tool_calls: [{'name': 'tavily_search_results_json', 'args': {'query': 'Super Bowl 2024 winner'}, 'id': '80e49c63-042e-4386-9d87-31bb992181db', 'type': 'tool_call'}]\n",
      "2025-03-11 21:35:25,683 - \u001b[1;36mINFO\u001b[0m - Calling: {'name': 'tavily_search_results_json', 'args': {'query': 'Super Bowl 2024 winner'}, 'id': '80e49c63-042e-4386-9d87-31bb992181db', 'type': 'tool_call'}\n"
     ]
    },
    {
     "name": "stderr",
     "output_type": "stream",
     "text": [
      "INFO:__main__:Calling: {'name': 'tavily_search_results_json', 'args': {'query': 'Super Bowl 2024 winner'}, 'id': '80e49c63-042e-4386-9d87-31bb992181db', 'type': 'tool_call'}\n"
     ]
    },
    {
     "name": "stdout",
     "output_type": "stream",
     "text": [
      "Calling: {'name': 'tavily_search_results_json', 'args': {'query': 'Super Bowl 2024 winner'}, 'id': '80e49c63-042e-4386-9d87-31bb992181db', 'type': 'tool_call'}\n",
      "2025-03-11 21:35:33,462 - \u001b[1;36mINFO\u001b[0m - action tavily_search_results_json, result: [{'title': 'Who won the 2024 Super Bowl? Looking back at the overtime thriller', 'url': 'https://www.cincinnati.com/story/sports/nfl/2025/02/09/who-won-super-bowl-2024-kansas-city-chiefs/78209594007/', 'content': \"Who won the 2024 Super Bowl? Who won the 2024 Super Bowl? The Kansas City Chiefs play for another Lombardi Trophy on Sunday after clinching their second-straight Super Bowl title in 2024. Here's a look back at the 2024 Super Bowl. Who played in the 2024 Super Bowl? Super Bowl 58 was between the San Francisco 49ers and the Kansas City Chiefs. Who was the 2024 Super Bowl halftime performer? Eight-time Grammy-winning singer Usher performed his top hits during the 2024 Super Bowl halftime show. Taylor Swift embraced Travis Kelce after the Super Bowl win The 2024 Super Bowl had a lot of memorable moments, but the biggest might have been when pop star Taylor Swift joined Travis Kelce's family on the field following the win.\", 'score': 0.88372874}, {'title': 'NFL History - Super Bowl Winners - ESPN', 'url': 'http://www.espn.com/nfl/superbowl/history/winners', 'content': 'Super Bowl Winners by Year - ESPN NFL History - Super Bowl Winners Leaders Super Bowl Winners Super Bowl MVPs SPORTS NBA College Football Olympic Sports Horse Racing Football ESPN THE MAGAZINE TEAM ESPN ESPN FRONT ROW ESPN NBA More Sports Gaming NBA G League NBA Summer League RN BB RN FB Sports Betting X Games ESPN BET ESPN+ Super Bowl Fantasy Football Super Bowl Winners Weekly Leaders ESPN.com: Help | Press | Advertise on ESPN.com | Sales Media Kit | Interest-Based Ads | Do Not Sell or Share My Personal Information | Report a Bug | Corrections | Contact Us | Site Map | Jobs at ESPN © 2025 ESPN Internet Ventures.', 'score': 0.17034262}]\n"
     ]
    },
    {
     "name": "stderr",
     "output_type": "stream",
     "text": [
      "INFO:__main__:action tavily_search_results_json, result: [{'title': 'Who won the 2024 Super Bowl? Looking back at the overtime thriller', 'url': 'https://www.cincinnati.com/story/sports/nfl/2025/02/09/who-won-super-bowl-2024-kansas-city-chiefs/78209594007/', 'content': \"Who won the 2024 Super Bowl? Who won the 2024 Super Bowl? The Kansas City Chiefs play for another Lombardi Trophy on Sunday after clinching their second-straight Super Bowl title in 2024. Here's a look back at the 2024 Super Bowl. Who played in the 2024 Super Bowl? Super Bowl 58 was between the San Francisco 49ers and the Kansas City Chiefs. Who was the 2024 Super Bowl halftime performer? Eight-time Grammy-winning singer Usher performed his top hits during the 2024 Super Bowl halftime show. Taylor Swift embraced Travis Kelce after the Super Bowl win The 2024 Super Bowl had a lot of memorable moments, but the biggest might have been when pop star Taylor Swift joined Travis Kelce's family on the field following the win.\", 'score': 0.88372874}, {'title': 'NFL History - Super Bowl Winners - ESPN', 'url': 'http://www.espn.com/nfl/superbowl/history/winners', 'content': 'Super Bowl Winners by Year - ESPN NFL History - Super Bowl Winners Leaders Super Bowl Winners Super Bowl MVPs SPORTS NBA College Football Olympic Sports Horse Racing Football ESPN THE MAGAZINE TEAM ESPN ESPN FRONT ROW ESPN NBA More Sports Gaming NBA G League NBA Summer League RN BB RN FB Sports Betting X Games ESPN BET ESPN+ Super Bowl Fantasy Football Super Bowl Winners Weekly Leaders ESPN.com: Help | Press | Advertise on ESPN.com | Sales Media Kit | Interest-Based Ads | Do Not Sell or Share My Personal Information | Report a Bug | Corrections | Contact Us | Site Map | Jobs at ESPN © 2025 ESPN Internet Ventures.', 'score': 0.17034262}]\n"
     ]
    },
    {
     "name": "stdout",
     "output_type": "stream",
     "text": [
      "action tavily_search_results_json, result: [{'title': 'Who won the 2024 Super Bowl? Looking back at the overtime thriller', 'url': 'https://www.cincinnati.com/story/sports/nfl/2025/02/09/who-won-super-bowl-2024-kansas-city-chiefs/78209594007/', 'content': \"Who won the 2024 Super Bowl? Who won the 2024 Super Bowl? The Kansas City Chiefs play for another Lombardi Trophy on Sunday after clinching their second-straight Super Bowl title in 2024. Here's a look back at the 2024 Super Bowl. Who played in the 2024 Super Bowl? Super Bowl 58 was between the San Francisco 49ers and the Kansas City Chiefs. Who was the 2024 Super Bowl halftime performer? Eight-time Grammy-winning singer Usher performed his top hits during the 2024 Super Bowl halftime show. Taylor Swift embraced Travis Kelce after the Super Bowl win The 2024 Super Bowl had a lot of memorable moments, but the biggest might have been when pop star Taylor Swift joined Travis Kelce's family on the field following the win.\", 'score': 0.88372874}, {'title': 'NFL History - Super Bowl Winners - ESPN', 'url': 'http://www.espn.com/nfl/superbowl/history/winners', 'content': 'Super Bowl Winners by Year - ESPN NFL History - Super Bowl Winners Leaders Super Bowl Winners Super Bowl MVPs SPORTS NBA College Football Olympic Sports Horse Racing Football ESPN THE MAGAZINE TEAM ESPN ESPN FRONT ROW ESPN NBA More Sports Gaming NBA G League NBA Summer League RN BB RN FB Sports Betting X Games ESPN BET ESPN+ Super Bowl Fantasy Football Super Bowl Winners Weekly Leaders ESPN.com: Help | Press | Advertise on ESPN.com | Sales Media Kit | Interest-Based Ads | Do Not Sell or Share My Personal Information | Report a Bug | Corrections | Contact Us | Site Map | Jobs at ESPN © 2025 ESPN Internet Ventures.', 'score': 0.17034262}]\n",
      "Back to the model!\n",
      "2025-03-11 21:35:33,467 - \u001b[1;36mINFO\u001b[0m - state: {'messages': [HumanMessage(content='Who won the super bowl in 2024? What is the GDP of that state?', additional_kwargs={}, response_metadata={}), AIMessage(content='', additional_kwargs={}, response_metadata={'model': 'qwen2.5:7b', 'created_at': '2025-03-11T13:35:25.680433Z', 'done': True, 'done_reason': 'stop', 'total_duration': 5538585250, 'load_duration': 562959292, 'prompt_eval_count': 257, 'prompt_eval_duration': 2712000000, 'eval_count': 49, 'eval_duration': 2043000000, 'message': Message(role='assistant', content='', images=None, tool_calls=None)}, id='run-b229a2b3-c941-440d-a566-d92e885fa854-0', tool_calls=[{'name': 'tavily_search_results_json', 'args': {'query': 'Super Bowl 2024 winner'}, 'id': '80e49c63-042e-4386-9d87-31bb992181db', 'type': 'tool_call'}], usage_metadata={'input_tokens': 257, 'output_tokens': 49, 'total_tokens': 306}), ToolMessage(content='[{\\'title\\': \\'Who won the 2024 Super Bowl? Looking back at the overtime thriller\\', \\'url\\': \\'https://www.cincinnati.com/story/sports/nfl/2025/02/09/who-won-super-bowl-2024-kansas-city-chiefs/78209594007/\\', \\'content\\': \"Who won the 2024 Super Bowl? Who won the 2024 Super Bowl? The Kansas City Chiefs play for another Lombardi Trophy on Sunday after clinching their second-straight Super Bowl title in 2024. Here\\'s a look back at the 2024 Super Bowl. Who played in the 2024 Super Bowl? Super Bowl 58 was between the San Francisco 49ers and the Kansas City Chiefs. Who was the 2024 Super Bowl halftime performer? Eight-time Grammy-winning singer Usher performed his top hits during the 2024 Super Bowl halftime show. Taylor Swift embraced Travis Kelce after the Super Bowl win The 2024 Super Bowl had a lot of memorable moments, but the biggest might have been when pop star Taylor Swift joined Travis Kelce\\'s family on the field following the win.\", \\'score\\': 0.88372874}, {\\'title\\': \\'NFL History - Super Bowl Winners - ESPN\\', \\'url\\': \\'http://www.espn.com/nfl/superbowl/history/winners\\', \\'content\\': \\'Super Bowl Winners by Year - ESPN NFL History - Super Bowl Winners Leaders Super Bowl Winners Super Bowl MVPs SPORTS NBA College Football Olympic Sports Horse Racing Football ESPN THE MAGAZINE TEAM ESPN ESPN FRONT ROW ESPN NBA More Sports Gaming NBA G League NBA Summer League RN BB RN FB Sports Betting X Games ESPN BET ESPN+ Super Bowl Fantasy Football Super Bowl Winners Weekly Leaders ESPN.com: Help | Press | Advertise on ESPN.com | Sales Media Kit | Interest-Based Ads | Do Not Sell or Share My Personal Information | Report a Bug | Corrections | Contact Us | Site Map | Jobs at ESPN © 2025 ESPN Internet Ventures.\\', \\'score\\': 0.17034262}]', name='tavily_search_results_json', tool_call_id='80e49c63-042e-4386-9d87-31bb992181db')]}\n"
     ]
    },
    {
     "name": "stderr",
     "output_type": "stream",
     "text": [
      "INFO:__main__:state: {'messages': [HumanMessage(content='Who won the super bowl in 2024? What is the GDP of that state?', additional_kwargs={}, response_metadata={}), AIMessage(content='', additional_kwargs={}, response_metadata={'model': 'qwen2.5:7b', 'created_at': '2025-03-11T13:35:25.680433Z', 'done': True, 'done_reason': 'stop', 'total_duration': 5538585250, 'load_duration': 562959292, 'prompt_eval_count': 257, 'prompt_eval_duration': 2712000000, 'eval_count': 49, 'eval_duration': 2043000000, 'message': Message(role='assistant', content='', images=None, tool_calls=None)}, id='run-b229a2b3-c941-440d-a566-d92e885fa854-0', tool_calls=[{'name': 'tavily_search_results_json', 'args': {'query': 'Super Bowl 2024 winner'}, 'id': '80e49c63-042e-4386-9d87-31bb992181db', 'type': 'tool_call'}], usage_metadata={'input_tokens': 257, 'output_tokens': 49, 'total_tokens': 306}), ToolMessage(content='[{\\'title\\': \\'Who won the 2024 Super Bowl? Looking back at the overtime thriller\\', \\'url\\': \\'https://www.cincinnati.com/story/sports/nfl/2025/02/09/who-won-super-bowl-2024-kansas-city-chiefs/78209594007/\\', \\'content\\': \"Who won the 2024 Super Bowl? Who won the 2024 Super Bowl? The Kansas City Chiefs play for another Lombardi Trophy on Sunday after clinching their second-straight Super Bowl title in 2024. Here\\'s a look back at the 2024 Super Bowl. Who played in the 2024 Super Bowl? Super Bowl 58 was between the San Francisco 49ers and the Kansas City Chiefs. Who was the 2024 Super Bowl halftime performer? Eight-time Grammy-winning singer Usher performed his top hits during the 2024 Super Bowl halftime show. Taylor Swift embraced Travis Kelce after the Super Bowl win The 2024 Super Bowl had a lot of memorable moments, but the biggest might have been when pop star Taylor Swift joined Travis Kelce\\'s family on the field following the win.\", \\'score\\': 0.88372874}, {\\'title\\': \\'NFL History - Super Bowl Winners - ESPN\\', \\'url\\': \\'http://www.espn.com/nfl/superbowl/history/winners\\', \\'content\\': \\'Super Bowl Winners by Year - ESPN NFL History - Super Bowl Winners Leaders Super Bowl Winners Super Bowl MVPs SPORTS NBA College Football Olympic Sports Horse Racing Football ESPN THE MAGAZINE TEAM ESPN ESPN FRONT ROW ESPN NBA More Sports Gaming NBA G League NBA Summer League RN BB RN FB Sports Betting X Games ESPN BET ESPN+ Super Bowl Fantasy Football Super Bowl Winners Weekly Leaders ESPN.com: Help | Press | Advertise on ESPN.com | Sales Media Kit | Interest-Based Ads | Do Not Sell or Share My Personal Information | Report a Bug | Corrections | Contact Us | Site Map | Jobs at ESPN © 2025 ESPN Internet Ventures.\\', \\'score\\': 0.17034262}]', name='tavily_search_results_json', tool_call_id='80e49c63-042e-4386-9d87-31bb992181db')]}\n",
      "INFO:httpx:HTTP Request: POST http://127.0.0.1:11434/api/chat \"HTTP/1.1 200 OK\"\n"
     ]
    },
    {
     "name": "stdout",
     "output_type": "stream",
     "text": [
      "2025-03-11 21:35:39,998 - \u001b[1;36mINFO\u001b[0m - LLM message: content='' additional_kwargs={} response_metadata={'model': 'qwen2.5:7b', 'created_at': '2025-03-11T13:35:39.994497Z', 'done': True, 'done_reason': 'stop', 'total_duration': 6520660834, 'load_duration': 48401084, 'prompt_eval_count': 768, 'prompt_eval_duration': 2554000000, 'eval_count': 91, 'eval_duration': 3898000000, 'message': Message(role='assistant', content='', images=None, tool_calls=None)} id='run-49eb53d3-0137-4a27-be2e-34010be0efe8-0' tool_calls=[{'name': 'tavily_search_results_json', 'args': {'query': 'GDP of Missouri 2024'}, 'id': '8fabb444-27b6-44cc-926f-0c2e8518f23c', 'type': 'tool_call'}] usage_metadata={'input_tokens': 768, 'output_tokens': 91, 'total_tokens': 859}\n"
     ]
    },
    {
     "name": "stderr",
     "output_type": "stream",
     "text": [
      "INFO:__main__:LLM message: content='' additional_kwargs={} response_metadata={'model': 'qwen2.5:7b', 'created_at': '2025-03-11T13:35:39.994497Z', 'done': True, 'done_reason': 'stop', 'total_duration': 6520660834, 'load_duration': 48401084, 'prompt_eval_count': 768, 'prompt_eval_duration': 2554000000, 'eval_count': 91, 'eval_duration': 3898000000, 'message': Message(role='assistant', content='', images=None, tool_calls=None)} id='run-49eb53d3-0137-4a27-be2e-34010be0efe8-0' tool_calls=[{'name': 'tavily_search_results_json', 'args': {'query': 'GDP of Missouri 2024'}, 'id': '8fabb444-27b6-44cc-926f-0c2e8518f23c', 'type': 'tool_call'}] usage_metadata={'input_tokens': 768, 'output_tokens': 91, 'total_tokens': 859}\n"
     ]
    },
    {
     "name": "stdout",
     "output_type": "stream",
     "text": [
      "2025-03-11 21:35:39,999 - \u001b[1;36mINFO\u001b[0m - exists_action result: content='' additional_kwargs={} response_metadata={'model': 'qwen2.5:7b', 'created_at': '2025-03-11T13:35:39.994497Z', 'done': True, 'done_reason': 'stop', 'total_duration': 6520660834, 'load_duration': 48401084, 'prompt_eval_count': 768, 'prompt_eval_duration': 2554000000, 'eval_count': 91, 'eval_duration': 3898000000, 'message': Message(role='assistant', content='', images=None, tool_calls=None)} id='run-49eb53d3-0137-4a27-be2e-34010be0efe8-0' tool_calls=[{'name': 'tavily_search_results_json', 'args': {'query': 'GDP of Missouri 2024'}, 'id': '8fabb444-27b6-44cc-926f-0c2e8518f23c', 'type': 'tool_call'}] usage_metadata={'input_tokens': 768, 'output_tokens': 91, 'total_tokens': 859}\n"
     ]
    },
    {
     "name": "stderr",
     "output_type": "stream",
     "text": [
      "INFO:__main__:exists_action result: content='' additional_kwargs={} response_metadata={'model': 'qwen2.5:7b', 'created_at': '2025-03-11T13:35:39.994497Z', 'done': True, 'done_reason': 'stop', 'total_duration': 6520660834, 'load_duration': 48401084, 'prompt_eval_count': 768, 'prompt_eval_duration': 2554000000, 'eval_count': 91, 'eval_duration': 3898000000, 'message': Message(role='assistant', content='', images=None, tool_calls=None)} id='run-49eb53d3-0137-4a27-be2e-34010be0efe8-0' tool_calls=[{'name': 'tavily_search_results_json', 'args': {'query': 'GDP of Missouri 2024'}, 'id': '8fabb444-27b6-44cc-926f-0c2e8518f23c', 'type': 'tool_call'}] usage_metadata={'input_tokens': 768, 'output_tokens': 91, 'total_tokens': 859}\n"
     ]
    },
    {
     "name": "stdout",
     "output_type": "stream",
     "text": [
      "take_action called in thread: MainThread\n",
      "take_action called with tool_calls: [{'name': 'tavily_search_results_json', 'args': {'query': 'GDP of Missouri 2024'}, 'id': '8fabb444-27b6-44cc-926f-0c2e8518f23c', 'type': 'tool_call'}]\n",
      "2025-03-11 21:35:40,001 - \u001b[1;36mINFO\u001b[0m - Calling: {'name': 'tavily_search_results_json', 'args': {'query': 'GDP of Missouri 2024'}, 'id': '8fabb444-27b6-44cc-926f-0c2e8518f23c', 'type': 'tool_call'}\n"
     ]
    },
    {
     "name": "stderr",
     "output_type": "stream",
     "text": [
      "INFO:__main__:Calling: {'name': 'tavily_search_results_json', 'args': {'query': 'GDP of Missouri 2024'}, 'id': '8fabb444-27b6-44cc-926f-0c2e8518f23c', 'type': 'tool_call'}\n"
     ]
    },
    {
     "name": "stdout",
     "output_type": "stream",
     "text": [
      "Calling: {'name': 'tavily_search_results_json', 'args': {'query': 'GDP of Missouri 2024'}, 'id': '8fabb444-27b6-44cc-926f-0c2e8518f23c', 'type': 'tool_call'}\n",
      "2025-03-11 21:35:47,998 - \u001b[1;36mINFO\u001b[0m - action tavily_search_results_json, result: [{'title': 'What is the gross domestic product (GDP) in Missouri? - USAFacts', 'url': 'https://usafacts.org/answers/what-is-the-gross-domestic-product-gdp/state/missouri/', 'content': 'Gross domestic product (GDP) measures the value of goods and services a country or state produces — it’s the sum of consumer spending, business investment, government spending, and net exports. As of 2023, the real GDP was $348.5 billion. The professional and business services industry contributed the most to Missouri’s GDP in 2023, generating a value of $51.6 billion. GDP and the economic experience vary by location due to factors like cost of living, population density, workforce education, and the area’s main industries. In 2023, Missouri’s real (that is, inflation-adjusted) GDP per person was 36th highest out of all 50 states. In 2023, Missouri ranked 36th in state GDP per person.', 'score': 0.55275756}, {'title': 'Gross Domestic Product (GDP) Data Series | Missouri Economic ...', 'url': 'https://meric.mo.gov/data/gross-domestic-product-data-series', 'content': \"Gross Domestic Product (GDP) Data Series GDP Data for States, Regions, MSAs, and Counties\\xa0 The Missouri Economic Research and Information Center (MERIC) analyzes Gross Domestic Product (GDP) data at the state, metropolitan statistical area (MSA), regional, and county levels. Gross Domestic Product by MSA measures the percentage of contribution by metropolitan statistical areas to Missouri's total GDP. This interactive dashboard can be used to see GDP data for Missouri MSAs by first selecting a desired year. County GDP data provides the contribution of Missouri counties to the state’s total GDP. An interactive dashboard available at this page can be used to see GDP data for Missouri counties by selecting a desired year.\", 'score': 0.2627146}]\n"
     ]
    },
    {
     "name": "stderr",
     "output_type": "stream",
     "text": [
      "INFO:__main__:action tavily_search_results_json, result: [{'title': 'What is the gross domestic product (GDP) in Missouri? - USAFacts', 'url': 'https://usafacts.org/answers/what-is-the-gross-domestic-product-gdp/state/missouri/', 'content': 'Gross domestic product (GDP) measures the value of goods and services a country or state produces — it’s the sum of consumer spending, business investment, government spending, and net exports. As of 2023, the real GDP was $348.5 billion. The professional and business services industry contributed the most to Missouri’s GDP in 2023, generating a value of $51.6 billion. GDP and the economic experience vary by location due to factors like cost of living, population density, workforce education, and the area’s main industries. In 2023, Missouri’s real (that is, inflation-adjusted) GDP per person was 36th highest out of all 50 states. In 2023, Missouri ranked 36th in state GDP per person.', 'score': 0.55275756}, {'title': 'Gross Domestic Product (GDP) Data Series | Missouri Economic ...', 'url': 'https://meric.mo.gov/data/gross-domestic-product-data-series', 'content': \"Gross Domestic Product (GDP) Data Series GDP Data for States, Regions, MSAs, and Counties\\xa0 The Missouri Economic Research and Information Center (MERIC) analyzes Gross Domestic Product (GDP) data at the state, metropolitan statistical area (MSA), regional, and county levels. Gross Domestic Product by MSA measures the percentage of contribution by metropolitan statistical areas to Missouri's total GDP. This interactive dashboard can be used to see GDP data for Missouri MSAs by first selecting a desired year. County GDP data provides the contribution of Missouri counties to the state’s total GDP. An interactive dashboard available at this page can be used to see GDP data for Missouri counties by selecting a desired year.\", 'score': 0.2627146}]\n"
     ]
    },
    {
     "name": "stdout",
     "output_type": "stream",
     "text": [
      "action tavily_search_results_json, result: [{'title': 'What is the gross domestic product (GDP) in Missouri? - USAFacts', 'url': 'https://usafacts.org/answers/what-is-the-gross-domestic-product-gdp/state/missouri/', 'content': 'Gross domestic product (GDP) measures the value of goods and services a country or state produces — it’s the sum of consumer spending, business investment, government spending, and net exports. As of 2023, the real GDP was $348.5 billion. The professional and business services industry contributed the most to Missouri’s GDP in 2023, generating a value of $51.6 billion. GDP and the economic experience vary by location due to factors like cost of living, population density, workforce education, and the area’s main industries. In 2023, Missouri’s real (that is, inflation-adjusted) GDP per person was 36th highest out of all 50 states. In 2023, Missouri ranked 36th in state GDP per person.', 'score': 0.55275756}, {'title': 'Gross Domestic Product (GDP) Data Series | Missouri Economic ...', 'url': 'https://meric.mo.gov/data/gross-domestic-product-data-series', 'content': \"Gross Domestic Product (GDP) Data Series GDP Data for States, Regions, MSAs, and Counties\\xa0 The Missouri Economic Research and Information Center (MERIC) analyzes Gross Domestic Product (GDP) data at the state, metropolitan statistical area (MSA), regional, and county levels. Gross Domestic Product by MSA measures the percentage of contribution by metropolitan statistical areas to Missouri's total GDP. This interactive dashboard can be used to see GDP data for Missouri MSAs by first selecting a desired year. County GDP data provides the contribution of Missouri counties to the state’s total GDP. An interactive dashboard available at this page can be used to see GDP data for Missouri counties by selecting a desired year.\", 'score': 0.2627146}]\n",
      "Back to the model!\n",
      "2025-03-11 21:35:48,002 - \u001b[1;36mINFO\u001b[0m - state: {'messages': [HumanMessage(content='Who won the super bowl in 2024? What is the GDP of that state?', additional_kwargs={}, response_metadata={}), AIMessage(content='', additional_kwargs={}, response_metadata={'model': 'qwen2.5:7b', 'created_at': '2025-03-11T13:35:25.680433Z', 'done': True, 'done_reason': 'stop', 'total_duration': 5538585250, 'load_duration': 562959292, 'prompt_eval_count': 257, 'prompt_eval_duration': 2712000000, 'eval_count': 49, 'eval_duration': 2043000000, 'message': Message(role='assistant', content='', images=None, tool_calls=None)}, id='run-b229a2b3-c941-440d-a566-d92e885fa854-0', tool_calls=[{'name': 'tavily_search_results_json', 'args': {'query': 'Super Bowl 2024 winner'}, 'id': '80e49c63-042e-4386-9d87-31bb992181db', 'type': 'tool_call'}], usage_metadata={'input_tokens': 257, 'output_tokens': 49, 'total_tokens': 306}), ToolMessage(content='[{\\'title\\': \\'Who won the 2024 Super Bowl? Looking back at the overtime thriller\\', \\'url\\': \\'https://www.cincinnati.com/story/sports/nfl/2025/02/09/who-won-super-bowl-2024-kansas-city-chiefs/78209594007/\\', \\'content\\': \"Who won the 2024 Super Bowl? Who won the 2024 Super Bowl? The Kansas City Chiefs play for another Lombardi Trophy on Sunday after clinching their second-straight Super Bowl title in 2024. Here\\'s a look back at the 2024 Super Bowl. Who played in the 2024 Super Bowl? Super Bowl 58 was between the San Francisco 49ers and the Kansas City Chiefs. Who was the 2024 Super Bowl halftime performer? Eight-time Grammy-winning singer Usher performed his top hits during the 2024 Super Bowl halftime show. Taylor Swift embraced Travis Kelce after the Super Bowl win The 2024 Super Bowl had a lot of memorable moments, but the biggest might have been when pop star Taylor Swift joined Travis Kelce\\'s family on the field following the win.\", \\'score\\': 0.88372874}, {\\'title\\': \\'NFL History - Super Bowl Winners - ESPN\\', \\'url\\': \\'http://www.espn.com/nfl/superbowl/history/winners\\', \\'content\\': \\'Super Bowl Winners by Year - ESPN NFL History - Super Bowl Winners Leaders Super Bowl Winners Super Bowl MVPs SPORTS NBA College Football Olympic Sports Horse Racing Football ESPN THE MAGAZINE TEAM ESPN ESPN FRONT ROW ESPN NBA More Sports Gaming NBA G League NBA Summer League RN BB RN FB Sports Betting X Games ESPN BET ESPN+ Super Bowl Fantasy Football Super Bowl Winners Weekly Leaders ESPN.com: Help | Press | Advertise on ESPN.com | Sales Media Kit | Interest-Based Ads | Do Not Sell or Share My Personal Information | Report a Bug | Corrections | Contact Us | Site Map | Jobs at ESPN © 2025 ESPN Internet Ventures.\\', \\'score\\': 0.17034262}]', name='tavily_search_results_json', tool_call_id='80e49c63-042e-4386-9d87-31bb992181db'), AIMessage(content='', additional_kwargs={}, response_metadata={'model': 'qwen2.5:7b', 'created_at': '2025-03-11T13:35:39.994497Z', 'done': True, 'done_reason': 'stop', 'total_duration': 6520660834, 'load_duration': 48401084, 'prompt_eval_count': 768, 'prompt_eval_duration': 2554000000, 'eval_count': 91, 'eval_duration': 3898000000, 'message': Message(role='assistant', content='', images=None, tool_calls=None)}, id='run-49eb53d3-0137-4a27-be2e-34010be0efe8-0', tool_calls=[{'name': 'tavily_search_results_json', 'args': {'query': 'GDP of Missouri 2024'}, 'id': '8fabb444-27b6-44cc-926f-0c2e8518f23c', 'type': 'tool_call'}], usage_metadata={'input_tokens': 768, 'output_tokens': 91, 'total_tokens': 859}), ToolMessage(content='[{\\'title\\': \\'What is the gross domestic product (GDP) in Missouri? - USAFacts\\', \\'url\\': \\'https://usafacts.org/answers/what-is-the-gross-domestic-product-gdp/state/missouri/\\', \\'content\\': \\'Gross domestic product (GDP) measures the value of goods and services a country or state produces — it’s the sum of consumer spending, business investment, government spending, and net exports. As of 2023, the real GDP was $348.5 billion. The professional and business services industry contributed the most to Missouri’s GDP in 2023, generating a value of $51.6 billion. GDP and the economic experience vary by location due to factors like cost of living, population density, workforce education, and the area’s main industries. In 2023, Missouri’s real (that is, inflation-adjusted) GDP per person was 36th highest out of all 50 states. In 2023, Missouri ranked 36th in state GDP per person.\\', \\'score\\': 0.55275756}, {\\'title\\': \\'Gross Domestic Product (GDP) Data Series | Missouri Economic ...\\', \\'url\\': \\'https://meric.mo.gov/data/gross-domestic-product-data-series\\', \\'content\\': \"Gross Domestic Product (GDP) Data Series GDP Data for States, Regions, MSAs, and Counties\\\\xa0 The Missouri Economic Research and Information Center (MERIC) analyzes Gross Domestic Product (GDP) data at the state, metropolitan statistical area (MSA), regional, and county levels. Gross Domestic Product by MSA measures the percentage of contribution by metropolitan statistical areas to Missouri\\'s total GDP. This interactive dashboard can be used to see GDP data for Missouri MSAs by first selecting a desired year. County GDP data provides the contribution of Missouri counties to the state’s total GDP. An interactive dashboard available at this page can be used to see GDP data for Missouri counties by selecting a desired year.\", \\'score\\': 0.2627146}]', name='tavily_search_results_json', tool_call_id='8fabb444-27b6-44cc-926f-0c2e8518f23c')]}\n"
     ]
    },
    {
     "name": "stderr",
     "output_type": "stream",
     "text": [
      "INFO:__main__:state: {'messages': [HumanMessage(content='Who won the super bowl in 2024? What is the GDP of that state?', additional_kwargs={}, response_metadata={}), AIMessage(content='', additional_kwargs={}, response_metadata={'model': 'qwen2.5:7b', 'created_at': '2025-03-11T13:35:25.680433Z', 'done': True, 'done_reason': 'stop', 'total_duration': 5538585250, 'load_duration': 562959292, 'prompt_eval_count': 257, 'prompt_eval_duration': 2712000000, 'eval_count': 49, 'eval_duration': 2043000000, 'message': Message(role='assistant', content='', images=None, tool_calls=None)}, id='run-b229a2b3-c941-440d-a566-d92e885fa854-0', tool_calls=[{'name': 'tavily_search_results_json', 'args': {'query': 'Super Bowl 2024 winner'}, 'id': '80e49c63-042e-4386-9d87-31bb992181db', 'type': 'tool_call'}], usage_metadata={'input_tokens': 257, 'output_tokens': 49, 'total_tokens': 306}), ToolMessage(content='[{\\'title\\': \\'Who won the 2024 Super Bowl? Looking back at the overtime thriller\\', \\'url\\': \\'https://www.cincinnati.com/story/sports/nfl/2025/02/09/who-won-super-bowl-2024-kansas-city-chiefs/78209594007/\\', \\'content\\': \"Who won the 2024 Super Bowl? Who won the 2024 Super Bowl? The Kansas City Chiefs play for another Lombardi Trophy on Sunday after clinching their second-straight Super Bowl title in 2024. Here\\'s a look back at the 2024 Super Bowl. Who played in the 2024 Super Bowl? Super Bowl 58 was between the San Francisco 49ers and the Kansas City Chiefs. Who was the 2024 Super Bowl halftime performer? Eight-time Grammy-winning singer Usher performed his top hits during the 2024 Super Bowl halftime show. Taylor Swift embraced Travis Kelce after the Super Bowl win The 2024 Super Bowl had a lot of memorable moments, but the biggest might have been when pop star Taylor Swift joined Travis Kelce\\'s family on the field following the win.\", \\'score\\': 0.88372874}, {\\'title\\': \\'NFL History - Super Bowl Winners - ESPN\\', \\'url\\': \\'http://www.espn.com/nfl/superbowl/history/winners\\', \\'content\\': \\'Super Bowl Winners by Year - ESPN NFL History - Super Bowl Winners Leaders Super Bowl Winners Super Bowl MVPs SPORTS NBA College Football Olympic Sports Horse Racing Football ESPN THE MAGAZINE TEAM ESPN ESPN FRONT ROW ESPN NBA More Sports Gaming NBA G League NBA Summer League RN BB RN FB Sports Betting X Games ESPN BET ESPN+ Super Bowl Fantasy Football Super Bowl Winners Weekly Leaders ESPN.com: Help | Press | Advertise on ESPN.com | Sales Media Kit | Interest-Based Ads | Do Not Sell or Share My Personal Information | Report a Bug | Corrections | Contact Us | Site Map | Jobs at ESPN © 2025 ESPN Internet Ventures.\\', \\'score\\': 0.17034262}]', name='tavily_search_results_json', tool_call_id='80e49c63-042e-4386-9d87-31bb992181db'), AIMessage(content='', additional_kwargs={}, response_metadata={'model': 'qwen2.5:7b', 'created_at': '2025-03-11T13:35:39.994497Z', 'done': True, 'done_reason': 'stop', 'total_duration': 6520660834, 'load_duration': 48401084, 'prompt_eval_count': 768, 'prompt_eval_duration': 2554000000, 'eval_count': 91, 'eval_duration': 3898000000, 'message': Message(role='assistant', content='', images=None, tool_calls=None)}, id='run-49eb53d3-0137-4a27-be2e-34010be0efe8-0', tool_calls=[{'name': 'tavily_search_results_json', 'args': {'query': 'GDP of Missouri 2024'}, 'id': '8fabb444-27b6-44cc-926f-0c2e8518f23c', 'type': 'tool_call'}], usage_metadata={'input_tokens': 768, 'output_tokens': 91, 'total_tokens': 859}), ToolMessage(content='[{\\'title\\': \\'What is the gross domestic product (GDP) in Missouri? - USAFacts\\', \\'url\\': \\'https://usafacts.org/answers/what-is-the-gross-domestic-product-gdp/state/missouri/\\', \\'content\\': \\'Gross domestic product (GDP) measures the value of goods and services a country or state produces — it’s the sum of consumer spending, business investment, government spending, and net exports. As of 2023, the real GDP was $348.5 billion. The professional and business services industry contributed the most to Missouri’s GDP in 2023, generating a value of $51.6 billion. GDP and the economic experience vary by location due to factors like cost of living, population density, workforce education, and the area’s main industries. In 2023, Missouri’s real (that is, inflation-adjusted) GDP per person was 36th highest out of all 50 states. In 2023, Missouri ranked 36th in state GDP per person.\\', \\'score\\': 0.55275756}, {\\'title\\': \\'Gross Domestic Product (GDP) Data Series | Missouri Economic ...\\', \\'url\\': \\'https://meric.mo.gov/data/gross-domestic-product-data-series\\', \\'content\\': \"Gross Domestic Product (GDP) Data Series GDP Data for States, Regions, MSAs, and Counties\\\\xa0 The Missouri Economic Research and Information Center (MERIC) analyzes Gross Domestic Product (GDP) data at the state, metropolitan statistical area (MSA), regional, and county levels. Gross Domestic Product by MSA measures the percentage of contribution by metropolitan statistical areas to Missouri\\'s total GDP. This interactive dashboard can be used to see GDP data for Missouri MSAs by first selecting a desired year. County GDP data provides the contribution of Missouri counties to the state’s total GDP. An interactive dashboard available at this page can be used to see GDP data for Missouri counties by selecting a desired year.\", \\'score\\': 0.2627146}]', name='tavily_search_results_json', tool_call_id='8fabb444-27b6-44cc-926f-0c2e8518f23c')]}\n",
      "INFO:httpx:HTTP Request: POST http://127.0.0.1:11434/api/chat \"HTTP/1.1 200 OK\"\n"
     ]
    },
    {
     "name": "stdout",
     "output_type": "stream",
     "text": [
      "2025-03-11 21:35:53,512 - \u001b[1;36mINFO\u001b[0m - LLM message: content='The Kansas City Chiefs won the Super Bowl in 2024 (Super Bowl L VIII). As of 2023, the gross domestic product (GDP) of Missouri was approximately $348.5 billion. This figure is inflation-adjusted and based on data from USAFacts.' additional_kwargs={} response_metadata={'model': 'qwen2.5:7b', 'created_at': '2025-03-11T13:35:53.506654Z', 'done': True, 'done_reason': 'stop', 'total_duration': 5498215334, 'load_duration': 35426084, 'prompt_eval_count': 1256, 'prompt_eval_duration': 2570000000, 'eval_count': 64, 'eval_duration': 2852000000, 'message': Message(role='assistant', content='The Kansas City Chiefs won the Super Bowl in 2024 (Super Bowl L VIII). As of 2023, the gross domestic product (GDP) of Missouri was approximately $348.5 billion. This figure is inflation-adjusted and based on data from USAFacts.', images=None, tool_calls=None)} id='run-8fa2c959-adac-4a23-8808-1dca846bc66b-0' usage_metadata={'input_tokens': 1256, 'output_tokens': 64, 'total_tokens': 1320}\n"
     ]
    },
    {
     "name": "stderr",
     "output_type": "stream",
     "text": [
      "INFO:__main__:LLM message: content='The Kansas City Chiefs won the Super Bowl in 2024 (Super Bowl L VIII). As of 2023, the gross domestic product (GDP) of Missouri was approximately $348.5 billion. This figure is inflation-adjusted and based on data from USAFacts.' additional_kwargs={} response_metadata={'model': 'qwen2.5:7b', 'created_at': '2025-03-11T13:35:53.506654Z', 'done': True, 'done_reason': 'stop', 'total_duration': 5498215334, 'load_duration': 35426084, 'prompt_eval_count': 1256, 'prompt_eval_duration': 2570000000, 'eval_count': 64, 'eval_duration': 2852000000, 'message': Message(role='assistant', content='The Kansas City Chiefs won the Super Bowl in 2024 (Super Bowl L VIII). As of 2023, the gross domestic product (GDP) of Missouri was approximately $348.5 billion. This figure is inflation-adjusted and based on data from USAFacts.', images=None, tool_calls=None)} id='run-8fa2c959-adac-4a23-8808-1dca846bc66b-0' usage_metadata={'input_tokens': 1256, 'output_tokens': 64, 'total_tokens': 1320}\n"
     ]
    },
    {
     "name": "stdout",
     "output_type": "stream",
     "text": [
      "2025-03-11 21:35:53,513 - \u001b[1;36mINFO\u001b[0m - exists_action result: content='The Kansas City Chiefs won the Super Bowl in 2024 (Super Bowl L VIII). As of 2023, the gross domestic product (GDP) of Missouri was approximately $348.5 billion. This figure is inflation-adjusted and based on data from USAFacts.' additional_kwargs={} response_metadata={'model': 'qwen2.5:7b', 'created_at': '2025-03-11T13:35:53.506654Z', 'done': True, 'done_reason': 'stop', 'total_duration': 5498215334, 'load_duration': 35426084, 'prompt_eval_count': 1256, 'prompt_eval_duration': 2570000000, 'eval_count': 64, 'eval_duration': 2852000000, 'message': Message(role='assistant', content='The Kansas City Chiefs won the Super Bowl in 2024 (Super Bowl L VIII). As of 2023, the gross domestic product (GDP) of Missouri was approximately $348.5 billion. This figure is inflation-adjusted and based on data from USAFacts.', images=None, tool_calls=None)} id='run-8fa2c959-adac-4a23-8808-1dca846bc66b-0' usage_metadata={'input_tokens': 1256, 'output_tokens': 64, 'total_tokens': 1320}\n"
     ]
    },
    {
     "name": "stderr",
     "output_type": "stream",
     "text": [
      "INFO:__main__:exists_action result: content='The Kansas City Chiefs won the Super Bowl in 2024 (Super Bowl L VIII). As of 2023, the gross domestic product (GDP) of Missouri was approximately $348.5 billion. This figure is inflation-adjusted and based on data from USAFacts.' additional_kwargs={} response_metadata={'model': 'qwen2.5:7b', 'created_at': '2025-03-11T13:35:53.506654Z', 'done': True, 'done_reason': 'stop', 'total_duration': 5498215334, 'load_duration': 35426084, 'prompt_eval_count': 1256, 'prompt_eval_duration': 2570000000, 'eval_count': 64, 'eval_duration': 2852000000, 'message': Message(role='assistant', content='The Kansas City Chiefs won the Super Bowl in 2024 (Super Bowl L VIII). As of 2023, the gross domestic product (GDP) of Missouri was approximately $348.5 billion. This figure is inflation-adjusted and based on data from USAFacts.', images=None, tool_calls=None)} id='run-8fa2c959-adac-4a23-8808-1dca846bc66b-0' usage_metadata={'input_tokens': 1256, 'output_tokens': 64, 'total_tokens': 1320}\n"
     ]
    }
   ],
   "source": [
    "query = \"Who won the super bowl in 2024? What is the GDP of that state?\"\n",
    "messages = [HumanMessage(content=query)]\n",
    "result = abot.graph.invoke({'messages': messages})"
   ]
  },
  {
   "cell_type": "code",
   "execution_count": 12,
   "metadata": {},
   "outputs": [
    {
     "data": {
      "text/plain": [
       "'The Kansas City Chiefs won the Super Bowl in 2024 (Super Bowl L VIII). As of 2023, the gross domestic product (GDP) of Missouri was approximately $348.5 billion. This figure is inflation-adjusted and based on data from USAFacts.'"
      ]
     },
     "execution_count": 12,
     "metadata": {},
     "output_type": "execute_result"
    }
   ],
   "source": [
    "result['messages'][-1].content"
   ]
  },
  {
   "cell_type": "code",
   "execution_count": null,
   "metadata": {},
   "outputs": [],
   "source": []
  },
  {
   "cell_type": "code",
   "execution_count": null,
   "metadata": {},
   "outputs": [],
   "source": []
  },
  {
   "cell_type": "code",
   "execution_count": null,
   "metadata": {},
   "outputs": [],
   "source": []
  },
  {
   "cell_type": "code",
   "execution_count": null,
   "metadata": {},
   "outputs": [],
   "source": []
  },
  {
   "cell_type": "code",
   "execution_count": null,
   "metadata": {},
   "outputs": [],
   "source": []
  },
  {
   "cell_type": "code",
   "execution_count": null,
   "metadata": {},
   "outputs": [],
   "source": []
  },
  {
   "cell_type": "code",
   "execution_count": null,
   "metadata": {},
   "outputs": [],
   "source": []
  },
  {
   "cell_type": "code",
   "execution_count": null,
   "metadata": {},
   "outputs": [],
   "source": []
  },
  {
   "cell_type": "code",
   "execution_count": null,
   "metadata": {},
   "outputs": [],
   "source": []
  },
  {
   "cell_type": "code",
   "execution_count": null,
   "metadata": {},
   "outputs": [],
   "source": []
  },
  {
   "cell_type": "code",
   "execution_count": null,
   "metadata": {},
   "outputs": [],
   "source": []
  },
  {
   "cell_type": "code",
   "execution_count": null,
   "metadata": {},
   "outputs": [],
   "source": []
  },
  {
   "cell_type": "code",
   "execution_count": null,
   "metadata": {},
   "outputs": [],
   "source": []
  },
  {
   "cell_type": "code",
   "execution_count": null,
   "metadata": {},
   "outputs": [],
   "source": []
  },
  {
   "cell_type": "code",
   "execution_count": null,
   "metadata": {},
   "outputs": [],
   "source": []
  },
  {
   "cell_type": "code",
   "execution_count": null,
   "metadata": {},
   "outputs": [],
   "source": []
  },
  {
   "cell_type": "code",
   "execution_count": null,
   "metadata": {},
   "outputs": [],
   "source": []
  },
  {
   "cell_type": "code",
   "execution_count": null,
   "metadata": {},
   "outputs": [],
   "source": []
  },
  {
   "cell_type": "code",
   "execution_count": null,
   "metadata": {},
   "outputs": [],
   "source": []
  },
  {
   "cell_type": "code",
   "execution_count": null,
   "metadata": {},
   "outputs": [],
   "source": []
  },
  {
   "cell_type": "code",
   "execution_count": null,
   "metadata": {},
   "outputs": [],
   "source": []
  },
  {
   "cell_type": "code",
   "execution_count": null,
   "metadata": {},
   "outputs": [],
   "source": []
  }
 ],
 "metadata": {
  "kernelspec": {
   "display_name": "LangChain",
   "language": "python",
   "name": "python3"
  },
  "language_info": {
   "codemirror_mode": {
    "name": "ipython",
    "version": 3
   },
   "file_extension": ".py",
   "mimetype": "text/x-python",
   "name": "python",
   "nbconvert_exporter": "python",
   "pygments_lexer": "ipython3",
   "version": "3.10.16"
  }
 },
 "nbformat": 4,
 "nbformat_minor": 2
}

{
 "cells": [
  {
   "cell_type": "code",
   "execution_count": 28,
   "metadata": {},
   "outputs": [],
   "source": [
    "from langgraph.graph import StateGraph, END\n",
    "from typing import TypedDict, Annotated\n",
    "import operator\n",
    "from langchain_core.messages import AnyMessage, SystemMessage, ToolMessage, AIMessage\n",
    "from langchain_core.messages.human import HumanMessage\n",
    "from langchain_ollama import ChatOllama\n",
    "from langchain_community.tools.tavily_search import TavilySearchResults\n",
    "import os"
   ]
  },
  {
   "cell_type": "code",
   "execution_count": 29,
   "metadata": {},
   "outputs": [
    {
     "name": "stdout",
     "output_type": "stream",
     "text": [
      "<class 'langchain_community.tools.tavily_search.tool.TavilySearchResults'>\n",
      "tavily_search_results_json\n"
     ]
    }
   ],
   "source": [
    "tool = TavilySearchResults(\n",
    "    max_results=2\n",
    ") # 2 results per query\n",
    "print (type(tool))\n",
    "print (tool.name)"
   ]
  },
  {
   "cell_type": "code",
   "execution_count": 30,
   "metadata": {},
   "outputs": [],
   "source": [
    "# AgentState 类定义了代理的状态数据结构\n",
    "# 这是一个 TypedDict 类型的类,用于定义具有类型提示的字典\n",
    "# 包含一个 messages 字段:\n",
    "# - messages 字段是一个列表,存储 AnyMessage 类型的消息\n",
    "# - 使用 Annotated 和 operator.add 标注,表示该字段支持列表拼接操作\n",
    "# - AnyMessage 是一个联合类型,可以是各种消息类型(AIMessage、HumanMessage等)\n",
    "class AgentState(TypedDict):\n",
    "    messages: Annotated[list[AnyMessage], operator.add]"
   ]
  },
  {
   "cell_type": "markdown",
   "metadata": {},
   "source": [
    "我们需要一个函数来调用`Ollama`，一个函数来检查是否存在某种action，以及一个执行action的函数。"
   ]
  },
  {
   "cell_type": "code",
   "execution_count": 31,
   "metadata": {},
   "outputs": [],
   "source": [
    "# 配置日志记录系统\n",
    "import logging\n",
    "\n",
    "# 设置基本的日志配置\n",
    "# level=logging.INFO 表示将捕获 INFO 级别及以上的所有日志消息\n",
    "# 日志级别从低到高: DEBUG < INFO < WARNING < ERROR < CRITICAL\n",
    "logging.basicConfig(level=logging.INFO)\n",
    "\n",
    "# 创建一个日志记录器实例\n",
    "# __name__ 是当前模块的名称\n",
    "# 这个日志记录器将被 Agent 类用来记录执行过程中的信息\n",
    "logger = logging.getLogger(__name__)\n",
    "import sys\n",
    "from datetime import datetime\n",
    "from pathlib import Path\n",
    "\n",
    "# 创建logs目录（如果不存在）\n",
    "log_dir = Path(\"./logs\")\n",
    "log_dir.mkdir(exist_ok=True)\n",
    "\n",
    "# 生成日志文件名（包含时间戳）\n",
    "log_file = log_dir / f\"agent_{datetime.now().strftime('%Y%m%d_%H%M%S')}.log\"\n",
    "\n",
    "# 配置日志格式\n",
    "formatter = logging.Formatter('%(asctime)s - %(name)s - %(levelname)s - %(message)s')\n",
    "\n",
    "# 文件处理器\n",
    "file_handler = logging.FileHandler(log_file)\n",
    "file_handler.setFormatter(formatter)\n",
    "file_handler.setLevel(logging.INFO)\n",
    "\n",
    "# 控制台处理器（带颜色）\n",
    "console_handler = logging.StreamHandler(sys.stdout)\n",
    "console_handler.setFormatter(logging.Formatter(\n",
    "    '%(asctime)s - \\033[1;36m%(levelname)s\\033[0m - %(message)s'))\n",
    "console_handler.setLevel(logging.INFO)\n",
    "\n",
    "# 配置logger\n",
    "logger = logging.getLogger(__name__)\n",
    "logger.setLevel(logging.INFO)\n",
    "logger.addHandler(file_handler)\n",
    "logger.addHandler(console_handler)"
   ]
  },
  {
   "cell_type": "code",
   "execution_count": 32,
   "metadata": {},
   "outputs": [],
   "source": [
    "class Agent:\n",
    "    \"\"\"\n",
    "    Agent class that orchestrates interaction between a language model and tools.\n",
    "    Uses a state graph to manage conversation flow and decision making process.\n",
    "    \"\"\"\n",
    "\n",
    "    def __init__(self, model, tools, system=\"\"):\n",
    "        \"\"\"\n",
    "        Initialize the agent with a language model, tools, and optional system message.\n",
    "        \n",
    "        Args:\n",
    "            model: Language model that will generate responses\n",
    "            tools: List of tools the agent can use\n",
    "            system: Optional system prompt to guide agent behavior\n",
    "            \n",
    "        Creates a state graph with the following workflow:\n",
    "            1. Start with LLM node\n",
    "            2. Check if action is needed\n",
    "            3. Execute action if needed, then return to LLM\n",
    "            4. End conversation if no action is needed\n",
    "        \"\"\"\n",
    "        self.system = system\n",
    "        graph = StateGraph(AgentState)\n",
    "        graph.add_node(\"llm\", self.call_openai)\n",
    "        graph.add_node(\"action\", self.take_action)\n",
    "        graph.add_conditional_edges(\n",
    "            \"llm\",\n",
    "            self.exists_action,\n",
    "            {True: \"action\", False: END}\n",
    "        )\n",
    "        graph.add_edge(\"action\", \"llm\")\n",
    "        graph.set_entry_point(\"llm\")\n",
    "        self.graph = graph.compile()\n",
    "        self.tools = {t.name: t for t in tools}\n",
    "        self.model = model.bind_tools(tools)\n",
    "        logger.info(f\"model: {self.model}\")\n",
    "\n",
    "    def exists_action(self, state: AgentState):\n",
    "        \"\"\"\n",
    "        Determine if an action needs to be taken based on the last message.\n",
    "        \n",
    "        Args:\n",
    "            state: Current conversation state containing messages\n",
    "            \n",
    "        Returns:\n",
    "            Boolean indicating if the latest AI message contains tool calls\n",
    "            that need to be executed\n",
    "        \"\"\"\n",
    "        result = state['messages'][-1]\n",
    "        logger.info(f\"exists_action result: {result}\")\n",
    "        return len(result.tool_calls) > 0\n",
    "\n",
    "    def call_openai(self, state: AgentState):\n",
    "        \"\"\"\n",
    "        Send the current conversation state to the language model and get a response.\n",
    "        \n",
    "        Args:\n",
    "            state: Current conversation state containing message history\n",
    "            \n",
    "        Returns:\n",
    "            Updated state with the new AI message appended\n",
    "            \n",
    "        If a system prompt is provided, it's added at the beginning of messages\n",
    "        before sending to the model.\n",
    "        \"\"\"\n",
    "        logger.info(f\"state: {state}\")\n",
    "        messages = state['messages']\n",
    "        if self.system:\n",
    "            messages = [SystemMessage(content=self.system)] + messages\n",
    "        message = self.model.invoke(messages)\n",
    "        logger.info(f\"LLM message: {message}\")\n",
    "        return {'messages': [message]}\n",
    "\n",
    "    def take_action(self, state: AgentState):\n",
    "        \"\"\"\n",
    "        Execute tool calls requested by the language model.\n",
    "        \n",
    "        Args:\n",
    "            state: Current conversation state containing message history\n",
    "            \n",
    "        Returns:\n",
    "            Updated state with tool execution results appended as ToolMessages\n",
    "            \n",
    "        Process:\n",
    "        1. Extract tool calls from the last message\n",
    "        2. For each tool call, validate the tool name and execute it\n",
    "        3. Format results as ToolMessages with appropriate IDs\n",
    "        4. Return all results to be processed by the model in the next step\n",
    "        \"\"\"\n",
    "        import threading\n",
    "        print(f\"take_action called in thread: {threading.current_thread().name}\")\n",
    "        tool_calls = state['messages'][-1].tool_calls\n",
    "        results = []\n",
    "        print(f\"take_action called with tool_calls: {tool_calls}\")\n",
    "        for t in tool_calls:\n",
    "            logger.info(f\"Calling: {t}\")\n",
    "            print(f\"Calling: {t}\") \n",
    "            if not t['name'] in self.tools:      # check for bad tool name from LLM\n",
    "                print(\"\\n ....bad tool name....\")\n",
    "                result = \"bad tool name, retry\"  # instruct LLM to retry if bad\n",
    "            else:\n",
    "                result = self.tools[t['name']].invoke(t['args'])\n",
    "                logger.info(f\"action {t['name']}, result: {result}\")\n",
    "                print(f\"action {t['name']}, result: {result}\")\n",
    "            results.append(ToolMessage(tool_call_id=t['id'], name=t['name'], content=str(result)))\n",
    "        print(\"Back to the model!\")\n",
    "        return {'messages': results}"
   ]
  },
  {
   "cell_type": "code",
   "execution_count": 33,
   "metadata": {},
   "outputs": [
    {
     "name": "stdout",
     "output_type": "stream",
     "text": [
      "2025-03-08 18:21:56,604 - \u001b[1;36mINFO\u001b[0m - model: bound=ChatOllama(model='qwen2.5:7b', temperature=0.0) kwargs={'tools': [{'type': 'function', 'function': {'name': 'tavily_search_results_json', 'description': 'A search engine optimized for comprehensive, accurate, and trusted results. Useful for when you need to answer questions about current events. Input should be a search query.', 'parameters': {'properties': {'query': {'description': 'search query to look up', 'type': 'string'}}, 'required': ['query'], 'type': 'object'}}}]} config={} config_factories=[]\n"
     ]
    },
    {
     "name": "stderr",
     "output_type": "stream",
     "text": [
      "INFO:__main__:model: bound=ChatOllama(model='qwen2.5:7b', temperature=0.0) kwargs={'tools': [{'type': 'function', 'function': {'name': 'tavily_search_results_json', 'description': 'A search engine optimized for comprehensive, accurate, and trusted results. Useful for when you need to answer questions about current events. Input should be a search query.', 'parameters': {'properties': {'query': {'description': 'search query to look up', 'type': 'string'}}, 'required': ['query'], 'type': 'object'}}}]} config={} config_factories=[]\n"
     ]
    }
   ],
   "source": [
    "prompt = \"\"\"You are a smart research assistant. Use the search engine to look up information.  \\\n",
    "You are allowed to make multiple calls (either together or in sequence). \\\n",
    "Only look up information when you are sure of what you want. \\\n",
    "If you need to look up some information before asking a follow up question, you are allowed to do that!\n",
    "\"\"\"\n",
    "model = ChatOllama(\n",
    "    model=\"qwen2.5:7b\",\n",
    "    temperature=0\n",
    ")\n",
    "abot = Agent(model, [tool], system=prompt)"
   ]
  },
  {
   "cell_type": "code",
   "execution_count": 34,
   "metadata": {},
   "outputs": [
    {
     "name": "stdout",
     "output_type": "stream",
     "text": [
      "2025-03-08 18:21:56,611 - \u001b[1;36mINFO\u001b[0m - state: {'messages': [HumanMessage(content='What is the weather in sf?', additional_kwargs={}, response_metadata={})]}\n"
     ]
    },
    {
     "name": "stderr",
     "output_type": "stream",
     "text": [
      "INFO:__main__:state: {'messages': [HumanMessage(content='What is the weather in sf?', additional_kwargs={}, response_metadata={})]}\n",
      "INFO:httpx:HTTP Request: POST http://127.0.0.1:11434/api/chat \"HTTP/1.1 200 OK\"\n"
     ]
    },
    {
     "name": "stdout",
     "output_type": "stream",
     "text": [
      "2025-03-08 18:22:01,709 - \u001b[1;36mINFO\u001b[0m - LLM message: content='' additional_kwargs={} response_metadata={'model': 'qwen2.5:7b', 'created_at': '2025-03-08T10:22:01.706173Z', 'done': True, 'done_reason': 'stop', 'total_duration': 5087081333, 'load_duration': 563421083, 'prompt_eval_count': 244, 'prompt_eval_duration': 3201000000, 'eval_count': 26, 'eval_duration': 1087000000, 'message': Message(role='assistant', content='', images=None, tool_calls=None)} id='run-4af02844-7329-4166-a069-ffc673b749c1-0' tool_calls=[{'name': 'tavily_search_results_json', 'args': {'query': 'weather in sf'}, 'id': '4943bf01-21d4-4d92-bc07-0d24c4433b34', 'type': 'tool_call'}] usage_metadata={'input_tokens': 244, 'output_tokens': 26, 'total_tokens': 270}\n"
     ]
    },
    {
     "name": "stderr",
     "output_type": "stream",
     "text": [
      "INFO:__main__:LLM message: content='' additional_kwargs={} response_metadata={'model': 'qwen2.5:7b', 'created_at': '2025-03-08T10:22:01.706173Z', 'done': True, 'done_reason': 'stop', 'total_duration': 5087081333, 'load_duration': 563421083, 'prompt_eval_count': 244, 'prompt_eval_duration': 3201000000, 'eval_count': 26, 'eval_duration': 1087000000, 'message': Message(role='assistant', content='', images=None, tool_calls=None)} id='run-4af02844-7329-4166-a069-ffc673b749c1-0' tool_calls=[{'name': 'tavily_search_results_json', 'args': {'query': 'weather in sf'}, 'id': '4943bf01-21d4-4d92-bc07-0d24c4433b34', 'type': 'tool_call'}] usage_metadata={'input_tokens': 244, 'output_tokens': 26, 'total_tokens': 270}\n"
     ]
    },
    {
     "name": "stdout",
     "output_type": "stream",
     "text": [
      "2025-03-08 18:22:01,713 - \u001b[1;36mINFO\u001b[0m - exists_action result: content='' additional_kwargs={} response_metadata={'model': 'qwen2.5:7b', 'created_at': '2025-03-08T10:22:01.706173Z', 'done': True, 'done_reason': 'stop', 'total_duration': 5087081333, 'load_duration': 563421083, 'prompt_eval_count': 244, 'prompt_eval_duration': 3201000000, 'eval_count': 26, 'eval_duration': 1087000000, 'message': Message(role='assistant', content='', images=None, tool_calls=None)} id='run-4af02844-7329-4166-a069-ffc673b749c1-0' tool_calls=[{'name': 'tavily_search_results_json', 'args': {'query': 'weather in sf'}, 'id': '4943bf01-21d4-4d92-bc07-0d24c4433b34', 'type': 'tool_call'}] usage_metadata={'input_tokens': 244, 'output_tokens': 26, 'total_tokens': 270}\n"
     ]
    },
    {
     "name": "stderr",
     "output_type": "stream",
     "text": [
      "INFO:__main__:exists_action result: content='' additional_kwargs={} response_metadata={'model': 'qwen2.5:7b', 'created_at': '2025-03-08T10:22:01.706173Z', 'done': True, 'done_reason': 'stop', 'total_duration': 5087081333, 'load_duration': 563421083, 'prompt_eval_count': 244, 'prompt_eval_duration': 3201000000, 'eval_count': 26, 'eval_duration': 1087000000, 'message': Message(role='assistant', content='', images=None, tool_calls=None)} id='run-4af02844-7329-4166-a069-ffc673b749c1-0' tool_calls=[{'name': 'tavily_search_results_json', 'args': {'query': 'weather in sf'}, 'id': '4943bf01-21d4-4d92-bc07-0d24c4433b34', 'type': 'tool_call'}] usage_metadata={'input_tokens': 244, 'output_tokens': 26, 'total_tokens': 270}\n"
     ]
    },
    {
     "name": "stdout",
     "output_type": "stream",
     "text": [
      "take_action called in thread: MainThread\n",
      "take_action called with tool_calls: [{'name': 'tavily_search_results_json', 'args': {'query': 'weather in sf'}, 'id': '4943bf01-21d4-4d92-bc07-0d24c4433b34', 'type': 'tool_call'}]\n",
      "2025-03-08 18:22:01,715 - \u001b[1;36mINFO\u001b[0m - Calling: {'name': 'tavily_search_results_json', 'args': {'query': 'weather in sf'}, 'id': '4943bf01-21d4-4d92-bc07-0d24c4433b34', 'type': 'tool_call'}\n"
     ]
    },
    {
     "name": "stderr",
     "output_type": "stream",
     "text": [
      "INFO:__main__:Calling: {'name': 'tavily_search_results_json', 'args': {'query': 'weather in sf'}, 'id': '4943bf01-21d4-4d92-bc07-0d24c4433b34', 'type': 'tool_call'}\n"
     ]
    },
    {
     "name": "stdout",
     "output_type": "stream",
     "text": [
      "Calling: {'name': 'tavily_search_results_json', 'args': {'query': 'weather in sf'}, 'id': '4943bf01-21d4-4d92-bc07-0d24c4433b34', 'type': 'tool_call'}\n",
      "2025-03-08 18:22:03,487 - \u001b[1;36mINFO\u001b[0m - action tavily_search_results_json, result: [{'title': 'Weather in san francisco', 'url': 'https://www.weatherapi.com/', 'content': \"{'location': {'name': 'San Francisco', 'region': 'California', 'country': 'United States of America', 'lat': 37.775, 'lon': -122.4183, 'tz_id': 'America/Los_Angeles', 'localtime_epoch': 1741428354, 'localtime': '2025-03-08 02:05'}, 'current': {'last_updated_epoch': 1741428000, 'last_updated': '2025-03-08 02:00', 'temp_c': 7.2, 'temp_f': 45.0, 'is_day': 0, 'condition': {'text': 'Partly cloudy', 'icon': '//cdn.weatherapi.com/weather/64x64/night/116.png', 'code': 1003}, 'wind_mph': 2.2, 'wind_kph': 3.6, 'wind_degree': 249, 'wind_dir': 'WSW', 'pressure_mb': 1024.0, 'pressure_in': 30.25, 'precip_mm': 0.0, 'precip_in': 0.0, 'humidity': 90, 'cloud': 25, 'feelslike_c': 7.1, 'feelslike_f': 44.9, 'windchill_c': 7.3, 'windchill_f': 45.2, 'heatindex_c': 8.1, 'heatindex_f': 46.6, 'dewpoint_c': 7.6, 'dewpoint_f': 45.7, 'vis_km': 16.0, 'vis_miles': 9.0, 'uv': 0.0, 'gust_mph': 3.4, 'gust_kph': 5.4}}\", 'score': 0.8343956}, {'title': 'Weather Forecast and Conditions for San Francisco, CA', 'url': 'https://weather.com/weather/today/l/San+Francisco+CA+USCA0987:1:US', 'content': 'Weather Forecast and Conditions for San Francisco, CA - The Weather Channel | Weather.com Weather Forecasts ### 2 pm 56° Chance of Rain2% ### 3 pm 57° Chance of Rain2% ### 4 pm 56° Chance of Rain2% ### 5 pm 55° Chance of Rain2% Blithedale Canyon / Middle Ridge Neighbor 2d ago 6reactions10commentsMoreGirl Scout Cookie sale: corner of Whole Foods on Miller / Evergreen.575 Ethel Ave. 2/15 Sat.10:30am- 12noon ~ come on out and get some sweet treats for yourself or gift / donate a box of cookies! ### Seasonal Allergies and Pollen Count Forecast Tree pollen is moderate in your area### Cold & Flu Forecast Flu risk is high in your area Weather Data APIs', 'score': 0.42993253}]\n"
     ]
    },
    {
     "name": "stderr",
     "output_type": "stream",
     "text": [
      "INFO:__main__:action tavily_search_results_json, result: [{'title': 'Weather in san francisco', 'url': 'https://www.weatherapi.com/', 'content': \"{'location': {'name': 'San Francisco', 'region': 'California', 'country': 'United States of America', 'lat': 37.775, 'lon': -122.4183, 'tz_id': 'America/Los_Angeles', 'localtime_epoch': 1741428354, 'localtime': '2025-03-08 02:05'}, 'current': {'last_updated_epoch': 1741428000, 'last_updated': '2025-03-08 02:00', 'temp_c': 7.2, 'temp_f': 45.0, 'is_day': 0, 'condition': {'text': 'Partly cloudy', 'icon': '//cdn.weatherapi.com/weather/64x64/night/116.png', 'code': 1003}, 'wind_mph': 2.2, 'wind_kph': 3.6, 'wind_degree': 249, 'wind_dir': 'WSW', 'pressure_mb': 1024.0, 'pressure_in': 30.25, 'precip_mm': 0.0, 'precip_in': 0.0, 'humidity': 90, 'cloud': 25, 'feelslike_c': 7.1, 'feelslike_f': 44.9, 'windchill_c': 7.3, 'windchill_f': 45.2, 'heatindex_c': 8.1, 'heatindex_f': 46.6, 'dewpoint_c': 7.6, 'dewpoint_f': 45.7, 'vis_km': 16.0, 'vis_miles': 9.0, 'uv': 0.0, 'gust_mph': 3.4, 'gust_kph': 5.4}}\", 'score': 0.8343956}, {'title': 'Weather Forecast and Conditions for San Francisco, CA', 'url': 'https://weather.com/weather/today/l/San+Francisco+CA+USCA0987:1:US', 'content': 'Weather Forecast and Conditions for San Francisco, CA - The Weather Channel | Weather.com Weather Forecasts ### 2 pm 56° Chance of Rain2% ### 3 pm 57° Chance of Rain2% ### 4 pm 56° Chance of Rain2% ### 5 pm 55° Chance of Rain2% Blithedale Canyon / Middle Ridge Neighbor 2d ago 6reactions10commentsMoreGirl Scout Cookie sale: corner of Whole Foods on Miller / Evergreen.575 Ethel Ave. 2/15 Sat.10:30am- 12noon ~ come on out and get some sweet treats for yourself or gift / donate a box of cookies! ### Seasonal Allergies and Pollen Count Forecast Tree pollen is moderate in your area### Cold & Flu Forecast Flu risk is high in your area Weather Data APIs', 'score': 0.42993253}]\n"
     ]
    },
    {
     "name": "stdout",
     "output_type": "stream",
     "text": [
      "action tavily_search_results_json, result: [{'title': 'Weather in san francisco', 'url': 'https://www.weatherapi.com/', 'content': \"{'location': {'name': 'San Francisco', 'region': 'California', 'country': 'United States of America', 'lat': 37.775, 'lon': -122.4183, 'tz_id': 'America/Los_Angeles', 'localtime_epoch': 1741428354, 'localtime': '2025-03-08 02:05'}, 'current': {'last_updated_epoch': 1741428000, 'last_updated': '2025-03-08 02:00', 'temp_c': 7.2, 'temp_f': 45.0, 'is_day': 0, 'condition': {'text': 'Partly cloudy', 'icon': '//cdn.weatherapi.com/weather/64x64/night/116.png', 'code': 1003}, 'wind_mph': 2.2, 'wind_kph': 3.6, 'wind_degree': 249, 'wind_dir': 'WSW', 'pressure_mb': 1024.0, 'pressure_in': 30.25, 'precip_mm': 0.0, 'precip_in': 0.0, 'humidity': 90, 'cloud': 25, 'feelslike_c': 7.1, 'feelslike_f': 44.9, 'windchill_c': 7.3, 'windchill_f': 45.2, 'heatindex_c': 8.1, 'heatindex_f': 46.6, 'dewpoint_c': 7.6, 'dewpoint_f': 45.7, 'vis_km': 16.0, 'vis_miles': 9.0, 'uv': 0.0, 'gust_mph': 3.4, 'gust_kph': 5.4}}\", 'score': 0.8343956}, {'title': 'Weather Forecast and Conditions for San Francisco, CA', 'url': 'https://weather.com/weather/today/l/San+Francisco+CA+USCA0987:1:US', 'content': 'Weather Forecast and Conditions for San Francisco, CA - The Weather Channel | Weather.com Weather Forecasts ### 2 pm 56° Chance of Rain2% ### 3 pm 57° Chance of Rain2% ### 4 pm 56° Chance of Rain2% ### 5 pm 55° Chance of Rain2% Blithedale Canyon / Middle Ridge Neighbor 2d ago 6reactions10commentsMoreGirl Scout Cookie sale: corner of Whole Foods on Miller / Evergreen.575 Ethel Ave. 2/15 Sat.10:30am- 12noon ~ come on out and get some sweet treats for yourself or gift / donate a box of cookies! ### Seasonal Allergies and Pollen Count Forecast Tree pollen is moderate in your area### Cold & Flu Forecast Flu risk is high in your area Weather Data APIs', 'score': 0.42993253}]\n",
      "Back to the model!\n",
      "2025-03-08 18:22:03,490 - \u001b[1;36mINFO\u001b[0m - state: {'messages': [HumanMessage(content='What is the weather in sf?', additional_kwargs={}, response_metadata={}), AIMessage(content='', additional_kwargs={}, response_metadata={'model': 'qwen2.5:7b', 'created_at': '2025-03-08T10:22:01.706173Z', 'done': True, 'done_reason': 'stop', 'total_duration': 5087081333, 'load_duration': 563421083, 'prompt_eval_count': 244, 'prompt_eval_duration': 3201000000, 'eval_count': 26, 'eval_duration': 1087000000, 'message': Message(role='assistant', content='', images=None, tool_calls=None)}, id='run-4af02844-7329-4166-a069-ffc673b749c1-0', tool_calls=[{'name': 'tavily_search_results_json', 'args': {'query': 'weather in sf'}, 'id': '4943bf01-21d4-4d92-bc07-0d24c4433b34', 'type': 'tool_call'}], usage_metadata={'input_tokens': 244, 'output_tokens': 26, 'total_tokens': 270}), ToolMessage(content='[{\\'title\\': \\'Weather in san francisco\\', \\'url\\': \\'https://www.weatherapi.com/\\', \\'content\\': \"{\\'location\\': {\\'name\\': \\'San Francisco\\', \\'region\\': \\'California\\', \\'country\\': \\'United States of America\\', \\'lat\\': 37.775, \\'lon\\': -122.4183, \\'tz_id\\': \\'America/Los_Angeles\\', \\'localtime_epoch\\': 1741428354, \\'localtime\\': \\'2025-03-08 02:05\\'}, \\'current\\': {\\'last_updated_epoch\\': 1741428000, \\'last_updated\\': \\'2025-03-08 02:00\\', \\'temp_c\\': 7.2, \\'temp_f\\': 45.0, \\'is_day\\': 0, \\'condition\\': {\\'text\\': \\'Partly cloudy\\', \\'icon\\': \\'//cdn.weatherapi.com/weather/64x64/night/116.png\\', \\'code\\': 1003}, \\'wind_mph\\': 2.2, \\'wind_kph\\': 3.6, \\'wind_degree\\': 249, \\'wind_dir\\': \\'WSW\\', \\'pressure_mb\\': 1024.0, \\'pressure_in\\': 30.25, \\'precip_mm\\': 0.0, \\'precip_in\\': 0.0, \\'humidity\\': 90, \\'cloud\\': 25, \\'feelslike_c\\': 7.1, \\'feelslike_f\\': 44.9, \\'windchill_c\\': 7.3, \\'windchill_f\\': 45.2, \\'heatindex_c\\': 8.1, \\'heatindex_f\\': 46.6, \\'dewpoint_c\\': 7.6, \\'dewpoint_f\\': 45.7, \\'vis_km\\': 16.0, \\'vis_miles\\': 9.0, \\'uv\\': 0.0, \\'gust_mph\\': 3.4, \\'gust_kph\\': 5.4}}\", \\'score\\': 0.8343956}, {\\'title\\': \\'Weather Forecast and Conditions for San Francisco, CA\\', \\'url\\': \\'https://weather.com/weather/today/l/San+Francisco+CA+USCA0987:1:US\\', \\'content\\': \\'Weather Forecast and Conditions for San Francisco, CA - The Weather Channel | Weather.com Weather Forecasts ### 2 pm 56° Chance of Rain2% ### 3 pm 57° Chance of Rain2% ### 4 pm 56° Chance of Rain2% ### 5 pm 55° Chance of Rain2% Blithedale Canyon / Middle Ridge Neighbor 2d ago 6reactions10commentsMoreGirl Scout Cookie sale: corner of Whole Foods on Miller / Evergreen.575 Ethel Ave. 2/15 Sat.10:30am- 12noon ~ come on out and get some sweet treats for yourself or gift / donate a box of cookies! ### Seasonal Allergies and Pollen Count Forecast Tree pollen is moderate in your area### Cold & Flu Forecast Flu risk is high in your area Weather Data APIs\\', \\'score\\': 0.42993253}]', name='tavily_search_results_json', tool_call_id='4943bf01-21d4-4d92-bc07-0d24c4433b34')]}\n"
     ]
    },
    {
     "name": "stderr",
     "output_type": "stream",
     "text": [
      "INFO:__main__:state: {'messages': [HumanMessage(content='What is the weather in sf?', additional_kwargs={}, response_metadata={}), AIMessage(content='', additional_kwargs={}, response_metadata={'model': 'qwen2.5:7b', 'created_at': '2025-03-08T10:22:01.706173Z', 'done': True, 'done_reason': 'stop', 'total_duration': 5087081333, 'load_duration': 563421083, 'prompt_eval_count': 244, 'prompt_eval_duration': 3201000000, 'eval_count': 26, 'eval_duration': 1087000000, 'message': Message(role='assistant', content='', images=None, tool_calls=None)}, id='run-4af02844-7329-4166-a069-ffc673b749c1-0', tool_calls=[{'name': 'tavily_search_results_json', 'args': {'query': 'weather in sf'}, 'id': '4943bf01-21d4-4d92-bc07-0d24c4433b34', 'type': 'tool_call'}], usage_metadata={'input_tokens': 244, 'output_tokens': 26, 'total_tokens': 270}), ToolMessage(content='[{\\'title\\': \\'Weather in san francisco\\', \\'url\\': \\'https://www.weatherapi.com/\\', \\'content\\': \"{\\'location\\': {\\'name\\': \\'San Francisco\\', \\'region\\': \\'California\\', \\'country\\': \\'United States of America\\', \\'lat\\': 37.775, \\'lon\\': -122.4183, \\'tz_id\\': \\'America/Los_Angeles\\', \\'localtime_epoch\\': 1741428354, \\'localtime\\': \\'2025-03-08 02:05\\'}, \\'current\\': {\\'last_updated_epoch\\': 1741428000, \\'last_updated\\': \\'2025-03-08 02:00\\', \\'temp_c\\': 7.2, \\'temp_f\\': 45.0, \\'is_day\\': 0, \\'condition\\': {\\'text\\': \\'Partly cloudy\\', \\'icon\\': \\'//cdn.weatherapi.com/weather/64x64/night/116.png\\', \\'code\\': 1003}, \\'wind_mph\\': 2.2, \\'wind_kph\\': 3.6, \\'wind_degree\\': 249, \\'wind_dir\\': \\'WSW\\', \\'pressure_mb\\': 1024.0, \\'pressure_in\\': 30.25, \\'precip_mm\\': 0.0, \\'precip_in\\': 0.0, \\'humidity\\': 90, \\'cloud\\': 25, \\'feelslike_c\\': 7.1, \\'feelslike_f\\': 44.9, \\'windchill_c\\': 7.3, \\'windchill_f\\': 45.2, \\'heatindex_c\\': 8.1, \\'heatindex_f\\': 46.6, \\'dewpoint_c\\': 7.6, \\'dewpoint_f\\': 45.7, \\'vis_km\\': 16.0, \\'vis_miles\\': 9.0, \\'uv\\': 0.0, \\'gust_mph\\': 3.4, \\'gust_kph\\': 5.4}}\", \\'score\\': 0.8343956}, {\\'title\\': \\'Weather Forecast and Conditions for San Francisco, CA\\', \\'url\\': \\'https://weather.com/weather/today/l/San+Francisco+CA+USCA0987:1:US\\', \\'content\\': \\'Weather Forecast and Conditions for San Francisco, CA - The Weather Channel | Weather.com Weather Forecasts ### 2 pm 56° Chance of Rain2% ### 3 pm 57° Chance of Rain2% ### 4 pm 56° Chance of Rain2% ### 5 pm 55° Chance of Rain2% Blithedale Canyon / Middle Ridge Neighbor 2d ago 6reactions10commentsMoreGirl Scout Cookie sale: corner of Whole Foods on Miller / Evergreen.575 Ethel Ave. 2/15 Sat.10:30am- 12noon ~ come on out and get some sweet treats for yourself or gift / donate a box of cookies! ### Seasonal Allergies and Pollen Count Forecast Tree pollen is moderate in your area### Cold & Flu Forecast Flu risk is high in your area Weather Data APIs\\', \\'score\\': 0.42993253}]', name='tavily_search_results_json', tool_call_id='4943bf01-21d4-4d92-bc07-0d24c4433b34')]}\n",
      "INFO:httpx:HTTP Request: POST http://127.0.0.1:11434/api/chat \"HTTP/1.1 200 OK\"\n"
     ]
    },
    {
     "name": "stdout",
     "output_type": "stream",
     "text": [
      "2025-03-08 18:22:10,890 - \u001b[1;36mINFO\u001b[0m - LLM message: content=\"The current weather in San Francisco, CA is partly cloudy with a temperature of 7.2°C (45°F). The wind speed is at 2.2 mph coming from the southwest direction. The humidity level is 90%, and there's no precipitation currently observed.\\n\\nFor more detailed information or future forecasts, you can visit [WeatherAPI](https://www.weatherapi.com/).\" additional_kwargs={} response_metadata={'model': 'qwen2.5:7b', 'created_at': '2025-03-08T10:22:10.878585Z', 'done': True, 'done_reason': 'stop', 'total_duration': 7379557458, 'load_duration': 39138458, 'prompt_eval_count': 1022, 'prompt_eval_duration': 3745000000, 'eval_count': 81, 'eval_duration': 3573000000, 'message': Message(role='assistant', content=\"The current weather in San Francisco, CA is partly cloudy with a temperature of 7.2°C (45°F). The wind speed is at 2.2 mph coming from the southwest direction. The humidity level is 90%, and there's no precipitation currently observed.\\n\\nFor more detailed information or future forecasts, you can visit [WeatherAPI](https://www.weatherapi.com/).\", images=None, tool_calls=None)} id='run-1b80b44c-d91f-4730-a495-ece91695f0bd-0' usage_metadata={'input_tokens': 1022, 'output_tokens': 81, 'total_tokens': 1103}\n"
     ]
    },
    {
     "name": "stderr",
     "output_type": "stream",
     "text": [
      "INFO:__main__:LLM message: content=\"The current weather in San Francisco, CA is partly cloudy with a temperature of 7.2°C (45°F). The wind speed is at 2.2 mph coming from the southwest direction. The humidity level is 90%, and there's no precipitation currently observed.\\n\\nFor more detailed information or future forecasts, you can visit [WeatherAPI](https://www.weatherapi.com/).\" additional_kwargs={} response_metadata={'model': 'qwen2.5:7b', 'created_at': '2025-03-08T10:22:10.878585Z', 'done': True, 'done_reason': 'stop', 'total_duration': 7379557458, 'load_duration': 39138458, 'prompt_eval_count': 1022, 'prompt_eval_duration': 3745000000, 'eval_count': 81, 'eval_duration': 3573000000, 'message': Message(role='assistant', content=\"The current weather in San Francisco, CA is partly cloudy with a temperature of 7.2°C (45°F). The wind speed is at 2.2 mph coming from the southwest direction. The humidity level is 90%, and there's no precipitation currently observed.\\n\\nFor more detailed information or future forecasts, you can visit [WeatherAPI](https://www.weatherapi.com/).\", images=None, tool_calls=None)} id='run-1b80b44c-d91f-4730-a495-ece91695f0bd-0' usage_metadata={'input_tokens': 1022, 'output_tokens': 81, 'total_tokens': 1103}\n"
     ]
    },
    {
     "name": "stdout",
     "output_type": "stream",
     "text": [
      "2025-03-08 18:22:10,892 - \u001b[1;36mINFO\u001b[0m - exists_action result: content=\"The current weather in San Francisco, CA is partly cloudy with a temperature of 7.2°C (45°F). The wind speed is at 2.2 mph coming from the southwest direction. The humidity level is 90%, and there's no precipitation currently observed.\\n\\nFor more detailed information or future forecasts, you can visit [WeatherAPI](https://www.weatherapi.com/).\" additional_kwargs={} response_metadata={'model': 'qwen2.5:7b', 'created_at': '2025-03-08T10:22:10.878585Z', 'done': True, 'done_reason': 'stop', 'total_duration': 7379557458, 'load_duration': 39138458, 'prompt_eval_count': 1022, 'prompt_eval_duration': 3745000000, 'eval_count': 81, 'eval_duration': 3573000000, 'message': Message(role='assistant', content=\"The current weather in San Francisco, CA is partly cloudy with a temperature of 7.2°C (45°F). The wind speed is at 2.2 mph coming from the southwest direction. The humidity level is 90%, and there's no precipitation currently observed.\\n\\nFor more detailed information or future forecasts, you can visit [WeatherAPI](https://www.weatherapi.com/).\", images=None, tool_calls=None)} id='run-1b80b44c-d91f-4730-a495-ece91695f0bd-0' usage_metadata={'input_tokens': 1022, 'output_tokens': 81, 'total_tokens': 1103}\n"
     ]
    },
    {
     "name": "stderr",
     "output_type": "stream",
     "text": [
      "INFO:__main__:exists_action result: content=\"The current weather in San Francisco, CA is partly cloudy with a temperature of 7.2°C (45°F). The wind speed is at 2.2 mph coming from the southwest direction. The humidity level is 90%, and there's no precipitation currently observed.\\n\\nFor more detailed information or future forecasts, you can visit [WeatherAPI](https://www.weatherapi.com/).\" additional_kwargs={} response_metadata={'model': 'qwen2.5:7b', 'created_at': '2025-03-08T10:22:10.878585Z', 'done': True, 'done_reason': 'stop', 'total_duration': 7379557458, 'load_duration': 39138458, 'prompt_eval_count': 1022, 'prompt_eval_duration': 3745000000, 'eval_count': 81, 'eval_duration': 3573000000, 'message': Message(role='assistant', content=\"The current weather in San Francisco, CA is partly cloudy with a temperature of 7.2°C (45°F). The wind speed is at 2.2 mph coming from the southwest direction. The humidity level is 90%, and there's no precipitation currently observed.\\n\\nFor more detailed information or future forecasts, you can visit [WeatherAPI](https://www.weatherapi.com/).\", images=None, tool_calls=None)} id='run-1b80b44c-d91f-4730-a495-ece91695f0bd-0' usage_metadata={'input_tokens': 1022, 'output_tokens': 81, 'total_tokens': 1103}\n"
     ]
    }
   ],
   "source": [
    "messages = [\n",
    "    HumanMessage(\n",
    "        content=\"What is the weather in sf?\"\n",
    "    )\n",
    "]\n",
    "result = abot.graph.invoke({'messages': messages})"
   ]
  },
  {
   "cell_type": "code",
   "execution_count": null,
   "metadata": {},
   "outputs": [],
   "source": []
  },
  {
   "cell_type": "code",
   "execution_count": null,
   "metadata": {},
   "outputs": [],
   "source": []
  },
  {
   "cell_type": "code",
   "execution_count": null,
   "metadata": {},
   "outputs": [],
   "source": []
  },
  {
   "cell_type": "code",
   "execution_count": null,
   "metadata": {},
   "outputs": [],
   "source": []
  },
  {
   "cell_type": "code",
   "execution_count": null,
   "metadata": {},
   "outputs": [],
   "source": []
  },
  {
   "cell_type": "code",
   "execution_count": null,
   "metadata": {},
   "outputs": [],
   "source": []
  },
  {
   "cell_type": "code",
   "execution_count": null,
   "metadata": {},
   "outputs": [],
   "source": []
  },
  {
   "cell_type": "code",
   "execution_count": null,
   "metadata": {},
   "outputs": [],
   "source": []
  },
  {
   "cell_type": "code",
   "execution_count": null,
   "metadata": {},
   "outputs": [],
   "source": []
  },
  {
   "cell_type": "code",
   "execution_count": null,
   "metadata": {},
   "outputs": [],
   "source": []
  },
  {
   "cell_type": "code",
   "execution_count": null,
   "metadata": {},
   "outputs": [],
   "source": []
  },
  {
   "cell_type": "code",
   "execution_count": null,
   "metadata": {},
   "outputs": [],
   "source": []
  },
  {
   "cell_type": "code",
   "execution_count": null,
   "metadata": {},
   "outputs": [],
   "source": []
  },
  {
   "cell_type": "code",
   "execution_count": null,
   "metadata": {},
   "outputs": [],
   "source": []
  },
  {
   "cell_type": "code",
   "execution_count": null,
   "metadata": {},
   "outputs": [],
   "source": []
  },
  {
   "cell_type": "code",
   "execution_count": null,
   "metadata": {},
   "outputs": [],
   "source": []
  },
  {
   "cell_type": "code",
   "execution_count": null,
   "metadata": {},
   "outputs": [],
   "source": []
  },
  {
   "cell_type": "code",
   "execution_count": null,
   "metadata": {},
   "outputs": [],
   "source": []
  },
  {
   "cell_type": "code",
   "execution_count": null,
   "metadata": {},
   "outputs": [],
   "source": []
  },
  {
   "cell_type": "code",
   "execution_count": null,
   "metadata": {},
   "outputs": [],
   "source": []
  },
  {
   "cell_type": "code",
   "execution_count": null,
   "metadata": {},
   "outputs": [],
   "source": []
  },
  {
   "cell_type": "code",
   "execution_count": null,
   "metadata": {},
   "outputs": [],
   "source": []
  },
  {
   "cell_type": "code",
   "execution_count": null,
   "metadata": {},
   "outputs": [],
   "source": []
  },
  {
   "cell_type": "code",
   "execution_count": null,
   "metadata": {},
   "outputs": [],
   "source": []
  },
  {
   "cell_type": "code",
   "execution_count": null,
   "metadata": {},
   "outputs": [],
   "source": []
  },
  {
   "cell_type": "code",
   "execution_count": null,
   "metadata": {},
   "outputs": [],
   "source": []
  },
  {
   "cell_type": "code",
   "execution_count": null,
   "metadata": {},
   "outputs": [],
   "source": []
  }
 ],
 "metadata": {
  "kernelspec": {
   "display_name": "LangChain",
   "language": "python",
   "name": "python3"
  },
  "language_info": {
   "codemirror_mode": {
    "name": "ipython",
    "version": 3
   },
   "file_extension": ".py",
   "mimetype": "text/x-python",
   "name": "python",
   "nbconvert_exporter": "python",
   "pygments_lexer": "ipython3",
   "version": "3.10.16"
  }
 },
 "nbformat": 4,
 "nbformat_minor": 2
}
